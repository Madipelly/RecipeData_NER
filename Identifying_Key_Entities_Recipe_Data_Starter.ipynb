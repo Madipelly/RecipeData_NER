{
  "cells": [
    {
      "cell_type": "markdown",
      "metadata": {
        "id": "42UBKEnat_xo"
      },
      "source": [
        "# **Identifying Key Entities in Recipe Data**"
      ]
    },
    {
      "cell_type": "markdown",
      "metadata": {
        "id": "Pme3h_fduOKh"
      },
      "source": [
        "\n",
        "**Business Objective**:\n",
        "The goal of this assignment is to train a Named Entity Recognition (NER) model using Conditional Random Fields (CRF) to extract key entities from recipe data. The model will classify words into predefined categories such as ingredients, quantities and units, enabling the creation of a structured database of recipes and ingredients that can be used to power advanced features in recipe management systems, dietary tracking apps, or e-commerce platforms."
      ]
    },
    {
      "cell_type": "markdown",
      "metadata": {
        "id": "FXzoAs8evNG0"
      },
      "source": [
        "### **Data Description**\n",
        "The given data is in JSON format, representing a **structured recipe ingredient list** with **Named Entity Recognition (NER) labels**. Below is a breakdown of the data fields:\n",
        "\n",
        "```json\n",
        "[\n",
        "    {\n",
        "        \"input\": \"6 Karela Bitter Gourd Pavakkai Salt 1 Onion 3 tablespoon Gram flour besan 2 teaspoons Turmeric powder Haldi Red Chilli Cumin seeds Jeera Coriander Powder Dhania Amchur Dry Mango Sunflower Oil\",\n",
        "        \"pos\": \"quantity ingredient ingredient ingredient ingredient ingredient quantity ingredient quantity unit ingredient ingredient ingredient quantity unit ingredient ingredient ingredient ingredient ingredient ingredient ingredient ingredient ingredient ingredient ingredient ingredient ingredient ingredient ingredient ingredient\"\n",
        "    },\n",
        "    {\n",
        "      \"input\": \"2-1/2 cups rice cooked 3 tomatoes teaspoons BC Belle Bhat powder 1 teaspoon chickpea lentils 1/2 cumin seeds white urad dal mustard green chilli dry red 2 cashew or peanuts 1-1/2 tablespoon oil asafoetida\",\n",
        "      \"pos\": \"quantity unit ingredient ingredient quantity ingredient unit ingredient ingredient ingredient ingredient quantity unit ingredient ingredient quantity ingredient ingredient ingredient ingredient ingredient ingredient ingredient ingredient ingredient ingredient quantity ingredient ingredient ingredient quantity unit ingredient ingredient\"\n",
        "    }\n",
        "]\n"
      ]
    },
    {
      "cell_type": "markdown",
      "metadata": {
        "id": "LSDcNvJlwC6N"
      },
      "source": [
        "| **Key**  | **Description**  |\n",
        "|----------|-----------------|\n",
        "| `input`  | Contains a raw ingredient list from a recipe. |\n",
        "| `pos`    | Represents the corresponding part-of-speech (POS) tags or NER labels, identifying quantities, ingredients, and units. |\n"
      ]
    },
    {
      "cell_type": "markdown",
      "metadata": {
        "id": "phenosA4se1c"
      },
      "source": [
        "## **1** Import libraries"
      ]
    },
    {
      "cell_type": "markdown",
      "metadata": {
        "id": "Br-jQHin3kQX"
      },
      "source": [
        "#### **1.1** Installation of sklearn-crfsuite"
      ]
    },
    {
      "cell_type": "markdown",
      "metadata": {
        "id": "DPhaJSfCwpfa"
      },
      "source": [
        "sklearn-crfsuite is a Python wrapper for CRFsuite, a fast and efficient implementation of Conditional Random Fields (CRFs). It is designed to integrate seamlessly with scikit-learn for structured prediction tasks such as Named Entity Recognition (NER), Part-of-Speech (POS) tagging, and chunking."
      ]
    },
    {
      "cell_type": "code",
      "execution_count": null,
      "metadata": {
        "id": "_QawokgQXAMO",
        "colab": {
          "base_uri": "https://localhost:8080/"
        },
        "outputId": "abaa32d8-301b-4575-af2a-983594486055"
      },
      "outputs": [
        {
          "output_type": "stream",
          "name": "stdout",
          "text": [
            "Collecting sklearn_crfsuite==0.5.0\n",
            "  Downloading sklearn_crfsuite-0.5.0-py2.py3-none-any.whl.metadata (4.9 kB)\n",
            "Collecting python-crfsuite>=0.9.7 (from sklearn_crfsuite==0.5.0)\n",
            "  Downloading python_crfsuite-0.9.11-cp311-cp311-manylinux_2_17_x86_64.manylinux2014_x86_64.whl.metadata (4.3 kB)\n",
            "Requirement already satisfied: scikit-learn>=0.24.0 in /usr/local/lib/python3.11/dist-packages (from sklearn_crfsuite==0.5.0) (1.6.1)\n",
            "Requirement already satisfied: tabulate>=0.4.2 in /usr/local/lib/python3.11/dist-packages (from sklearn_crfsuite==0.5.0) (0.9.0)\n",
            "Requirement already satisfied: tqdm>=2.0 in /usr/local/lib/python3.11/dist-packages (from sklearn_crfsuite==0.5.0) (4.67.1)\n",
            "Requirement already satisfied: numpy>=1.19.5 in /usr/local/lib/python3.11/dist-packages (from scikit-learn>=0.24.0->sklearn_crfsuite==0.5.0) (2.0.2)\n",
            "Requirement already satisfied: scipy>=1.6.0 in /usr/local/lib/python3.11/dist-packages (from scikit-learn>=0.24.0->sklearn_crfsuite==0.5.0) (1.15.2)\n",
            "Requirement already satisfied: joblib>=1.2.0 in /usr/local/lib/python3.11/dist-packages (from scikit-learn>=0.24.0->sklearn_crfsuite==0.5.0) (1.4.2)\n",
            "Requirement already satisfied: threadpoolctl>=3.1.0 in /usr/local/lib/python3.11/dist-packages (from scikit-learn>=0.24.0->sklearn_crfsuite==0.5.0) (3.6.0)\n",
            "Downloading sklearn_crfsuite-0.5.0-py2.py3-none-any.whl (10 kB)\n",
            "Downloading python_crfsuite-0.9.11-cp311-cp311-manylinux_2_17_x86_64.manylinux2014_x86_64.whl (1.3 MB)\n",
            "\u001b[2K   \u001b[90m━━━━━━━━━━━━━━━━━━━━━━━━━━━━━━━━━━━━━━━━\u001b[0m \u001b[32m1.3/1.3 MB\u001b[0m \u001b[31m11.6 MB/s\u001b[0m eta \u001b[36m0:00:00\u001b[0m\n",
            "\u001b[?25hInstalling collected packages: python-crfsuite, sklearn_crfsuite\n",
            "Successfully installed python-crfsuite-0.9.11 sklearn_crfsuite-0.5.0\n"
          ]
        }
      ],
      "source": [
        "# installation of sklearn_crfsuite\n",
        "!pip install sklearn_crfsuite==0.5.0"
      ]
    },
    {
      "cell_type": "markdown",
      "metadata": {
        "id": "svqZwrHT3rzV"
      },
      "source": [
        "#### **1.2** Import necessary libraries"
      ]
    },
    {
      "cell_type": "code",
      "execution_count": null,
      "metadata": {
        "id": "v2zLbaB0w1ZH"
      },
      "outputs": [],
      "source": [
        "# Import warnings\n",
        "import warnings\n",
        "warnings.filterwarnings('ignore')"
      ]
    },
    {
      "cell_type": "code",
      "execution_count": null,
      "metadata": {
        "id": "0hlp-Ln4WsaV"
      },
      "outputs": [],
      "source": [
        "# Import necessary libraries\n",
        "import json  # For handling JSON data\n",
        "import pandas as pd  # For data manipulation and analysis\n",
        "import re  # For regular expressions (useful for text preprocessing)\n",
        "import matplotlib.pyplot as plt  # For visualisation\n",
        "import seaborn as sns  # For advanced data visualisation\n",
        "import sklearn_crfsuite  # CRF (Conditional Random Fields) implementation for sequence modeling\n",
        "import numpy as np  # For numerical computations\n",
        "# Saving and loading machine learning models\n",
        "import joblib\n",
        "import random\n",
        "import spacy\n",
        "from IPython.display import display, Markdown # For displaying well-formatted output\n",
        "\n",
        "from fractions import Fraction  # For handling fractional values in numerical data\n",
        "# Importing tools for feature engineering and model training\n",
        "from collections import Counter  # For counting occurrences of elements in a list\n",
        "from sklearn.model_selection import train_test_split  # For splitting dataset into train and test sets\n",
        "from sklearn_crfsuite import metrics  # For evaluating CRF models\n",
        "from sklearn_crfsuite.metrics import flat_classification_report\n",
        "from sklearn.utils.class_weight import compute_class_weight\n",
        "from collections import Counter\n",
        "from sklearn.metrics import confusion_matrix"
      ]
    },
    {
      "cell_type": "code",
      "execution_count": null,
      "metadata": {
        "id": "k3_LR6N_2cli"
      },
      "outputs": [],
      "source": [
        "# Ensure pandas displays full content\n",
        "pd.set_option('display.max_colwidth', None)\n",
        "pd.set_option('display.expand_frame_repr', False)"
      ]
    },
    {
      "cell_type": "markdown",
      "metadata": {
        "id": "fUOu_u0fyMfh"
      },
      "source": [
        "## **2** Data Ingestion and Preparation <font color = red>[25 marks]</font> <br>"
      ]
    },
    {
      "cell_type": "markdown",
      "metadata": {
        "id": "-ksMVNgeyiLN"
      },
      "source": [
        "#### **2.1** *Read Recipe Data from Dataframe and prepare the data for analysis* <font color = red>[12 marks]</font> <br>\n",
        "Read the data from JSON file, print first five rows and describe the dataframe"
      ]
    },
    {
      "cell_type": "markdown",
      "metadata": {
        "id": "kxn28jL3z4GY"
      },
      "source": [
        "##### **2.1.1** **Define a *load_json_dataframe* function** <font color = red>[7 marks]</font> <br>\n",
        "\n",
        "Define a function that takes path of the ingredient_and_quantity.json file and reads it, convert it into dataframe - df and return it."
      ]
    },
    {
      "cell_type": "code",
      "execution_count": 15,
      "metadata": {
        "id": "dq6UgUYcPyOL"
      },
      "outputs": [],
      "source": [
        "# define a function to load json file to a dataframe\n",
        "def load_json_dataframe(filepath):\n",
        "    # Open and load the JSON file\n",
        "    with open(filepath, 'r') as file:\n",
        "        data = json.load(file)\n",
        "\n",
        "    # Convert the JSON data to a DataFrame\n",
        "    df = pd.DataFrame(data)\n",
        "    return df"
      ]
    },
    {
      "cell_type": "markdown",
      "metadata": {
        "id": "1NlhkH_605IA"
      },
      "source": [
        "##### **2.1.2** **Execute the *load_json_dataframe* function** <font color = red>[2 marks]</font> <br>"
      ]
    },
    {
      "cell_type": "code",
      "source": [
        "from google.colab import files\n",
        "\n",
        "uploaded = files.upload()"
      ],
      "metadata": {
        "colab": {
          "base_uri": "https://localhost:8080/",
          "height": 73
        },
        "id": "LAvkLyim9FEm",
        "outputId": "9689b6e8-029f-4fad-96da-97c628272bc0"
      },
      "execution_count": 16,
      "outputs": [
        {
          "output_type": "display_data",
          "data": {
            "text/plain": [
              "<IPython.core.display.HTML object>"
            ],
            "text/html": [
              "\n",
              "     <input type=\"file\" id=\"files-2666a2e2-8cd2-47a2-a08b-d341be036e72\" name=\"files[]\" multiple disabled\n",
              "        style=\"border:none\" />\n",
              "     <output id=\"result-2666a2e2-8cd2-47a2-a08b-d341be036e72\">\n",
              "      Upload widget is only available when the cell has been executed in the\n",
              "      current browser session. Please rerun this cell to enable.\n",
              "      </output>\n",
              "      <script>// Copyright 2017 Google LLC\n",
              "//\n",
              "// Licensed under the Apache License, Version 2.0 (the \"License\");\n",
              "// you may not use this file except in compliance with the License.\n",
              "// You may obtain a copy of the License at\n",
              "//\n",
              "//      http://www.apache.org/licenses/LICENSE-2.0\n",
              "//\n",
              "// Unless required by applicable law or agreed to in writing, software\n",
              "// distributed under the License is distributed on an \"AS IS\" BASIS,\n",
              "// WITHOUT WARRANTIES OR CONDITIONS OF ANY KIND, either express or implied.\n",
              "// See the License for the specific language governing permissions and\n",
              "// limitations under the License.\n",
              "\n",
              "/**\n",
              " * @fileoverview Helpers for google.colab Python module.\n",
              " */\n",
              "(function(scope) {\n",
              "function span(text, styleAttributes = {}) {\n",
              "  const element = document.createElement('span');\n",
              "  element.textContent = text;\n",
              "  for (const key of Object.keys(styleAttributes)) {\n",
              "    element.style[key] = styleAttributes[key];\n",
              "  }\n",
              "  return element;\n",
              "}\n",
              "\n",
              "// Max number of bytes which will be uploaded at a time.\n",
              "const MAX_PAYLOAD_SIZE = 100 * 1024;\n",
              "\n",
              "function _uploadFiles(inputId, outputId) {\n",
              "  const steps = uploadFilesStep(inputId, outputId);\n",
              "  const outputElement = document.getElementById(outputId);\n",
              "  // Cache steps on the outputElement to make it available for the next call\n",
              "  // to uploadFilesContinue from Python.\n",
              "  outputElement.steps = steps;\n",
              "\n",
              "  return _uploadFilesContinue(outputId);\n",
              "}\n",
              "\n",
              "// This is roughly an async generator (not supported in the browser yet),\n",
              "// where there are multiple asynchronous steps and the Python side is going\n",
              "// to poll for completion of each step.\n",
              "// This uses a Promise to block the python side on completion of each step,\n",
              "// then passes the result of the previous step as the input to the next step.\n",
              "function _uploadFilesContinue(outputId) {\n",
              "  const outputElement = document.getElementById(outputId);\n",
              "  const steps = outputElement.steps;\n",
              "\n",
              "  const next = steps.next(outputElement.lastPromiseValue);\n",
              "  return Promise.resolve(next.value.promise).then((value) => {\n",
              "    // Cache the last promise value to make it available to the next\n",
              "    // step of the generator.\n",
              "    outputElement.lastPromiseValue = value;\n",
              "    return next.value.response;\n",
              "  });\n",
              "}\n",
              "\n",
              "/**\n",
              " * Generator function which is called between each async step of the upload\n",
              " * process.\n",
              " * @param {string} inputId Element ID of the input file picker element.\n",
              " * @param {string} outputId Element ID of the output display.\n",
              " * @return {!Iterable<!Object>} Iterable of next steps.\n",
              " */\n",
              "function* uploadFilesStep(inputId, outputId) {\n",
              "  const inputElement = document.getElementById(inputId);\n",
              "  inputElement.disabled = false;\n",
              "\n",
              "  const outputElement = document.getElementById(outputId);\n",
              "  outputElement.innerHTML = '';\n",
              "\n",
              "  const pickedPromise = new Promise((resolve) => {\n",
              "    inputElement.addEventListener('change', (e) => {\n",
              "      resolve(e.target.files);\n",
              "    });\n",
              "  });\n",
              "\n",
              "  const cancel = document.createElement('button');\n",
              "  inputElement.parentElement.appendChild(cancel);\n",
              "  cancel.textContent = 'Cancel upload';\n",
              "  const cancelPromise = new Promise((resolve) => {\n",
              "    cancel.onclick = () => {\n",
              "      resolve(null);\n",
              "    };\n",
              "  });\n",
              "\n",
              "  // Wait for the user to pick the files.\n",
              "  const files = yield {\n",
              "    promise: Promise.race([pickedPromise, cancelPromise]),\n",
              "    response: {\n",
              "      action: 'starting',\n",
              "    }\n",
              "  };\n",
              "\n",
              "  cancel.remove();\n",
              "\n",
              "  // Disable the input element since further picks are not allowed.\n",
              "  inputElement.disabled = true;\n",
              "\n",
              "  if (!files) {\n",
              "    return {\n",
              "      response: {\n",
              "        action: 'complete',\n",
              "      }\n",
              "    };\n",
              "  }\n",
              "\n",
              "  for (const file of files) {\n",
              "    const li = document.createElement('li');\n",
              "    li.append(span(file.name, {fontWeight: 'bold'}));\n",
              "    li.append(span(\n",
              "        `(${file.type || 'n/a'}) - ${file.size} bytes, ` +\n",
              "        `last modified: ${\n",
              "            file.lastModifiedDate ? file.lastModifiedDate.toLocaleDateString() :\n",
              "                                    'n/a'} - `));\n",
              "    const percent = span('0% done');\n",
              "    li.appendChild(percent);\n",
              "\n",
              "    outputElement.appendChild(li);\n",
              "\n",
              "    const fileDataPromise = new Promise((resolve) => {\n",
              "      const reader = new FileReader();\n",
              "      reader.onload = (e) => {\n",
              "        resolve(e.target.result);\n",
              "      };\n",
              "      reader.readAsArrayBuffer(file);\n",
              "    });\n",
              "    // Wait for the data to be ready.\n",
              "    let fileData = yield {\n",
              "      promise: fileDataPromise,\n",
              "      response: {\n",
              "        action: 'continue',\n",
              "      }\n",
              "    };\n",
              "\n",
              "    // Use a chunked sending to avoid message size limits. See b/62115660.\n",
              "    let position = 0;\n",
              "    do {\n",
              "      const length = Math.min(fileData.byteLength - position, MAX_PAYLOAD_SIZE);\n",
              "      const chunk = new Uint8Array(fileData, position, length);\n",
              "      position += length;\n",
              "\n",
              "      const base64 = btoa(String.fromCharCode.apply(null, chunk));\n",
              "      yield {\n",
              "        response: {\n",
              "          action: 'append',\n",
              "          file: file.name,\n",
              "          data: base64,\n",
              "        },\n",
              "      };\n",
              "\n",
              "      let percentDone = fileData.byteLength === 0 ?\n",
              "          100 :\n",
              "          Math.round((position / fileData.byteLength) * 100);\n",
              "      percent.textContent = `${percentDone}% done`;\n",
              "\n",
              "    } while (position < fileData.byteLength);\n",
              "  }\n",
              "\n",
              "  // All done.\n",
              "  yield {\n",
              "    response: {\n",
              "      action: 'complete',\n",
              "    }\n",
              "  };\n",
              "}\n",
              "\n",
              "scope.google = scope.google || {};\n",
              "scope.google.colab = scope.google.colab || {};\n",
              "scope.google.colab._files = {\n",
              "  _uploadFiles,\n",
              "  _uploadFilesContinue,\n",
              "};\n",
              "})(self);\n",
              "</script> "
            ]
          },
          "metadata": {}
        },
        {
          "output_type": "stream",
          "name": "stdout",
          "text": [
            "Saving ingredient_and_quantity.json to ingredient_and_quantity.json\n"
          ]
        }
      ]
    },
    {
      "cell_type": "code",
      "execution_count": 17,
      "metadata": {
        "id": "UONMkMsrxdxB",
        "colab": {
          "base_uri": "https://localhost:8080/"
        },
        "outputId": "fb0d60a0-07b9-489d-9a5d-24dff50a39ae"
      },
      "outputs": [
        {
          "output_type": "stream",
          "name": "stdout",
          "text": [
            "                                                                                                                                                                                                                                                                                            input                                                                                                                                                                                                                                                                                                                                                                                                                                                                      pos\n",
            "0                                                                                                 6 Karela Bitter Gourd Pavakkai Salt 1 Onion 3 tablespoon Gram flour besan 2 teaspoons Turmeric powder Haldi Red Chilli Cumin seeds Jeera Coriander Powder Dhania Amchur Dry Mango Sunflower Oil                                                                                                                                         quantity ingredient ingredient ingredient ingredient ingredient quantity ingredient quantity unit ingredient ingredient ingredient quantity unit ingredient ingredient ingredient ingredient ingredient ingredient ingredient ingredient ingredient ingredient ingredient ingredient ingredient ingredient ingredient ingredient\n",
            "1                                                                                    2-1/2 cups rice cooked 3 tomatoes teaspoons BC Belle Bhat powder 1 teaspoon chickpea lentils 1/2 cumin seeds white urad dal mustard green chilli dry red 2 cashew or peanuts 1-1/2 tablespoon oil asafoetida                                                                                                                        quantity unit ingredient ingredient quantity ingredient unit ingredient ingredient ingredient ingredient quantity unit ingredient ingredient quantity ingredient ingredient ingredient ingredient ingredient ingredient ingredient ingredient ingredient ingredient quantity ingredient ingredient ingredient quantity unit ingredient ingredient\n",
            "2                                                                  1-1/2 cups Rice Vermicelli Noodles Thin 1 Onion sliced 1/2 cup Carrots Gajjar chopped 1/3 Green peas Matar 2 Chillies 1/4 teaspoon Asafoetida hing Mustard seeds White Urad Dal Split Ghee sprig Curry leaves Salt Lemon juice                                                                                       quantity unit ingredient ingredient ingredient ingredient quantity ingredient ingredient quantity unit ingredient ingredient ingredient quantity ingredient ingredient ingredient quantity ingredient quantity unit ingredient ingredient ingredient ingredient ingredient ingredient ingredient ingredient ingredient unit ingredient ingredient ingredient ingredient ingredient\n",
            "3  500 grams Chicken 2 Onion chopped 1 Tomato 4 Green Chillies slit inch Ginger finely 6 cloves Garlic 1/2 teaspoon Turmeric powder Haldi Garam masala tablespoon Sesame Gingelly Oil 1/4 Methi Seeds Fenugreek Coriander Dhania Dry Red Fennel seeds Saunf cups Sorrel Leaves Gongura picked and  quantity unit ingredient quantity ingredient ingredient quantity ingredient quantity ingredient ingredient ingredient unit ingredient ingredient quantity unit ingredient quantity unit ingredient ingredient ingredient ingredient ingredient unit ingredient ingredient ingredient quantity ingredient ingredient ingredient ingredient ingredient ingredient ingredient ingredient ingredient ingredient unit ingredient ingredient ingredient ingredient ingredient\n",
            "4                                                                                                                                                           1 tablespoon chana dal white urad 2 red chillies coriander seeds 3 inches ginger onion tomato Teaspoon mustard asafoetida sprig curry                                                                                                                                                                                                                                                                 quantity unit ingredient ingredient ingredient ingredient quantity ingredient ingredient ingredient ingredient quantity unit ingredient ingredient ingredient unit ingredient ingredient unit ingredient\n"
          ]
        }
      ],
      "source": [
        "# read the json file by giving the file path and create a dataframe\n",
        "df = load_json_dataframe(\"ingredient_and_quantity.json\")\n",
        "print(df.head())"
      ]
    },
    {
      "cell_type": "markdown",
      "metadata": {
        "id": "_1VkDbev3UHP"
      },
      "source": [
        "##### **2.1.3** **Describe the dataframe** <font color = red>[3 marks]</font> <br>\n",
        "\n",
        "Print first five rows of dataframe along with dimensions. Display the information of dataframe"
      ]
    },
    {
      "cell_type": "code",
      "execution_count": 18,
      "metadata": {
        "id": "yZFj2skZxgpl",
        "colab": {
          "base_uri": "https://localhost:8080/"
        },
        "outputId": "7cf864bf-9285-4f91-c464-ef7fc1a1a891"
      },
      "outputs": [
        {
          "output_type": "stream",
          "name": "stdout",
          "text": [
            "                                                                                                                                                                                                                                                                                            input                                                                                                                                                                                                                                                                                                                                                                                                                                                                      pos\n",
            "0                                                                                                 6 Karela Bitter Gourd Pavakkai Salt 1 Onion 3 tablespoon Gram flour besan 2 teaspoons Turmeric powder Haldi Red Chilli Cumin seeds Jeera Coriander Powder Dhania Amchur Dry Mango Sunflower Oil                                                                                                                                         quantity ingredient ingredient ingredient ingredient ingredient quantity ingredient quantity unit ingredient ingredient ingredient quantity unit ingredient ingredient ingredient ingredient ingredient ingredient ingredient ingredient ingredient ingredient ingredient ingredient ingredient ingredient ingredient ingredient\n",
            "1                                                                                    2-1/2 cups rice cooked 3 tomatoes teaspoons BC Belle Bhat powder 1 teaspoon chickpea lentils 1/2 cumin seeds white urad dal mustard green chilli dry red 2 cashew or peanuts 1-1/2 tablespoon oil asafoetida                                                                                                                        quantity unit ingredient ingredient quantity ingredient unit ingredient ingredient ingredient ingredient quantity unit ingredient ingredient quantity ingredient ingredient ingredient ingredient ingredient ingredient ingredient ingredient ingredient ingredient quantity ingredient ingredient ingredient quantity unit ingredient ingredient\n",
            "2                                                                  1-1/2 cups Rice Vermicelli Noodles Thin 1 Onion sliced 1/2 cup Carrots Gajjar chopped 1/3 Green peas Matar 2 Chillies 1/4 teaspoon Asafoetida hing Mustard seeds White Urad Dal Split Ghee sprig Curry leaves Salt Lemon juice                                                                                       quantity unit ingredient ingredient ingredient ingredient quantity ingredient ingredient quantity unit ingredient ingredient ingredient quantity ingredient ingredient ingredient quantity ingredient quantity unit ingredient ingredient ingredient ingredient ingredient ingredient ingredient ingredient ingredient unit ingredient ingredient ingredient ingredient ingredient\n",
            "3  500 grams Chicken 2 Onion chopped 1 Tomato 4 Green Chillies slit inch Ginger finely 6 cloves Garlic 1/2 teaspoon Turmeric powder Haldi Garam masala tablespoon Sesame Gingelly Oil 1/4 Methi Seeds Fenugreek Coriander Dhania Dry Red Fennel seeds Saunf cups Sorrel Leaves Gongura picked and  quantity unit ingredient quantity ingredient ingredient quantity ingredient quantity ingredient ingredient ingredient unit ingredient ingredient quantity unit ingredient quantity unit ingredient ingredient ingredient ingredient ingredient unit ingredient ingredient ingredient quantity ingredient ingredient ingredient ingredient ingredient ingredient ingredient ingredient ingredient ingredient unit ingredient ingredient ingredient ingredient ingredient\n",
            "4                                                                                                                                                           1 tablespoon chana dal white urad 2 red chillies coriander seeds 3 inches ginger onion tomato Teaspoon mustard asafoetida sprig curry                                                                                                                                                                                                                                                                 quantity unit ingredient ingredient ingredient ingredient quantity ingredient ingredient ingredient ingredient quantity unit ingredient ingredient ingredient unit ingredient ingredient unit ingredient\n"
          ]
        }
      ],
      "source": [
        "# display first five rows of the dataframe - df\n",
        "print(df.head())"
      ]
    },
    {
      "cell_type": "code",
      "execution_count": 19,
      "metadata": {
        "id": "Y7cA28XSx1I1",
        "colab": {
          "base_uri": "https://localhost:8080/"
        },
        "outputId": "ae30a982-73b9-4529-e078-a555aab7218e"
      },
      "outputs": [
        {
          "output_type": "stream",
          "name": "stdout",
          "text": [
            "(285, 2)\n"
          ]
        }
      ],
      "source": [
        "# print the dimensions of dataframe - df\n",
        "print(df.shape)\n"
      ]
    },
    {
      "cell_type": "code",
      "execution_count": 20,
      "metadata": {
        "id": "Q-gsbEhJx2rm",
        "colab": {
          "base_uri": "https://localhost:8080/"
        },
        "outputId": "f7741859-8e20-4669-b43a-2d09574f587d"
      },
      "outputs": [
        {
          "output_type": "stream",
          "name": "stdout",
          "text": [
            "<class 'pandas.core.frame.DataFrame'>\n",
            "RangeIndex: 285 entries, 0 to 284\n",
            "Data columns (total 2 columns):\n",
            " #   Column  Non-Null Count  Dtype \n",
            "---  ------  --------------  ----- \n",
            " 0   input   285 non-null    object\n",
            " 1   pos     285 non-null    object\n",
            "dtypes: object(2)\n",
            "memory usage: 4.6+ KB\n",
            "None\n"
          ]
        }
      ],
      "source": [
        "# print the information of the dataframe\n",
        "print(df.info())"
      ]
    },
    {
      "cell_type": "markdown",
      "metadata": {
        "id": "1y18LwoqyFpk"
      },
      "source": [
        "#### **2.2** *Recipe Data Manipulation* <font color = red>[13 marks]</font> <br>\n",
        "Create derived metrics in dataframe and provide insights of the dataframe"
      ]
    },
    {
      "cell_type": "markdown",
      "metadata": {
        "id": "bhNG_XC1r4Qw"
      },
      "source": [
        "##### **2.2.1** **Create input_tokens and pos_tokens columns by splitting the input and pos from the dataframe** <font color = red>[3 marks]</font> <br>\n",
        "Split the input and pos into input_tokens and pos_tokens in the dataframe and display it in the dataframe"
      ]
    },
    {
      "cell_type": "code",
      "execution_count": 21,
      "metadata": {
        "id": "nma6uJwmXUas"
      },
      "outputs": [],
      "source": [
        "# split the input and pos into input_tokens and pos_tokens in the dataframe\n",
        "\n",
        "# Tokenize input\n",
        "# Tokenize POS\n",
        "import spacy\n",
        "\n",
        "# Load SpaCy's English model\n",
        "nlp = spacy.load(\"en_core_web_sm\")\n",
        "\n",
        "# Function to tokenize input and POS columns\n",
        "def tokenize_dataframe(df):\n",
        "    df[\"input_tokens\"] = df[\"input\"].apply(lambda x: [token.text for token in nlp(x)] if isinstance(x, str) else [])\n",
        "    df[\"pos_tokens\"] = df[\"pos\"].apply(lambda x: [token.text for token in nlp(x)] if isinstance(x, str) else [])\n",
        "    return df\n",
        "\n",
        "# Apply the function to the DataFrame\n",
        "df = tokenize_dataframe(df)"
      ]
    },
    {
      "cell_type": "code",
      "execution_count": 22,
      "metadata": {
        "id": "9g-ajvFBzaaf",
        "colab": {
          "base_uri": "https://localhost:8080/"
        },
        "outputId": "8ebdde26-62a2-489a-c87f-63c9e3f2d93b"
      },
      "outputs": [
        {
          "output_type": "stream",
          "name": "stdout",
          "text": [
            "                                                                                                                                                                                                                                                                                            input                                                                                                                                                                                                                                                                                                                                                                                                                                                                      pos                                                                                                                                                                                                                                                                                                                                   input_tokens                                                                                                                                                                                                                                                                                                                                                                                                                                                                                                              pos_tokens\n",
            "0                                                                                                 6 Karela Bitter Gourd Pavakkai Salt 1 Onion 3 tablespoon Gram flour besan 2 teaspoons Turmeric powder Haldi Red Chilli Cumin seeds Jeera Coriander Powder Dhania Amchur Dry Mango Sunflower Oil                                                                                                                                         quantity ingredient ingredient ingredient ingredient ingredient quantity ingredient quantity unit ingredient ingredient ingredient quantity unit ingredient ingredient ingredient ingredient ingredient ingredient ingredient ingredient ingredient ingredient ingredient ingredient ingredient ingredient ingredient ingredient                                                                                                                [6, Karela, Bitter, Gourd, Pavakkai, Salt, 1, Onion, 3, tablespoon, Gram, flour, besan, 2, teaspoons, Turmeric, powder, Haldi, Red, Chilli, Cumin, seeds, Jeera, Coriander, Powder, Dhania, Amchur, Dry, Mango, Sunflower, Oil]                                                                                                                                                        [quantity, ingredient, ingredient, ingredient, ingredient, ingredient, quantity, ingredient, quantity, unit, ingredient, ingredient, ingredient, quantity, unit, ingredient, ingredient, ingredient, ingredient, ingredient, ingredient, ingredient, ingredient, ingredient, ingredient, ingredient, ingredient, ingredient, ingredient, ingredient, ingredient]\n",
            "1                                                                                    2-1/2 cups rice cooked 3 tomatoes teaspoons BC Belle Bhat powder 1 teaspoon chickpea lentils 1/2 cumin seeds white urad dal mustard green chilli dry red 2 cashew or peanuts 1-1/2 tablespoon oil asafoetida                                                                                                                        quantity unit ingredient ingredient quantity ingredient unit ingredient ingredient ingredient ingredient quantity unit ingredient ingredient quantity ingredient ingredient ingredient ingredient ingredient ingredient ingredient ingredient ingredient ingredient quantity ingredient ingredient ingredient quantity unit ingredient ingredient                                                                                        [2, -, 1/2, cups, rice, cooked, 3, tomatoes, teaspoons, BC, Belle, Bhat, powder, 1, teaspoon, chickpea, lentils, 1/2, cumin, seeds, white, urad, dal, mustard, green, chilli, dry, red, 2, cashew, or, peanuts, 1, -, 1/2, tablespoon, oil, asafoetida]                                                                                                                                    [quantity, unit, ingredient, ingredient, quantity, ingredient, unit, ingredient, ingredient, ingredient, ingredient, quantity, unit, ingredient, ingredient, quantity, ingredient, ingredient, ingredient, ingredient, ingredient, ingredient, ingredient, ingredient, ingredient, ingredient, quantity, ingredient, ingredient, ingredient, quantity, unit, ingredient, ingredient]\n",
            "2                                                                  1-1/2 cups Rice Vermicelli Noodles Thin 1 Onion sliced 1/2 cup Carrots Gajjar chopped 1/3 Green peas Matar 2 Chillies 1/4 teaspoon Asafoetida hing Mustard seeds White Urad Dal Split Ghee sprig Curry leaves Salt Lemon juice                                                                                       quantity unit ingredient ingredient ingredient ingredient quantity ingredient ingredient quantity unit ingredient ingredient ingredient quantity ingredient ingredient ingredient quantity ingredient quantity unit ingredient ingredient ingredient ingredient ingredient ingredient ingredient ingredient ingredient unit ingredient ingredient ingredient ingredient ingredient                                                                       [1, -, 1/2, cups, Rice, Vermicelli, Noodles, Thin, 1, Onion, sliced, 1/2, cup, Carrots, Gajjar, chopped, 1/3, Green, peas, Matar, 2, Chillies, 1/4, teaspoon, Asafoetida, hing, Mustard, seeds, White, Urad, Dal, Split, Ghee, sprig, Curry, leaves, Salt, Lemon, juice]                                                                                                [quantity, unit, ingredient, ingredient, ingredient, ingredient, quantity, ingredient, ingredient, quantity, unit, ingredient, ingredient, ingredient, quantity, ingredient, ingredient, ingredient, quantity, ingredient, quantity, unit, ingredient, ingredient, ingredient, ingredient, ingredient, ingredient, ingredient, ingredient, ingredient, unit, ingredient, ingredient, ingredient, ingredient, ingredient]\n",
            "3  500 grams Chicken 2 Onion chopped 1 Tomato 4 Green Chillies slit inch Ginger finely 6 cloves Garlic 1/2 teaspoon Turmeric powder Haldi Garam masala tablespoon Sesame Gingelly Oil 1/4 Methi Seeds Fenugreek Coriander Dhania Dry Red Fennel seeds Saunf cups Sorrel Leaves Gongura picked and  quantity unit ingredient quantity ingredient ingredient quantity ingredient quantity ingredient ingredient ingredient unit ingredient ingredient quantity unit ingredient quantity unit ingredient ingredient ingredient ingredient ingredient unit ingredient ingredient ingredient quantity ingredient ingredient ingredient ingredient ingredient ingredient ingredient ingredient ingredient ingredient unit ingredient ingredient ingredient ingredient ingredient  [500, grams, Chicken, 2, Onion, chopped, 1, Tomato, 4, Green, Chillies, slit, inch, Ginger, finely, 6, cloves, Garlic, 1/2, teaspoon, Turmeric, powder, Haldi, Garam, masala, tablespoon, Sesame, Gingelly, Oil, 1/4, Methi, Seeds, Fenugreek, Coriander, Dhania, Dry, Red, Fennel, seeds, Saunf, cups, Sorrel, Leaves, Gongura, picked, and]  [quantity, unit, ingredient, quantity, ingredient, ingredient, quantity, ingredient, quantity, ingredient, ingredient, ingredient, unit, ingredient, ingredient, quantity, unit, ingredient, quantity, unit, ingredient, ingredient, ingredient, ingredient, ingredient, unit, ingredient, ingredient, ingredient, quantity, ingredient, ingredient, ingredient, ingredient, ingredient, ingredient, ingredient, ingredient, ingredient, ingredient, unit, ingredient, ingredient, ingredient, ingredient, ingredient]\n",
            "4                                                                                                                                                           1 tablespoon chana dal white urad 2 red chillies coriander seeds 3 inches ginger onion tomato Teaspoon mustard asafoetida sprig curry                                                                                                                                                                                                                                                                 quantity unit ingredient ingredient ingredient ingredient quantity ingredient ingredient ingredient ingredient quantity unit ingredient ingredient ingredient unit ingredient ingredient unit ingredient                                                                                                                                                                                    [1, tablespoon, chana, dal, white, urad, 2, red, chillies, coriander, seeds, 3, inches, ginger, onion, tomato, Teaspoon, mustard, asafoetida, sprig, curry]                                                                                                                                                                                                                                                                                          [quantity, unit, ingredient, ingredient, ingredient, ingredient, quantity, ingredient, ingredient, ingredient, ingredient, quantity, unit, ingredient, ingredient, ingredient, unit, ingredient, ingredient, unit, ingredient]\n"
          ]
        }
      ],
      "source": [
        "# display first five rows of the dataframe - df\n",
        "print(df.head())"
      ]
    },
    {
      "cell_type": "markdown",
      "metadata": {
        "id": "-JtvsBYur-oV"
      },
      "source": [
        "##### **2.2.2** **Provide the length for input_tokens and pos_tokens and validate their length** <font color = red>[2 marks]</font> <br>\n",
        "\n",
        "Create input_length and pos_length columns in the dataframe and validate both the lengths. Check for the rows that are unequal in input and pos length\n"
      ]
    },
    {
      "cell_type": "code",
      "execution_count": 23,
      "metadata": {
        "id": "GeVRD2IK1Jrg",
        "colab": {
          "base_uri": "https://localhost:8080/"
        },
        "outputId": "12f1e0dd-8a51-4bba-9255-c1cae13f0a48"
      },
      "outputs": [
        {
          "output_type": "stream",
          "name": "stdout",
          "text": [
            "                                                                                                                                                                                                                                                                                            input                                                                                                                                                                                                                                                                                                                                                                                                                                                                      pos                                                                                                                                                                                                                                                                                                                                   input_tokens                                                                                                                                                                                                                                                                                                                                                                                                                                                                                                              pos_tokens  input_length  pos_length\n",
            "0                                                                                                 6 Karela Bitter Gourd Pavakkai Salt 1 Onion 3 tablespoon Gram flour besan 2 teaspoons Turmeric powder Haldi Red Chilli Cumin seeds Jeera Coriander Powder Dhania Amchur Dry Mango Sunflower Oil                                                                                                                                         quantity ingredient ingredient ingredient ingredient ingredient quantity ingredient quantity unit ingredient ingredient ingredient quantity unit ingredient ingredient ingredient ingredient ingredient ingredient ingredient ingredient ingredient ingredient ingredient ingredient ingredient ingredient ingredient ingredient                                                                                                                [6, Karela, Bitter, Gourd, Pavakkai, Salt, 1, Onion, 3, tablespoon, Gram, flour, besan, 2, teaspoons, Turmeric, powder, Haldi, Red, Chilli, Cumin, seeds, Jeera, Coriander, Powder, Dhania, Amchur, Dry, Mango, Sunflower, Oil]                                                                                                                                                        [quantity, ingredient, ingredient, ingredient, ingredient, ingredient, quantity, ingredient, quantity, unit, ingredient, ingredient, ingredient, quantity, unit, ingredient, ingredient, ingredient, ingredient, ingredient, ingredient, ingredient, ingredient, ingredient, ingredient, ingredient, ingredient, ingredient, ingredient, ingredient, ingredient]            31          31\n",
            "1                                                                                    2-1/2 cups rice cooked 3 tomatoes teaspoons BC Belle Bhat powder 1 teaspoon chickpea lentils 1/2 cumin seeds white urad dal mustard green chilli dry red 2 cashew or peanuts 1-1/2 tablespoon oil asafoetida                                                                                                                        quantity unit ingredient ingredient quantity ingredient unit ingredient ingredient ingredient ingredient quantity unit ingredient ingredient quantity ingredient ingredient ingredient ingredient ingredient ingredient ingredient ingredient ingredient ingredient quantity ingredient ingredient ingredient quantity unit ingredient ingredient                                                                                        [2, -, 1/2, cups, rice, cooked, 3, tomatoes, teaspoons, BC, Belle, Bhat, powder, 1, teaspoon, chickpea, lentils, 1/2, cumin, seeds, white, urad, dal, mustard, green, chilli, dry, red, 2, cashew, or, peanuts, 1, -, 1/2, tablespoon, oil, asafoetida]                                                                                                                                    [quantity, unit, ingredient, ingredient, quantity, ingredient, unit, ingredient, ingredient, ingredient, ingredient, quantity, unit, ingredient, ingredient, quantity, ingredient, ingredient, ingredient, ingredient, ingredient, ingredient, ingredient, ingredient, ingredient, ingredient, quantity, ingredient, ingredient, ingredient, quantity, unit, ingredient, ingredient]            38          34\n",
            "2                                                                  1-1/2 cups Rice Vermicelli Noodles Thin 1 Onion sliced 1/2 cup Carrots Gajjar chopped 1/3 Green peas Matar 2 Chillies 1/4 teaspoon Asafoetida hing Mustard seeds White Urad Dal Split Ghee sprig Curry leaves Salt Lemon juice                                                                                       quantity unit ingredient ingredient ingredient ingredient quantity ingredient ingredient quantity unit ingredient ingredient ingredient quantity ingredient ingredient ingredient quantity ingredient quantity unit ingredient ingredient ingredient ingredient ingredient ingredient ingredient ingredient ingredient unit ingredient ingredient ingredient ingredient ingredient                                                                       [1, -, 1/2, cups, Rice, Vermicelli, Noodles, Thin, 1, Onion, sliced, 1/2, cup, Carrots, Gajjar, chopped, 1/3, Green, peas, Matar, 2, Chillies, 1/4, teaspoon, Asafoetida, hing, Mustard, seeds, White, Urad, Dal, Split, Ghee, sprig, Curry, leaves, Salt, Lemon, juice]                                                                                                [quantity, unit, ingredient, ingredient, ingredient, ingredient, quantity, ingredient, ingredient, quantity, unit, ingredient, ingredient, ingredient, quantity, ingredient, ingredient, ingredient, quantity, ingredient, quantity, unit, ingredient, ingredient, ingredient, ingredient, ingredient, ingredient, ingredient, ingredient, ingredient, unit, ingredient, ingredient, ingredient, ingredient, ingredient]            39          37\n",
            "3  500 grams Chicken 2 Onion chopped 1 Tomato 4 Green Chillies slit inch Ginger finely 6 cloves Garlic 1/2 teaspoon Turmeric powder Haldi Garam masala tablespoon Sesame Gingelly Oil 1/4 Methi Seeds Fenugreek Coriander Dhania Dry Red Fennel seeds Saunf cups Sorrel Leaves Gongura picked and  quantity unit ingredient quantity ingredient ingredient quantity ingredient quantity ingredient ingredient ingredient unit ingredient ingredient quantity unit ingredient quantity unit ingredient ingredient ingredient ingredient ingredient unit ingredient ingredient ingredient quantity ingredient ingredient ingredient ingredient ingredient ingredient ingredient ingredient ingredient ingredient unit ingredient ingredient ingredient ingredient ingredient  [500, grams, Chicken, 2, Onion, chopped, 1, Tomato, 4, Green, Chillies, slit, inch, Ginger, finely, 6, cloves, Garlic, 1/2, teaspoon, Turmeric, powder, Haldi, Garam, masala, tablespoon, Sesame, Gingelly, Oil, 1/4, Methi, Seeds, Fenugreek, Coriander, Dhania, Dry, Red, Fennel, seeds, Saunf, cups, Sorrel, Leaves, Gongura, picked, and]  [quantity, unit, ingredient, quantity, ingredient, ingredient, quantity, ingredient, quantity, ingredient, ingredient, ingredient, unit, ingredient, ingredient, quantity, unit, ingredient, quantity, unit, ingredient, ingredient, ingredient, ingredient, ingredient, unit, ingredient, ingredient, ingredient, quantity, ingredient, ingredient, ingredient, ingredient, ingredient, ingredient, ingredient, ingredient, ingredient, ingredient, unit, ingredient, ingredient, ingredient, ingredient, ingredient]            46          46\n",
            "4                                                                                                                                                           1 tablespoon chana dal white urad 2 red chillies coriander seeds 3 inches ginger onion tomato Teaspoon mustard asafoetida sprig curry                                                                                                                                                                                                                                                                 quantity unit ingredient ingredient ingredient ingredient quantity ingredient ingredient ingredient ingredient quantity unit ingredient ingredient ingredient unit ingredient ingredient unit ingredient                                                                                                                                                                                    [1, tablespoon, chana, dal, white, urad, 2, red, chillies, coriander, seeds, 3, inches, ginger, onion, tomato, Teaspoon, mustard, asafoetida, sprig, curry]                                                                                                                                                                                                                                                                                          [quantity, unit, ingredient, ingredient, ingredient, ingredient, quantity, ingredient, ingredient, ingredient, ingredient, quantity, unit, ingredient, ingredient, ingredient, unit, ingredient, ingredient, unit, ingredient]            21          21\n"
          ]
        }
      ],
      "source": [
        "# create input_length and pos_length columns for the input_tokens and pos-tokens\n",
        "df[\"input_length\"] = df[\"input_tokens\"].apply(len)\n",
        "df[\"pos_length\"] = df[\"pos_tokens\"].apply(len)\n",
        "# Display the first few rows\n",
        "print(df.head())"
      ]
    },
    {
      "cell_type": "code",
      "execution_count": 25,
      "metadata": {
        "id": "BPMOlLnz1P1H",
        "colab": {
          "base_uri": "https://localhost:8080/"
        },
        "outputId": "6d339d0c-1e71-4143-ea2b-46af8c0b08f6"
      },
      "outputs": [
        {
          "output_type": "stream",
          "name": "stdout",
          "text": [
            "                                                                                                                                                                                                                                                                                            input                                                                                                                                                                                                                                                                                                                                                                                                                                                                      pos                                                                                                                                                                                                                                                                                                                                   input_tokens                                                                                                                                                                                                                                                                                                                                                                                                                                                                                                              pos_tokens  input_length  pos_length  length_match\n",
            "0                                                                                                 6 Karela Bitter Gourd Pavakkai Salt 1 Onion 3 tablespoon Gram flour besan 2 teaspoons Turmeric powder Haldi Red Chilli Cumin seeds Jeera Coriander Powder Dhania Amchur Dry Mango Sunflower Oil                                                                                                                                         quantity ingredient ingredient ingredient ingredient ingredient quantity ingredient quantity unit ingredient ingredient ingredient quantity unit ingredient ingredient ingredient ingredient ingredient ingredient ingredient ingredient ingredient ingredient ingredient ingredient ingredient ingredient ingredient ingredient                                                                                                                [6, Karela, Bitter, Gourd, Pavakkai, Salt, 1, Onion, 3, tablespoon, Gram, flour, besan, 2, teaspoons, Turmeric, powder, Haldi, Red, Chilli, Cumin, seeds, Jeera, Coriander, Powder, Dhania, Amchur, Dry, Mango, Sunflower, Oil]                                                                                                                                                        [quantity, ingredient, ingredient, ingredient, ingredient, ingredient, quantity, ingredient, quantity, unit, ingredient, ingredient, ingredient, quantity, unit, ingredient, ingredient, ingredient, ingredient, ingredient, ingredient, ingredient, ingredient, ingredient, ingredient, ingredient, ingredient, ingredient, ingredient, ingredient, ingredient]            31          31          True\n",
            "1                                                                                    2-1/2 cups rice cooked 3 tomatoes teaspoons BC Belle Bhat powder 1 teaspoon chickpea lentils 1/2 cumin seeds white urad dal mustard green chilli dry red 2 cashew or peanuts 1-1/2 tablespoon oil asafoetida                                                                                                                        quantity unit ingredient ingredient quantity ingredient unit ingredient ingredient ingredient ingredient quantity unit ingredient ingredient quantity ingredient ingredient ingredient ingredient ingredient ingredient ingredient ingredient ingredient ingredient quantity ingredient ingredient ingredient quantity unit ingredient ingredient                                                                                        [2, -, 1/2, cups, rice, cooked, 3, tomatoes, teaspoons, BC, Belle, Bhat, powder, 1, teaspoon, chickpea, lentils, 1/2, cumin, seeds, white, urad, dal, mustard, green, chilli, dry, red, 2, cashew, or, peanuts, 1, -, 1/2, tablespoon, oil, asafoetida]                                                                                                                                    [quantity, unit, ingredient, ingredient, quantity, ingredient, unit, ingredient, ingredient, ingredient, ingredient, quantity, unit, ingredient, ingredient, quantity, ingredient, ingredient, ingredient, ingredient, ingredient, ingredient, ingredient, ingredient, ingredient, ingredient, quantity, ingredient, ingredient, ingredient, quantity, unit, ingredient, ingredient]            38          34         False\n",
            "2                                                                  1-1/2 cups Rice Vermicelli Noodles Thin 1 Onion sliced 1/2 cup Carrots Gajjar chopped 1/3 Green peas Matar 2 Chillies 1/4 teaspoon Asafoetida hing Mustard seeds White Urad Dal Split Ghee sprig Curry leaves Salt Lemon juice                                                                                       quantity unit ingredient ingredient ingredient ingredient quantity ingredient ingredient quantity unit ingredient ingredient ingredient quantity ingredient ingredient ingredient quantity ingredient quantity unit ingredient ingredient ingredient ingredient ingredient ingredient ingredient ingredient ingredient unit ingredient ingredient ingredient ingredient ingredient                                                                       [1, -, 1/2, cups, Rice, Vermicelli, Noodles, Thin, 1, Onion, sliced, 1/2, cup, Carrots, Gajjar, chopped, 1/3, Green, peas, Matar, 2, Chillies, 1/4, teaspoon, Asafoetida, hing, Mustard, seeds, White, Urad, Dal, Split, Ghee, sprig, Curry, leaves, Salt, Lemon, juice]                                                                                                [quantity, unit, ingredient, ingredient, ingredient, ingredient, quantity, ingredient, ingredient, quantity, unit, ingredient, ingredient, ingredient, quantity, ingredient, ingredient, ingredient, quantity, ingredient, quantity, unit, ingredient, ingredient, ingredient, ingredient, ingredient, ingredient, ingredient, ingredient, ingredient, unit, ingredient, ingredient, ingredient, ingredient, ingredient]            39          37         False\n",
            "3  500 grams Chicken 2 Onion chopped 1 Tomato 4 Green Chillies slit inch Ginger finely 6 cloves Garlic 1/2 teaspoon Turmeric powder Haldi Garam masala tablespoon Sesame Gingelly Oil 1/4 Methi Seeds Fenugreek Coriander Dhania Dry Red Fennel seeds Saunf cups Sorrel Leaves Gongura picked and  quantity unit ingredient quantity ingredient ingredient quantity ingredient quantity ingredient ingredient ingredient unit ingredient ingredient quantity unit ingredient quantity unit ingredient ingredient ingredient ingredient ingredient unit ingredient ingredient ingredient quantity ingredient ingredient ingredient ingredient ingredient ingredient ingredient ingredient ingredient ingredient unit ingredient ingredient ingredient ingredient ingredient  [500, grams, Chicken, 2, Onion, chopped, 1, Tomato, 4, Green, Chillies, slit, inch, Ginger, finely, 6, cloves, Garlic, 1/2, teaspoon, Turmeric, powder, Haldi, Garam, masala, tablespoon, Sesame, Gingelly, Oil, 1/4, Methi, Seeds, Fenugreek, Coriander, Dhania, Dry, Red, Fennel, seeds, Saunf, cups, Sorrel, Leaves, Gongura, picked, and]  [quantity, unit, ingredient, quantity, ingredient, ingredient, quantity, ingredient, quantity, ingredient, ingredient, ingredient, unit, ingredient, ingredient, quantity, unit, ingredient, quantity, unit, ingredient, ingredient, ingredient, ingredient, ingredient, unit, ingredient, ingredient, ingredient, quantity, ingredient, ingredient, ingredient, ingredient, ingredient, ingredient, ingredient, ingredient, ingredient, ingredient, unit, ingredient, ingredient, ingredient, ingredient, ingredient]            46          46          True\n",
            "4                                                                                                                                                           1 tablespoon chana dal white urad 2 red chillies coriander seeds 3 inches ginger onion tomato Teaspoon mustard asafoetida sprig curry                                                                                                                                                                                                                                                                 quantity unit ingredient ingredient ingredient ingredient quantity ingredient ingredient ingredient ingredient quantity unit ingredient ingredient ingredient unit ingredient ingredient unit ingredient                                                                                                                                                                                    [1, tablespoon, chana, dal, white, urad, 2, red, chillies, coriander, seeds, 3, inches, ginger, onion, tomato, Teaspoon, mustard, asafoetida, sprig, curry]                                                                                                                                                                                                                                                                                          [quantity, unit, ingredient, ingredient, ingredient, ingredient, quantity, ingredient, ingredient, ingredient, ingredient, quantity, unit, ingredient, ingredient, ingredient, unit, ingredient, ingredient, unit, ingredient]            21          21          True\n",
            "length_match\n",
            "True     204\n",
            "False     81\n",
            "Name: count, dtype: int64\n"
          ]
        }
      ],
      "source": [
        "# check for the equality of input_length and pos_length in the dataframe\n",
        "df[\"length_match\"] = df[\"input_length\"] == df[\"pos_length\"]\n",
        "print(df.head())\n",
        "print(df[\"length_match\"].value_counts())"
      ]
    },
    {
      "cell_type": "markdown",
      "metadata": {
        "id": "dpJQu3JE_P7Z"
      },
      "source": [
        "##### **2.2.3** **Define a unique_labels function and validate the labels in pos_tokens** <font color = red>[2 marks]</font> <br>\n",
        "\n",
        "Define a unique_labels function which checks for all the unique pos labels in the recipe & execute it.\n"
      ]
    },
    {
      "cell_type": "code",
      "execution_count": 26,
      "metadata": {
        "id": "-4aMFCxXO_GJ",
        "colab": {
          "base_uri": "https://localhost:8080/"
        },
        "outputId": "236860c8-5bbc-45e6-acfb-fcfca63df514"
      },
      "outputs": [
        {
          "output_type": "stream",
          "name": "stdout",
          "text": [
            "Unique POS Labels in Recipe Data: {'unit', 'ingredient', 'quantity'}\n"
          ]
        },
        {
          "output_type": "execute_result",
          "data": {
            "text/plain": [
              "{'ingredient', 'quantity', 'unit'}"
            ]
          },
          "metadata": {},
          "execution_count": 26
        }
      ],
      "source": [
        "# Define a unique_labels function to checks for all the unique pos labels in the recipe & print it\n",
        "def unique_labels(df):\n",
        "\n",
        "    unique_pos_labels = set(df[\"pos_tokens\"].explode())  # Flatten and get unique values\n",
        "    print(\"Unique POS Labels in Recipe Data:\", unique_pos_labels)\n",
        "    return unique_pos_labels\n",
        "\n",
        "# Call the function\n",
        "unique_labels(df)\n"
      ]
    },
    {
      "cell_type": "markdown",
      "metadata": {
        "id": "JbriClEV9CW5"
      },
      "source": [
        "##### **2.2.3** **Provide the insights seen in the recipe data after validation** <font color = red>[1 marks]</font> <br>\n",
        "\n",
        "Provide the indexes that requires cleaning and formatting in the dataframe"
      ]
    },
    {
      "cell_type": "code",
      "source": [
        "problematic_indexes = df[df[\"input_length\"] != df[\"pos_length\"]].index\n",
        "print(\"Indexes that require cleaning and formatting:\", problematic_indexes.tolist())\n"
      ],
      "metadata": {
        "colab": {
          "base_uri": "https://localhost:8080/"
        },
        "id": "1O9SB2dP_sWW",
        "outputId": "f909f851-6817-435f-f72b-fe842e0edd8a"
      },
      "execution_count": 27,
      "outputs": [
        {
          "output_type": "stream",
          "name": "stdout",
          "text": [
            "Indexes that require cleaning and formatting: [1, 2, 13, 17, 23, 27, 33, 37, 42, 46, 48, 58, 60, 63, 65, 69, 71, 73, 74, 77, 79, 82, 84, 86, 87, 94, 100, 107, 110, 111, 112, 114, 121, 130, 133, 146, 147, 150, 152, 154, 156, 157, 158, 159, 163, 164, 168, 173, 176, 183, 185, 188, 190, 192, 196, 203, 204, 205, 207, 216, 218, 219, 221, 222, 226, 228, 234, 239, 241, 242, 243, 244, 245, 247, 250, 251, 258, 261, 265, 268, 277]\n"
          ]
        }
      ]
    },
    {
      "cell_type": "markdown",
      "metadata": {
        "id": "rrNQ4AtD9RPk"
      },
      "source": [
        "\n",
        "\n",
        "```\n",
        "# This is formatted as code\n",
        "```\n",
        "\n",
        "<font color = red>[These indexes represent entries where tokenization mismatches occur.]</font> <br>\n"
      ]
    },
    {
      "cell_type": "markdown",
      "metadata": {
        "id": "Qtqtij2-CD2m"
      },
      "source": [
        "##### **2.2.4** **Drop the rows that have invalid data provided in previous cell** <font color = red> [2 marks]</font> <br>"
      ]
    },
    {
      "cell_type": "code",
      "execution_count": 30,
      "metadata": {
        "id": "jaiy1pYWCFPA",
        "colab": {
          "base_uri": "https://localhost:8080/"
        },
        "outputId": "7c3f90fd-2ccf-4f0a-bde3-124e6e834afe"
      },
      "outputs": [
        {
          "output_type": "stream",
          "name": "stdout",
          "text": [
            "Cleaned Recipe Data:\n",
            "                                                                                                                                                                                                                                                                                            input                                                                                                                                                                                                                                                                                                                                                                                                                                                                      pos                                                                                                                                                                                                                                                                                                                                   input_tokens                                                                                                                                                                                                                                                                                                                                                                                                                                                                                                              pos_tokens  input_length  pos_length  length_match\n",
            "0                                                                                                 6 Karela Bitter Gourd Pavakkai Salt 1 Onion 3 tablespoon Gram flour besan 2 teaspoons Turmeric powder Haldi Red Chilli Cumin seeds Jeera Coriander Powder Dhania Amchur Dry Mango Sunflower Oil                                                                                                                                         quantity ingredient ingredient ingredient ingredient ingredient quantity ingredient quantity unit ingredient ingredient ingredient quantity unit ingredient ingredient ingredient ingredient ingredient ingredient ingredient ingredient ingredient ingredient ingredient ingredient ingredient ingredient ingredient ingredient                                                                                                                (6, Karela, Bitter, Gourd, Pavakkai, Salt, 1, Onion, 3, tablespoon, Gram, flour, besan, 2, teaspoons, Turmeric, powder, Haldi, Red, Chilli, Cumin, seeds, Jeera, Coriander, Powder, Dhania, Amchur, Dry, Mango, Sunflower, Oil)                                                                                                                                                        (quantity, ingredient, ingredient, ingredient, ingredient, ingredient, quantity, ingredient, quantity, unit, ingredient, ingredient, ingredient, quantity, unit, ingredient, ingredient, ingredient, ingredient, ingredient, ingredient, ingredient, ingredient, ingredient, ingredient, ingredient, ingredient, ingredient, ingredient, ingredient, ingredient)            31          31          True\n",
            "1  500 grams Chicken 2 Onion chopped 1 Tomato 4 Green Chillies slit inch Ginger finely 6 cloves Garlic 1/2 teaspoon Turmeric powder Haldi Garam masala tablespoon Sesame Gingelly Oil 1/4 Methi Seeds Fenugreek Coriander Dhania Dry Red Fennel seeds Saunf cups Sorrel Leaves Gongura picked and  quantity unit ingredient quantity ingredient ingredient quantity ingredient quantity ingredient ingredient ingredient unit ingredient ingredient quantity unit ingredient quantity unit ingredient ingredient ingredient ingredient ingredient unit ingredient ingredient ingredient quantity ingredient ingredient ingredient ingredient ingredient ingredient ingredient ingredient ingredient ingredient unit ingredient ingredient ingredient ingredient ingredient  (500, grams, Chicken, 2, Onion, chopped, 1, Tomato, 4, Green, Chillies, slit, inch, Ginger, finely, 6, cloves, Garlic, 1/2, teaspoon, Turmeric, powder, Haldi, Garam, masala, tablespoon, Sesame, Gingelly, Oil, 1/4, Methi, Seeds, Fenugreek, Coriander, Dhania, Dry, Red, Fennel, seeds, Saunf, cups, Sorrel, Leaves, Gongura, picked, and)  (quantity, unit, ingredient, quantity, ingredient, ingredient, quantity, ingredient, quantity, ingredient, ingredient, ingredient, unit, ingredient, ingredient, quantity, unit, ingredient, quantity, unit, ingredient, ingredient, ingredient, ingredient, ingredient, unit, ingredient, ingredient, ingredient, quantity, ingredient, ingredient, ingredient, ingredient, ingredient, ingredient, ingredient, ingredient, ingredient, ingredient, unit, ingredient, ingredient, ingredient, ingredient, ingredient)            46          46          True\n",
            "2                                                                                                                                                           1 tablespoon chana dal white urad 2 red chillies coriander seeds 3 inches ginger onion tomato Teaspoon mustard asafoetida sprig curry                                                                                                                                                                                                                                                                 quantity unit ingredient ingredient ingredient ingredient quantity ingredient ingredient ingredient ingredient quantity unit ingredient ingredient ingredient unit ingredient ingredient unit ingredient                                                                                                                                                                                    (1, tablespoon, chana, dal, white, urad, 2, red, chillies, coriander, seeds, 3, inches, ginger, onion, tomato, Teaspoon, mustard, asafoetida, sprig, curry)                                                                                                                                                                                                                                                                                          (quantity, unit, ingredient, ingredient, ingredient, ingredient, quantity, ingredient, ingredient, ingredient, ingredient, quantity, unit, ingredient, ingredient, ingredient, unit, ingredient, ingredient, unit, ingredient)            21          21          True\n",
            "3                                         1 cup Rice 1/2 Yellow Moong Dal Mint Leaves 1/4 Coriander Dhania Green Chilli inch Ginger teaspoon Cumin seeds 5 cups Water Sunflower Oil Salt 2 tablespoons Ghee 8 Cashew nuts halved Whole Black Peppercorns sprig Curry leaves pinch Asafoetida hing                                                             quantity unit ingredient quantity ingredient ingredient ingredient ingredient ingredient quantity ingredient ingredient ingredient ingredient unit ingredient unit ingredient ingredient quantity unit ingredient ingredient ingredient ingredient quantity unit ingredient quantity ingredient ingredient ingredient ingredient ingredient ingredient unit ingredient ingredient unit ingredient ingredient                                              (1, cup, Rice, 1/2, Yellow, Moong, Dal, Mint, Leaves, 1/4, Coriander, Dhania, Green, Chilli, inch, Ginger, teaspoon, Cumin, seeds, 5, cups, Water, Sunflower, Oil, Salt, 2, tablespoons, Ghee, 8, Cashew, nuts, halved, Whole, Black, Peppercorns, sprig, Curry, leaves, pinch, Asafoetida, hing)                                                                  (quantity, unit, ingredient, quantity, ingredient, ingredient, ingredient, ingredient, ingredient, quantity, ingredient, ingredient, ingredient, ingredient, unit, ingredient, unit, ingredient, ingredient, quantity, unit, ingredient, ingredient, ingredient, ingredient, quantity, unit, ingredient, quantity, ingredient, ingredient, ingredient, ingredient, ingredient, ingredient, unit, ingredient, ingredient, unit, ingredient, ingredient)            41          41          True\n",
            "4                                        500 grams Vellai Poosanikai 1/2 teaspoon Turmeric powder Salt Sunflower Oil 4 Dry Red Chillies cup Fresh coconut grated 30 Tamarind Water Methi Seeds Cumin seeds 2 teaspoons Coriander Dhania Sesame 3 tablespoons Jaggery 1 Mustard sprig Curry leaves                                                                               quantity unit ingredient ingredient quantity unit ingredient ingredient ingredient ingredient ingredient quantity ingredient ingredient ingredient unit ingredient ingredient ingredient quantity ingredient ingredient ingredient ingredient ingredient ingredient quantity unit ingredient ingredient ingredient quantity unit ingredient quantity ingredient unit ingredient ingredient                                               (500, grams, Vellai, Poosanikai, 1/2, teaspoon, Turmeric, powder, Salt, Sunflower, Oil, 4, Dry, Red, Chillies, cup, Fresh, coconut, grated, 30, Tamarind, Water, Methi, Seeds, Cumin, seeds, 2, teaspoons, Coriander, Dhania, Sesame, 3, tablespoons, Jaggery, 1, Mustard, sprig, Curry, leaves)                                                                                      (quantity, unit, ingredient, ingredient, quantity, unit, ingredient, ingredient, ingredient, ingredient, ingredient, quantity, ingredient, ingredient, ingredient, unit, ingredient, ingredient, ingredient, quantity, ingredient, ingredient, ingredient, ingredient, ingredient, ingredient, quantity, unit, ingredient, ingredient, ingredient, quantity, unit, ingredient, quantity, ingredient, unit, ingredient, ingredient)            39          39          True\n",
            "Dataset shape after cleaning: (204, 7)\n"
          ]
        }
      ],
      "source": [
        "# drop the irrelevant recipe data\n",
        "# Convert list-type columns to tuples (to make them hashable)\n",
        "df[\"input_tokens\"] = df[\"input_tokens\"].apply(tuple)\n",
        "df[\"pos_tokens\"] = df[\"pos_tokens\"].apply(tuple)\n",
        "\n",
        "# Remove duplicate rows\n",
        "df = df.drop_duplicates()\n",
        "\n",
        "# Reset index after cleaning\n",
        "df.reset_index(drop=True, inplace=True)\n",
        "\n",
        "# Display cleaned DataFrame\n",
        "print(\"Cleaned Recipe Data:\")\n",
        "print(df.head())\n",
        "print(f\"Dataset shape after cleaning: {df.shape}\")\n"
      ]
    },
    {
      "cell_type": "markdown",
      "metadata": {
        "id": "_RJEStPSC9PB"
      },
      "source": [
        "##### **2.2.5** **Update the input_length & pos_length in dataframe**<font color = red> [2 marks]</font> <br>"
      ]
    },
    {
      "cell_type": "code",
      "execution_count": 31,
      "metadata": {
        "id": "XjJd7gPI5_ca",
        "colab": {
          "base_uri": "https://localhost:8080/"
        },
        "outputId": "5fc2dd1a-fa79-4851-e02e-d94817236ce6"
      },
      "outputs": [
        {
          "output_type": "stream",
          "name": "stdout",
          "text": [
            "                                                                                                                                                                                                                                                                                            input                                                                                                                                                                                                                                                                                                                                                                                                                                                                      pos                                                                                                                                                                                                                                                                                                                                   input_tokens                                                                                                                                                                                                                                                                                                                                                                                                                                                                                                              pos_tokens  input_length  pos_length  length_match\n",
            "0                                                                                                 6 Karela Bitter Gourd Pavakkai Salt 1 Onion 3 tablespoon Gram flour besan 2 teaspoons Turmeric powder Haldi Red Chilli Cumin seeds Jeera Coriander Powder Dhania Amchur Dry Mango Sunflower Oil                                                                                                                                         quantity ingredient ingredient ingredient ingredient ingredient quantity ingredient quantity unit ingredient ingredient ingredient quantity unit ingredient ingredient ingredient ingredient ingredient ingredient ingredient ingredient ingredient ingredient ingredient ingredient ingredient ingredient ingredient ingredient                                                                                                                (6, Karela, Bitter, Gourd, Pavakkai, Salt, 1, Onion, 3, tablespoon, Gram, flour, besan, 2, teaspoons, Turmeric, powder, Haldi, Red, Chilli, Cumin, seeds, Jeera, Coriander, Powder, Dhania, Amchur, Dry, Mango, Sunflower, Oil)                                                                                                                                                        (quantity, ingredient, ingredient, ingredient, ingredient, ingredient, quantity, ingredient, quantity, unit, ingredient, ingredient, ingredient, quantity, unit, ingredient, ingredient, ingredient, ingredient, ingredient, ingredient, ingredient, ingredient, ingredient, ingredient, ingredient, ingredient, ingredient, ingredient, ingredient, ingredient)            31          31          True\n",
            "1  500 grams Chicken 2 Onion chopped 1 Tomato 4 Green Chillies slit inch Ginger finely 6 cloves Garlic 1/2 teaspoon Turmeric powder Haldi Garam masala tablespoon Sesame Gingelly Oil 1/4 Methi Seeds Fenugreek Coriander Dhania Dry Red Fennel seeds Saunf cups Sorrel Leaves Gongura picked and  quantity unit ingredient quantity ingredient ingredient quantity ingredient quantity ingredient ingredient ingredient unit ingredient ingredient quantity unit ingredient quantity unit ingredient ingredient ingredient ingredient ingredient unit ingredient ingredient ingredient quantity ingredient ingredient ingredient ingredient ingredient ingredient ingredient ingredient ingredient ingredient unit ingredient ingredient ingredient ingredient ingredient  (500, grams, Chicken, 2, Onion, chopped, 1, Tomato, 4, Green, Chillies, slit, inch, Ginger, finely, 6, cloves, Garlic, 1/2, teaspoon, Turmeric, powder, Haldi, Garam, masala, tablespoon, Sesame, Gingelly, Oil, 1/4, Methi, Seeds, Fenugreek, Coriander, Dhania, Dry, Red, Fennel, seeds, Saunf, cups, Sorrel, Leaves, Gongura, picked, and)  (quantity, unit, ingredient, quantity, ingredient, ingredient, quantity, ingredient, quantity, ingredient, ingredient, ingredient, unit, ingredient, ingredient, quantity, unit, ingredient, quantity, unit, ingredient, ingredient, ingredient, ingredient, ingredient, unit, ingredient, ingredient, ingredient, quantity, ingredient, ingredient, ingredient, ingredient, ingredient, ingredient, ingredient, ingredient, ingredient, ingredient, unit, ingredient, ingredient, ingredient, ingredient, ingredient)            46          46          True\n",
            "2                                                                                                                                                           1 tablespoon chana dal white urad 2 red chillies coriander seeds 3 inches ginger onion tomato Teaspoon mustard asafoetida sprig curry                                                                                                                                                                                                                                                                 quantity unit ingredient ingredient ingredient ingredient quantity ingredient ingredient ingredient ingredient quantity unit ingredient ingredient ingredient unit ingredient ingredient unit ingredient                                                                                                                                                                                    (1, tablespoon, chana, dal, white, urad, 2, red, chillies, coriander, seeds, 3, inches, ginger, onion, tomato, Teaspoon, mustard, asafoetida, sprig, curry)                                                                                                                                                                                                                                                                                          (quantity, unit, ingredient, ingredient, ingredient, ingredient, quantity, ingredient, ingredient, ingredient, ingredient, quantity, unit, ingredient, ingredient, ingredient, unit, ingredient, ingredient, unit, ingredient)            21          21          True\n",
            "3                                         1 cup Rice 1/2 Yellow Moong Dal Mint Leaves 1/4 Coriander Dhania Green Chilli inch Ginger teaspoon Cumin seeds 5 cups Water Sunflower Oil Salt 2 tablespoons Ghee 8 Cashew nuts halved Whole Black Peppercorns sprig Curry leaves pinch Asafoetida hing                                                             quantity unit ingredient quantity ingredient ingredient ingredient ingredient ingredient quantity ingredient ingredient ingredient ingredient unit ingredient unit ingredient ingredient quantity unit ingredient ingredient ingredient ingredient quantity unit ingredient quantity ingredient ingredient ingredient ingredient ingredient ingredient unit ingredient ingredient unit ingredient ingredient                                              (1, cup, Rice, 1/2, Yellow, Moong, Dal, Mint, Leaves, 1/4, Coriander, Dhania, Green, Chilli, inch, Ginger, teaspoon, Cumin, seeds, 5, cups, Water, Sunflower, Oil, Salt, 2, tablespoons, Ghee, 8, Cashew, nuts, halved, Whole, Black, Peppercorns, sprig, Curry, leaves, pinch, Asafoetida, hing)                                                                  (quantity, unit, ingredient, quantity, ingredient, ingredient, ingredient, ingredient, ingredient, quantity, ingredient, ingredient, ingredient, ingredient, unit, ingredient, unit, ingredient, ingredient, quantity, unit, ingredient, ingredient, ingredient, ingredient, quantity, unit, ingredient, quantity, ingredient, ingredient, ingredient, ingredient, ingredient, ingredient, unit, ingredient, ingredient, unit, ingredient, ingredient)            41          41          True\n",
            "4                                        500 grams Vellai Poosanikai 1/2 teaspoon Turmeric powder Salt Sunflower Oil 4 Dry Red Chillies cup Fresh coconut grated 30 Tamarind Water Methi Seeds Cumin seeds 2 teaspoons Coriander Dhania Sesame 3 tablespoons Jaggery 1 Mustard sprig Curry leaves                                                                               quantity unit ingredient ingredient quantity unit ingredient ingredient ingredient ingredient ingredient quantity ingredient ingredient ingredient unit ingredient ingredient ingredient quantity ingredient ingredient ingredient ingredient ingredient ingredient quantity unit ingredient ingredient ingredient quantity unit ingredient quantity ingredient unit ingredient ingredient                                               (500, grams, Vellai, Poosanikai, 1/2, teaspoon, Turmeric, powder, Salt, Sunflower, Oil, 4, Dry, Red, Chillies, cup, Fresh, coconut, grated, 30, Tamarind, Water, Methi, Seeds, Cumin, seeds, 2, teaspoons, Coriander, Dhania, Sesame, 3, tablespoons, Jaggery, 1, Mustard, sprig, Curry, leaves)                                                                                      (quantity, unit, ingredient, ingredient, quantity, unit, ingredient, ingredient, ingredient, ingredient, ingredient, quantity, ingredient, ingredient, ingredient, unit, ingredient, ingredient, ingredient, quantity, ingredient, ingredient, ingredient, ingredient, ingredient, ingredient, quantity, unit, ingredient, ingredient, ingredient, quantity, unit, ingredient, quantity, ingredient, unit, ingredient, ingredient)            39          39          True\n"
          ]
        }
      ],
      "source": [
        "# update the input and pos length in input_length and pos_length\n",
        "# Update the lengths of input_tokens and pos_tokens\n",
        "df[\"input_length\"] = df[\"input_tokens\"].apply(len)\n",
        "df[\"pos_length\"] = df[\"pos_tokens\"].apply(len)\n",
        "\n",
        "# Display the first few rows to verify the update\n",
        "print(df.head())\n"
      ]
    },
    {
      "cell_type": "markdown",
      "metadata": {
        "id": "qJdYJ2TEDBzd"
      },
      "source": [
        "##### **2.2.6** **Validate the input_length and pos_length by checking unequal rows** <font color = red> [1 marks]</font> <br>"
      ]
    },
    {
      "cell_type": "code",
      "execution_count": 32,
      "metadata": {
        "id": "fdSsdOPM8aXo",
        "colab": {
          "base_uri": "https://localhost:8080/"
        },
        "outputId": "8dea627d-76d9-483b-f4e8-291dd179f890"
      },
      "outputs": [
        {
          "output_type": "stream",
          "name": "stdout",
          "text": [
            "                                                                                                                                                                                                                                                                                            input                                                                                                                                                                                                                                                                                                                                                                                                                                                                      pos                                                                                                                                                                                                                                                                                                                                   input_tokens                                                                                                                                                                                                                                                                                                                                                                                                                                                                                                              pos_tokens  input_length  pos_length  length_match\n",
            "0                                                                                                 6 Karela Bitter Gourd Pavakkai Salt 1 Onion 3 tablespoon Gram flour besan 2 teaspoons Turmeric powder Haldi Red Chilli Cumin seeds Jeera Coriander Powder Dhania Amchur Dry Mango Sunflower Oil                                                                                                                                         quantity ingredient ingredient ingredient ingredient ingredient quantity ingredient quantity unit ingredient ingredient ingredient quantity unit ingredient ingredient ingredient ingredient ingredient ingredient ingredient ingredient ingredient ingredient ingredient ingredient ingredient ingredient ingredient ingredient                                                                                                                (6, Karela, Bitter, Gourd, Pavakkai, Salt, 1, Onion, 3, tablespoon, Gram, flour, besan, 2, teaspoons, Turmeric, powder, Haldi, Red, Chilli, Cumin, seeds, Jeera, Coriander, Powder, Dhania, Amchur, Dry, Mango, Sunflower, Oil)                                                                                                                                                        (quantity, ingredient, ingredient, ingredient, ingredient, ingredient, quantity, ingredient, quantity, unit, ingredient, ingredient, ingredient, quantity, unit, ingredient, ingredient, ingredient, ingredient, ingredient, ingredient, ingredient, ingredient, ingredient, ingredient, ingredient, ingredient, ingredient, ingredient, ingredient, ingredient)            31          31          True\n",
            "1  500 grams Chicken 2 Onion chopped 1 Tomato 4 Green Chillies slit inch Ginger finely 6 cloves Garlic 1/2 teaspoon Turmeric powder Haldi Garam masala tablespoon Sesame Gingelly Oil 1/4 Methi Seeds Fenugreek Coriander Dhania Dry Red Fennel seeds Saunf cups Sorrel Leaves Gongura picked and  quantity unit ingredient quantity ingredient ingredient quantity ingredient quantity ingredient ingredient ingredient unit ingredient ingredient quantity unit ingredient quantity unit ingredient ingredient ingredient ingredient ingredient unit ingredient ingredient ingredient quantity ingredient ingredient ingredient ingredient ingredient ingredient ingredient ingredient ingredient ingredient unit ingredient ingredient ingredient ingredient ingredient  (500, grams, Chicken, 2, Onion, chopped, 1, Tomato, 4, Green, Chillies, slit, inch, Ginger, finely, 6, cloves, Garlic, 1/2, teaspoon, Turmeric, powder, Haldi, Garam, masala, tablespoon, Sesame, Gingelly, Oil, 1/4, Methi, Seeds, Fenugreek, Coriander, Dhania, Dry, Red, Fennel, seeds, Saunf, cups, Sorrel, Leaves, Gongura, picked, and)  (quantity, unit, ingredient, quantity, ingredient, ingredient, quantity, ingredient, quantity, ingredient, ingredient, ingredient, unit, ingredient, ingredient, quantity, unit, ingredient, quantity, unit, ingredient, ingredient, ingredient, ingredient, ingredient, unit, ingredient, ingredient, ingredient, quantity, ingredient, ingredient, ingredient, ingredient, ingredient, ingredient, ingredient, ingredient, ingredient, ingredient, unit, ingredient, ingredient, ingredient, ingredient, ingredient)            46          46          True\n",
            "2                                                                                                                                                           1 tablespoon chana dal white urad 2 red chillies coriander seeds 3 inches ginger onion tomato Teaspoon mustard asafoetida sprig curry                                                                                                                                                                                                                                                                 quantity unit ingredient ingredient ingredient ingredient quantity ingredient ingredient ingredient ingredient quantity unit ingredient ingredient ingredient unit ingredient ingredient unit ingredient                                                                                                                                                                                    (1, tablespoon, chana, dal, white, urad, 2, red, chillies, coriander, seeds, 3, inches, ginger, onion, tomato, Teaspoon, mustard, asafoetida, sprig, curry)                                                                                                                                                                                                                                                                                          (quantity, unit, ingredient, ingredient, ingredient, ingredient, quantity, ingredient, ingredient, ingredient, ingredient, quantity, unit, ingredient, ingredient, ingredient, unit, ingredient, ingredient, unit, ingredient)            21          21          True\n",
            "3                                         1 cup Rice 1/2 Yellow Moong Dal Mint Leaves 1/4 Coriander Dhania Green Chilli inch Ginger teaspoon Cumin seeds 5 cups Water Sunflower Oil Salt 2 tablespoons Ghee 8 Cashew nuts halved Whole Black Peppercorns sprig Curry leaves pinch Asafoetida hing                                                             quantity unit ingredient quantity ingredient ingredient ingredient ingredient ingredient quantity ingredient ingredient ingredient ingredient unit ingredient unit ingredient ingredient quantity unit ingredient ingredient ingredient ingredient quantity unit ingredient quantity ingredient ingredient ingredient ingredient ingredient ingredient unit ingredient ingredient unit ingredient ingredient                                              (1, cup, Rice, 1/2, Yellow, Moong, Dal, Mint, Leaves, 1/4, Coriander, Dhania, Green, Chilli, inch, Ginger, teaspoon, Cumin, seeds, 5, cups, Water, Sunflower, Oil, Salt, 2, tablespoons, Ghee, 8, Cashew, nuts, halved, Whole, Black, Peppercorns, sprig, Curry, leaves, pinch, Asafoetida, hing)                                                                  (quantity, unit, ingredient, quantity, ingredient, ingredient, ingredient, ingredient, ingredient, quantity, ingredient, ingredient, ingredient, ingredient, unit, ingredient, unit, ingredient, ingredient, quantity, unit, ingredient, ingredient, ingredient, ingredient, quantity, unit, ingredient, quantity, ingredient, ingredient, ingredient, ingredient, ingredient, ingredient, unit, ingredient, ingredient, unit, ingredient, ingredient)            41          41          True\n",
            "4                                        500 grams Vellai Poosanikai 1/2 teaspoon Turmeric powder Salt Sunflower Oil 4 Dry Red Chillies cup Fresh coconut grated 30 Tamarind Water Methi Seeds Cumin seeds 2 teaspoons Coriander Dhania Sesame 3 tablespoons Jaggery 1 Mustard sprig Curry leaves                                                                               quantity unit ingredient ingredient quantity unit ingredient ingredient ingredient ingredient ingredient quantity ingredient ingredient ingredient unit ingredient ingredient ingredient quantity ingredient ingredient ingredient ingredient ingredient ingredient quantity unit ingredient ingredient ingredient quantity unit ingredient quantity ingredient unit ingredient ingredient                                               (500, grams, Vellai, Poosanikai, 1/2, teaspoon, Turmeric, powder, Salt, Sunflower, Oil, 4, Dry, Red, Chillies, cup, Fresh, coconut, grated, 30, Tamarind, Water, Methi, Seeds, Cumin, seeds, 2, teaspoons, Coriander, Dhania, Sesame, 3, tablespoons, Jaggery, 1, Mustard, sprig, Curry, leaves)                                                                                      (quantity, unit, ingredient, ingredient, quantity, unit, ingredient, ingredient, ingredient, ingredient, ingredient, quantity, ingredient, ingredient, ingredient, unit, ingredient, ingredient, ingredient, quantity, ingredient, ingredient, ingredient, ingredient, ingredient, ingredient, quantity, unit, ingredient, ingredient, ingredient, quantity, unit, ingredient, quantity, ingredient, unit, ingredient, ingredient)            39          39          True\n",
            "Validation Summary:\n",
            "length_match\n",
            "True    204\n",
            "Name: count, dtype: int64\n"
          ]
        }
      ],
      "source": [
        "# validate the input length and pos length as input_length and pos_length\n",
        "# Recalculate input_length and pos_length based on latest tokens\n",
        "df[\"input_length\"] = df[\"input_tokens\"].apply(len)\n",
        "df[\"pos_length\"] = df[\"pos_tokens\"].apply(len)\n",
        "\n",
        "# Validate whether input_length matches pos_length\n",
        "df[\"length_match\"] = df[\"input_length\"] == df[\"pos_length\"]\n",
        "\n",
        "# Display the first few rows\n",
        "print(df.head())\n",
        "\n",
        "# Count mismatched rows\n",
        "mismatch_count = df[\"length_match\"].value_counts()\n",
        "print(\"Validation Summary:\")\n",
        "print(mismatch_count)"
      ]
    },
    {
      "cell_type": "markdown",
      "metadata": {
        "id": "TwKLW4em-qMu"
      },
      "source": [
        "## **3** Train Validation Split (70 train - 30 val) <font color = red>[6 marks]</font> <br>"
      ]
    },
    {
      "cell_type": "markdown",
      "metadata": {
        "id": "z_pJDTVO-71z"
      },
      "source": [
        "#### **3.1** *Perform train and validation split ratio* <font color = red>[6 marks]</font> <br>\n",
        "Split the dataset with the help of input_tokens and pos_tokens and make a ratio of 70:30 split for training and validation datasets."
      ]
    },
    {
      "cell_type": "markdown",
      "metadata": {
        "id": "l-64gdDiIy9u"
      },
      "source": [
        "###### **3.1.1** **Split the dataset into train_df and val_df into 70:30 ratio** <font color = red> [1 marks]</font> <br>"
      ]
    },
    {
      "cell_type": "code",
      "execution_count": 39,
      "metadata": {
        "id": "W20A_-9E_WOv",
        "colab": {
          "base_uri": "https://localhost:8080/"
        },
        "outputId": "61f4c178-5990-4344-d603-a95a59cbb0c5"
      },
      "outputs": [
        {
          "output_type": "stream",
          "name": "stdout",
          "text": [
            "Training Data Shape: (142, 7)\n",
            "Validation Data Shape: (62, 7)\n",
            "Training Data Sample:\n",
            "                                                                                                                                                                                                                                                                input                                                                                                                                                                                                                                                                                                                                                                                                                               pos                                                                                                                                                                                                                                                                                                input_tokens                                                                                                                                                                                                                                                                                                                                                                                                                                                                  pos_tokens  input_length  pos_length  length_match\n",
            "98   1 cup Gram flour besan 1/2 teaspoon Ajwain Carom seeds 1/4 Red Chilli powder 2 tablespoons Curd Dahi Yogurt Sunflower Oil Green Bell Pepper Capsicum Cumin Asafoetida hing Turmeric Garam masala Amchur Dry Mango Powder Coriander Dhania 4 sprig Leaves chopped  quantity unit ingredient ingredient ingredient quantity unit ingredient ingredient ingredient quantity ingredient ingredient ingredient quantity unit ingredient ingredient ingredient ingredient ingredient ingredient ingredient ingredient ingredient ingredient ingredient ingredient ingredient ingredient ingredient ingredient ingredient ingredient ingredient ingredient ingredient quantity unit ingredient ingredient  (1, cup, Gram, flour, besan, 1/2, teaspoon, Ajwain, Carom, seeds, 1/4, Red, Chilli, powder, 2, tablespoons, Curd, Dahi, Yogurt, Sunflower, Oil, Green, Bell, Pepper, Capsicum, Cumin, Asafoetida, hing, Turmeric, Garam, masala, Amchur, Dry, Mango, Powder, Coriander, Dhania, 4, sprig, Leaves, chopped)  (quantity, unit, ingredient, ingredient, ingredient, quantity, unit, ingredient, ingredient, ingredient, quantity, ingredient, ingredient, ingredient, quantity, unit, ingredient, ingredient, ingredient, ingredient, ingredient, ingredient, ingredient, ingredient, ingredient, ingredient, ingredient, ingredient, ingredient, ingredient, ingredient, ingredient, ingredient, ingredient, ingredient, ingredient, ingredient, quantity, unit, ingredient, ingredient)            41          41          True\n",
            "31                                                                                                                     1 eggplant 2 inch ginger onion tomato green chillies teaspoon turmeric powder garam masala coriander tablespoon butter red chili oil sprigs of                                                                                                                                                                                                             quantity ingredient quantity unit ingredient ingredient ingredient ingredient ingredient unit ingredient ingredient ingredient ingredient ingredient unit ingredient ingredient ingredient ingredient unit ingredient                                                                                                                                       (1, eggplant, 2, inch, ginger, onion, tomato, green, chillies, teaspoon, turmeric, powder, garam, masala, coriander, tablespoon, butter, red, chili, oil, sprigs, of)                                                                                                                                                                                                                                (quantity, ingredient, quantity, unit, ingredient, ingredient, ingredient, ingredient, ingredient, unit, ingredient, ingredient, ingredient, ingredient, ingredient, unit, ingredient, ingredient, ingredient, ingredient, unit, ingredient)            22          22          True\n",
            "12                                                                                                               2 onions 1 teaspoon cumin seeds tablespoons black urad dal split tamarind paste 3 dry red chillies 1/2 jaggery teaspoons oil salt sprig curry leaves                                                                                                                                                                                quantity ingredient quantity unit ingredient ingredient unit ingredient ingredient ingredient ingredient ingredient ingredient quantity ingredient ingredient ingredient quantity ingredient unit ingredient ingredient unit ingredient ingredient                                                                                                                              (2, onions, 1, teaspoon, cumin, seeds, tablespoons, black, urad, dal, split, tamarind, paste, 3, dry, red, chillies, 1/2, jaggery, teaspoons, oil, salt, sprig, curry, leaves)                                                                                                                                                                                                (quantity, ingredient, quantity, unit, ingredient, ingredient, unit, ingredient, ingredient, ingredient, ingredient, ingredient, ingredient, quantity, ingredient, ingredient, ingredient, quantity, ingredient, unit, ingredient, ingredient, unit, ingredient, ingredient)            25          25          True\n",
            "35                                                                                                      2 cups Makki Ka Atta Yellow Corn Meal Flour 1 1/2 Methi Leaves Fenugreek chopped Green Chillies tablespoon Ajwain Carom seeds Kashmiri Red Chilli Powder Salt                                                                                                                                                       quantity unit ingredient ingredient ingredient ingredient ingredient ingredient ingredient quantity quantity ingredient ingredient ingredient ingredient ingredient ingredient unit ingredient ingredient ingredient ingredient ingredient ingredient ingredient ingredient                                                                                                                    (2, cups, Makki, Ka, Atta, Yellow, Corn, Meal, Flour, 1, 1/2, Methi, Leaves, Fenugreek, chopped, Green, Chillies, tablespoon, Ajwain, Carom, seeds, Kashmiri, Red, Chilli, Powder, Salt)                                                                                                                                                                      (quantity, unit, ingredient, ingredient, ingredient, ingredient, ingredient, ingredient, ingredient, quantity, quantity, ingredient, ingredient, ingredient, ingredient, ingredient, ingredient, unit, ingredient, ingredient, ingredient, ingredient, ingredient, ingredient, ingredient, ingredient)            26          26          True\n",
            "120                                                      10 prawns 1 tablespoon soy sauce teaspoon sesame gingelly oil cloves garlic finely chopped 2 green chillies coriander dhania leaves 1/2 whole black peppercorns crushed sunflower salt few drops lemon juice                                                                                                    quantity ingredient quantity unit ingredient ingredient unit ingredient ingredient ingredient ingredient ingredient ingredient ingredient quantity ingredient ingredient ingredient ingredient ingredient quantity ingredient ingredient ingredient ingredient ingredient ingredient quantity ingredient ingredient ingredient                                                                (10, prawns, 1, tablespoon, soy, sauce, teaspoon, sesame, gingelly, oil, cloves, garlic, finely, chopped, 2, green, chillies, coriander, dhania, leaves, 1/2, whole, black, peppercorns, crushed, sunflower, salt, few, drops, lemon, juice)                                                                                                              (quantity, ingredient, quantity, unit, ingredient, ingredient, unit, ingredient, ingredient, ingredient, ingredient, ingredient, ingredient, ingredient, quantity, ingredient, ingredient, ingredient, ingredient, ingredient, quantity, ingredient, ingredient, ingredient, ingredient, ingredient, ingredient, quantity, ingredient, ingredient, ingredient)            31          31          True\n",
            "\n",
            "Validation Data Sample:\n",
            "                                                                                                                                                                                                                                                                                                                                                                  input                                                                                                                                                                                                                                                                                                                                                                                                                                                                                                                                                                                         pos                                                                                                                                                                                                                                                                                                                                                                                                                input_tokens                                                                                                                                                                                                                                                                                                                                                                                                                                                                                                                                                                                                                                          pos_tokens  input_length  pos_length  length_match\n",
            "15                                                                                                                                                           1 cup rice 12 small onions 2 cloves garlic inch ginger green chillies bay leaf tsp red chilli powder turmeric carrot beans potatoes ghee cinnamon fennel whole pepper coriander seeds 1/4 peas mint leaves                                                                                                                                                                                                                                             quantity unit ingredient quantity unit ingredient quantity ingredient ingredient unit ingredient unit ingredient ingredient ingredient unit ingredient ingredient ingredient ingredient ingredient ingredient ingredient ingredient ingredient ingredient ingredient ingredient ingredient ingredient quantity ingredient ingredient ingredient                                                                                                                                                                               (1, cup, rice, 12, small, onions, 2, cloves, garlic, inch, ginger, green, chillies, bay, leaf, tsp, red, chilli, powder, turmeric, carrot, beans, potatoes, ghee, cinnamon, fennel, whole, pepper, coriander, seeds, 1/4, peas, mint, leaves)                                                                                                                                                                                                                                                                  (quantity, unit, ingredient, quantity, unit, ingredient, quantity, ingredient, ingredient, unit, ingredient, unit, ingredient, ingredient, ingredient, unit, ingredient, ingredient, ingredient, ingredient, ingredient, ingredient, ingredient, ingredient, ingredient, ingredient, ingredient, ingredient, ingredient, ingredient, quantity, ingredient, ingredient, ingredient)            34          34          True\n",
            "9    2 Burger buns 5 Pickled Jalapenos sliced Cheese Slices Potatoes Aloo pressure cooked 1 Onion chopped tablespoon Red Chilli powder Salt Whole Egg 1/2 cup Wheat Bread crumbs 4 cloves Garlic Onions Tomatoes Homemade tomato puree Green Bell Pepper Capsicum Soy granules teaspoon flakes Cumin Jeera Dried oregano Tabasco Original Hot Sauce Honey Sunflower Oil  quantity ingredient ingredient quantity ingredient ingredient ingredient ingredient ingredient ingredient ingredient ingredient ingredient quantity ingredient ingredient unit ingredient ingredient ingredient ingredient ingredient ingredient quantity unit ingredient ingredient ingredient quantity unit ingredient ingredient ingredient ingredient ingredient ingredient ingredient ingredient ingredient ingredient ingredient ingredient unit ingredient ingredient ingredient ingredient ingredient ingredient ingredient ingredient ingredient ingredient ingredient ingredient  (2, Burger, buns, 5, Pickled, Jalapenos, sliced, Cheese, Slices, Potatoes, Aloo, pressure, cooked, 1, Onion, chopped, tablespoon, Red, Chilli, powder, Salt, Whole, Egg, 1/2, cup, Wheat, Bread, crumbs, 4, cloves, Garlic, Onions, Tomatoes, Homemade, tomato, puree, Green, Bell, Pepper, Capsicum, Soy, granules, teaspoon, flakes, Cumin, Jeera, Dried, oregano, Tabasco, Original, Hot, Sauce, Honey, Sunflower, Oil)  (quantity, ingredient, ingredient, quantity, ingredient, ingredient, ingredient, ingredient, ingredient, ingredient, ingredient, ingredient, ingredient, quantity, ingredient, ingredient, unit, ingredient, ingredient, ingredient, ingredient, ingredient, ingredient, quantity, unit, ingredient, ingredient, ingredient, quantity, unit, ingredient, ingredient, ingredient, ingredient, ingredient, ingredient, ingredient, ingredient, ingredient, ingredient, ingredient, ingredient, unit, ingredient, ingredient, ingredient, ingredient, ingredient, ingredient, ingredient, ingredient, ingredient, ingredient, ingredient, ingredient)            55          55          True\n",
            "115                                                                                                                                                                                                                                     1/4 cup Rice Yellow Moong Dal 1 Carrot Gajjar 3 Green beans French Beans teaspoon Ghee Cumin seeds Asafoetida hing Salt a pinch                                                                                                                                                                                                                                                                                                                                                          quantity unit ingredient ingredient ingredient ingredient quantity ingredient ingredient quantity ingredient ingredient ingredient ingredient unit ingredient ingredient ingredient ingredient ingredient ingredient quantity unit                                                                                                                                                                                                                                                                     (1/4, cup, Rice, Yellow, Moong, Dal, 1, Carrot, Gajjar, 3, Green, beans, French, Beans, teaspoon, Ghee, Cumin, seeds, Asafoetida, hing, Salt, a, pinch)                                                                                                                                                                                                                                                                                                                                                                                          (quantity, unit, ingredient, ingredient, ingredient, ingredient, quantity, ingredient, ingredient, quantity, ingredient, ingredient, ingredient, ingredient, unit, ingredient, ingredient, ingredient, ingredient, ingredient, ingredient, quantity, unit)            23          23          True\n",
            "78                                                                                                               4 Potatoes Aloo 50 grams Mozzarella cheese 1 teaspoon Mustard seeds inch Ginger grated Onion finely chopped 2 Green Chillies 1/4 Asafoetida hing 1/2 Turmeric powder Haldi Coriander Dhania Leaves small bunch Sunflower Oil cup Gram flour besan Salt                                                                                                                                                                                    quantity ingredient ingredient quantity unit ingredient ingredient quantity unit ingredient ingredient unit ingredient ingredient ingredient ingredient ingredient quantity ingredient ingredient quantity ingredient ingredient quantity ingredient ingredient ingredient ingredient ingredient ingredient ingredient ingredient ingredient ingredient unit ingredient ingredient ingredient ingredient                                                                                                                              (4, Potatoes, Aloo, 50, grams, Mozzarella, cheese, 1, teaspoon, Mustard, seeds, inch, Ginger, grated, Onion, finely, chopped, 2, Green, Chillies, 1/4, Asafoetida, hing, 1/2, Turmeric, powder, Haldi, Coriander, Dhania, Leaves, small, bunch, Sunflower, Oil, cup, Gram, flour, besan, Salt)                                                                                                                                                                                                    (quantity, ingredient, ingredient, quantity, unit, ingredient, ingredient, quantity, unit, ingredient, ingredient, unit, ingredient, ingredient, ingredient, ingredient, ingredient, quantity, ingredient, ingredient, quantity, ingredient, ingredient, quantity, ingredient, ingredient, ingredient, ingredient, ingredient, ingredient, ingredient, ingredient, ingredient, ingredient, unit, ingredient, ingredient, ingredient, ingredient)            39          39          True\n",
            "66                                                                       1 cup rice 2 water tsp ghee cardamom long star anise 1/2 inch cinnamon whole black pepper bay leaf 1/4 onion sprig green coriander mint 200 grams cottage cheese tomatoes tablespoons cream ginger 3 cloves garlic chili powder cumin garam masala red chilli kasoori methi honey tbsp cashews                                                                                                   quantity unit ingredient quantity ingredient unit ingredient ingredient ingredient ingredient ingredient quantity unit ingredient ingredient ingredient ingredient ingredient ingredient quantity ingredient unit ingredient ingredient ingredient quantity unit ingredient ingredient ingredient unit ingredient ingredient quantity ingredient ingredient ingredient ingredient ingredient ingredient ingredient ingredient ingredient ingredient ingredient ingredient unit ingredient                                                                             (1, cup, rice, 2, water, tsp, ghee, cardamom, long, star, anise, 1/2, inch, cinnamon, whole, black, pepper, bay, leaf, 1/4, onion, sprig, green, coriander, mint, 200, grams, cottage, cheese, tomatoes, tablespoons, cream, ginger, 3, cloves, garlic, chili, powder, cumin, garam, masala, red, chilli, kasoori, methi, honey, tbsp, cashews)                                                                                                          (quantity, unit, ingredient, quantity, ingredient, unit, ingredient, ingredient, ingredient, ingredient, ingredient, quantity, unit, ingredient, ingredient, ingredient, ingredient, ingredient, ingredient, quantity, ingredient, unit, ingredient, ingredient, ingredient, quantity, unit, ingredient, ingredient, ingredient, unit, ingredient, ingredient, quantity, ingredient, ingredient, ingredient, ingredient, ingredient, ingredient, ingredient, ingredient, ingredient, ingredient, ingredient, ingredient, unit, ingredient)            48          48          True\n"
          ]
        }
      ],
      "source": [
        "# split the dataset into training and validation sets\n",
        "from sklearn.model_selection import train_test_split\n",
        "\n",
        "# Perform train-validation split (70% train, 30% validation)\n",
        "train_df, val_df = train_test_split(df, test_size=0.3, random_state=42)\n",
        "\n",
        "# Display dataset sizes after split\n",
        "print(f\"Training Data Shape: {train_df.shape}\")\n",
        "print(f\"Validation Data Shape: {val_df.shape}\")\n",
        "\n",
        "# Preview first few rows\n",
        "print(\"Training Data Sample:\")\n",
        "print(train_df.head())\n",
        "print(\"\\nValidation Data Sample:\")\n",
        "print(val_df.head())\n"
      ]
    },
    {
      "cell_type": "markdown",
      "metadata": {
        "id": "PUA05_77JRAv"
      },
      "source": [
        "###### **3.1.2** **Print the first five rows of train_df and val_df** <font color = red> [1 marks]</font> <br>"
      ]
    },
    {
      "cell_type": "code",
      "execution_count": 40,
      "metadata": {
        "id": "pgMZfsbV_XhK",
        "colab": {
          "base_uri": "https://localhost:8080/"
        },
        "outputId": "6d96272a-5968-436f-947c-6c477e7e8600"
      },
      "outputs": [
        {
          "output_type": "stream",
          "name": "stdout",
          "text": [
            "                                                                                                                                                                                                                                                                input                                                                                                                                                                                                                                                                                                                                                                                                                               pos                                                                                                                                                                                                                                                                                                input_tokens                                                                                                                                                                                                                                                                                                                                                                                                                                                                  pos_tokens  input_length  pos_length  length_match\n",
            "98   1 cup Gram flour besan 1/2 teaspoon Ajwain Carom seeds 1/4 Red Chilli powder 2 tablespoons Curd Dahi Yogurt Sunflower Oil Green Bell Pepper Capsicum Cumin Asafoetida hing Turmeric Garam masala Amchur Dry Mango Powder Coriander Dhania 4 sprig Leaves chopped  quantity unit ingredient ingredient ingredient quantity unit ingredient ingredient ingredient quantity ingredient ingredient ingredient quantity unit ingredient ingredient ingredient ingredient ingredient ingredient ingredient ingredient ingredient ingredient ingredient ingredient ingredient ingredient ingredient ingredient ingredient ingredient ingredient ingredient ingredient quantity unit ingredient ingredient  (1, cup, Gram, flour, besan, 1/2, teaspoon, Ajwain, Carom, seeds, 1/4, Red, Chilli, powder, 2, tablespoons, Curd, Dahi, Yogurt, Sunflower, Oil, Green, Bell, Pepper, Capsicum, Cumin, Asafoetida, hing, Turmeric, Garam, masala, Amchur, Dry, Mango, Powder, Coriander, Dhania, 4, sprig, Leaves, chopped)  (quantity, unit, ingredient, ingredient, ingredient, quantity, unit, ingredient, ingredient, ingredient, quantity, ingredient, ingredient, ingredient, quantity, unit, ingredient, ingredient, ingredient, ingredient, ingredient, ingredient, ingredient, ingredient, ingredient, ingredient, ingredient, ingredient, ingredient, ingredient, ingredient, ingredient, ingredient, ingredient, ingredient, ingredient, ingredient, quantity, unit, ingredient, ingredient)            41          41          True\n",
            "31                                                                                                                     1 eggplant 2 inch ginger onion tomato green chillies teaspoon turmeric powder garam masala coriander tablespoon butter red chili oil sprigs of                                                                                                                                                                                                             quantity ingredient quantity unit ingredient ingredient ingredient ingredient ingredient unit ingredient ingredient ingredient ingredient ingredient unit ingredient ingredient ingredient ingredient unit ingredient                                                                                                                                       (1, eggplant, 2, inch, ginger, onion, tomato, green, chillies, teaspoon, turmeric, powder, garam, masala, coriander, tablespoon, butter, red, chili, oil, sprigs, of)                                                                                                                                                                                                                                (quantity, ingredient, quantity, unit, ingredient, ingredient, ingredient, ingredient, ingredient, unit, ingredient, ingredient, ingredient, ingredient, ingredient, unit, ingredient, ingredient, ingredient, ingredient, unit, ingredient)            22          22          True\n",
            "12                                                                                                               2 onions 1 teaspoon cumin seeds tablespoons black urad dal split tamarind paste 3 dry red chillies 1/2 jaggery teaspoons oil salt sprig curry leaves                                                                                                                                                                                quantity ingredient quantity unit ingredient ingredient unit ingredient ingredient ingredient ingredient ingredient ingredient quantity ingredient ingredient ingredient quantity ingredient unit ingredient ingredient unit ingredient ingredient                                                                                                                              (2, onions, 1, teaspoon, cumin, seeds, tablespoons, black, urad, dal, split, tamarind, paste, 3, dry, red, chillies, 1/2, jaggery, teaspoons, oil, salt, sprig, curry, leaves)                                                                                                                                                                                                (quantity, ingredient, quantity, unit, ingredient, ingredient, unit, ingredient, ingredient, ingredient, ingredient, ingredient, ingredient, quantity, ingredient, ingredient, ingredient, quantity, ingredient, unit, ingredient, ingredient, unit, ingredient, ingredient)            25          25          True\n",
            "35                                                                                                      2 cups Makki Ka Atta Yellow Corn Meal Flour 1 1/2 Methi Leaves Fenugreek chopped Green Chillies tablespoon Ajwain Carom seeds Kashmiri Red Chilli Powder Salt                                                                                                                                                       quantity unit ingredient ingredient ingredient ingredient ingredient ingredient ingredient quantity quantity ingredient ingredient ingredient ingredient ingredient ingredient unit ingredient ingredient ingredient ingredient ingredient ingredient ingredient ingredient                                                                                                                    (2, cups, Makki, Ka, Atta, Yellow, Corn, Meal, Flour, 1, 1/2, Methi, Leaves, Fenugreek, chopped, Green, Chillies, tablespoon, Ajwain, Carom, seeds, Kashmiri, Red, Chilli, Powder, Salt)                                                                                                                                                                      (quantity, unit, ingredient, ingredient, ingredient, ingredient, ingredient, ingredient, ingredient, quantity, quantity, ingredient, ingredient, ingredient, ingredient, ingredient, ingredient, unit, ingredient, ingredient, ingredient, ingredient, ingredient, ingredient, ingredient, ingredient)            26          26          True\n",
            "120                                                      10 prawns 1 tablespoon soy sauce teaspoon sesame gingelly oil cloves garlic finely chopped 2 green chillies coriander dhania leaves 1/2 whole black peppercorns crushed sunflower salt few drops lemon juice                                                                                                    quantity ingredient quantity unit ingredient ingredient unit ingredient ingredient ingredient ingredient ingredient ingredient ingredient quantity ingredient ingredient ingredient ingredient ingredient quantity ingredient ingredient ingredient ingredient ingredient ingredient quantity ingredient ingredient ingredient                                                                (10, prawns, 1, tablespoon, soy, sauce, teaspoon, sesame, gingelly, oil, cloves, garlic, finely, chopped, 2, green, chillies, coriander, dhania, leaves, 1/2, whole, black, peppercorns, crushed, sunflower, salt, few, drops, lemon, juice)                                                                                                              (quantity, ingredient, quantity, unit, ingredient, ingredient, unit, ingredient, ingredient, ingredient, ingredient, ingredient, ingredient, ingredient, quantity, ingredient, ingredient, ingredient, ingredient, ingredient, quantity, ingredient, ingredient, ingredient, ingredient, ingredient, ingredient, quantity, ingredient, ingredient, ingredient)            31          31          True\n"
          ]
        }
      ],
      "source": [
        "# print the first five rows of train_df\n",
        "print(train_df.head())\n"
      ]
    },
    {
      "cell_type": "code",
      "execution_count": 41,
      "metadata": {
        "id": "Kgtg5WE4_d7h",
        "colab": {
          "base_uri": "https://localhost:8080/"
        },
        "outputId": "c495384f-508d-476a-9bec-4064a9367175"
      },
      "outputs": [
        {
          "output_type": "stream",
          "name": "stdout",
          "text": [
            "                                                                                                                                                                                                                                                                                                                                                                  input                                                                                                                                                                                                                                                                                                                                                                                                                                                                                                                                                                                         pos                                                                                                                                                                                                                                                                                                                                                                                                                input_tokens                                                                                                                                                                                                                                                                                                                                                                                                                                                                                                                                                                                                                                          pos_tokens  input_length  pos_length  length_match\n",
            "15                                                                                                                                                           1 cup rice 12 small onions 2 cloves garlic inch ginger green chillies bay leaf tsp red chilli powder turmeric carrot beans potatoes ghee cinnamon fennel whole pepper coriander seeds 1/4 peas mint leaves                                                                                                                                                                                                                                             quantity unit ingredient quantity unit ingredient quantity ingredient ingredient unit ingredient unit ingredient ingredient ingredient unit ingredient ingredient ingredient ingredient ingredient ingredient ingredient ingredient ingredient ingredient ingredient ingredient ingredient ingredient quantity ingredient ingredient ingredient                                                                                                                                                                               (1, cup, rice, 12, small, onions, 2, cloves, garlic, inch, ginger, green, chillies, bay, leaf, tsp, red, chilli, powder, turmeric, carrot, beans, potatoes, ghee, cinnamon, fennel, whole, pepper, coriander, seeds, 1/4, peas, mint, leaves)                                                                                                                                                                                                                                                                  (quantity, unit, ingredient, quantity, unit, ingredient, quantity, ingredient, ingredient, unit, ingredient, unit, ingredient, ingredient, ingredient, unit, ingredient, ingredient, ingredient, ingredient, ingredient, ingredient, ingredient, ingredient, ingredient, ingredient, ingredient, ingredient, ingredient, ingredient, quantity, ingredient, ingredient, ingredient)            34          34          True\n",
            "9    2 Burger buns 5 Pickled Jalapenos sliced Cheese Slices Potatoes Aloo pressure cooked 1 Onion chopped tablespoon Red Chilli powder Salt Whole Egg 1/2 cup Wheat Bread crumbs 4 cloves Garlic Onions Tomatoes Homemade tomato puree Green Bell Pepper Capsicum Soy granules teaspoon flakes Cumin Jeera Dried oregano Tabasco Original Hot Sauce Honey Sunflower Oil  quantity ingredient ingredient quantity ingredient ingredient ingredient ingredient ingredient ingredient ingredient ingredient ingredient quantity ingredient ingredient unit ingredient ingredient ingredient ingredient ingredient ingredient quantity unit ingredient ingredient ingredient quantity unit ingredient ingredient ingredient ingredient ingredient ingredient ingredient ingredient ingredient ingredient ingredient ingredient unit ingredient ingredient ingredient ingredient ingredient ingredient ingredient ingredient ingredient ingredient ingredient ingredient  (2, Burger, buns, 5, Pickled, Jalapenos, sliced, Cheese, Slices, Potatoes, Aloo, pressure, cooked, 1, Onion, chopped, tablespoon, Red, Chilli, powder, Salt, Whole, Egg, 1/2, cup, Wheat, Bread, crumbs, 4, cloves, Garlic, Onions, Tomatoes, Homemade, tomato, puree, Green, Bell, Pepper, Capsicum, Soy, granules, teaspoon, flakes, Cumin, Jeera, Dried, oregano, Tabasco, Original, Hot, Sauce, Honey, Sunflower, Oil)  (quantity, ingredient, ingredient, quantity, ingredient, ingredient, ingredient, ingredient, ingredient, ingredient, ingredient, ingredient, ingredient, quantity, ingredient, ingredient, unit, ingredient, ingredient, ingredient, ingredient, ingredient, ingredient, quantity, unit, ingredient, ingredient, ingredient, quantity, unit, ingredient, ingredient, ingredient, ingredient, ingredient, ingredient, ingredient, ingredient, ingredient, ingredient, ingredient, ingredient, unit, ingredient, ingredient, ingredient, ingredient, ingredient, ingredient, ingredient, ingredient, ingredient, ingredient, ingredient, ingredient)            55          55          True\n",
            "115                                                                                                                                                                                                                                     1/4 cup Rice Yellow Moong Dal 1 Carrot Gajjar 3 Green beans French Beans teaspoon Ghee Cumin seeds Asafoetida hing Salt a pinch                                                                                                                                                                                                                                                                                                                                                          quantity unit ingredient ingredient ingredient ingredient quantity ingredient ingredient quantity ingredient ingredient ingredient ingredient unit ingredient ingredient ingredient ingredient ingredient ingredient quantity unit                                                                                                                                                                                                                                                                     (1/4, cup, Rice, Yellow, Moong, Dal, 1, Carrot, Gajjar, 3, Green, beans, French, Beans, teaspoon, Ghee, Cumin, seeds, Asafoetida, hing, Salt, a, pinch)                                                                                                                                                                                                                                                                                                                                                                                          (quantity, unit, ingredient, ingredient, ingredient, ingredient, quantity, ingredient, ingredient, quantity, ingredient, ingredient, ingredient, ingredient, unit, ingredient, ingredient, ingredient, ingredient, ingredient, ingredient, quantity, unit)            23          23          True\n",
            "78                                                                                                               4 Potatoes Aloo 50 grams Mozzarella cheese 1 teaspoon Mustard seeds inch Ginger grated Onion finely chopped 2 Green Chillies 1/4 Asafoetida hing 1/2 Turmeric powder Haldi Coriander Dhania Leaves small bunch Sunflower Oil cup Gram flour besan Salt                                                                                                                                                                                    quantity ingredient ingredient quantity unit ingredient ingredient quantity unit ingredient ingredient unit ingredient ingredient ingredient ingredient ingredient quantity ingredient ingredient quantity ingredient ingredient quantity ingredient ingredient ingredient ingredient ingredient ingredient ingredient ingredient ingredient ingredient unit ingredient ingredient ingredient ingredient                                                                                                                              (4, Potatoes, Aloo, 50, grams, Mozzarella, cheese, 1, teaspoon, Mustard, seeds, inch, Ginger, grated, Onion, finely, chopped, 2, Green, Chillies, 1/4, Asafoetida, hing, 1/2, Turmeric, powder, Haldi, Coriander, Dhania, Leaves, small, bunch, Sunflower, Oil, cup, Gram, flour, besan, Salt)                                                                                                                                                                                                    (quantity, ingredient, ingredient, quantity, unit, ingredient, ingredient, quantity, unit, ingredient, ingredient, unit, ingredient, ingredient, ingredient, ingredient, ingredient, quantity, ingredient, ingredient, quantity, ingredient, ingredient, quantity, ingredient, ingredient, ingredient, ingredient, ingredient, ingredient, ingredient, ingredient, ingredient, ingredient, unit, ingredient, ingredient, ingredient, ingredient)            39          39          True\n",
            "66                                                                       1 cup rice 2 water tsp ghee cardamom long star anise 1/2 inch cinnamon whole black pepper bay leaf 1/4 onion sprig green coriander mint 200 grams cottage cheese tomatoes tablespoons cream ginger 3 cloves garlic chili powder cumin garam masala red chilli kasoori methi honey tbsp cashews                                                                                                   quantity unit ingredient quantity ingredient unit ingredient ingredient ingredient ingredient ingredient quantity unit ingredient ingredient ingredient ingredient ingredient ingredient quantity ingredient unit ingredient ingredient ingredient quantity unit ingredient ingredient ingredient unit ingredient ingredient quantity ingredient ingredient ingredient ingredient ingredient ingredient ingredient ingredient ingredient ingredient ingredient ingredient unit ingredient                                                                             (1, cup, rice, 2, water, tsp, ghee, cardamom, long, star, anise, 1/2, inch, cinnamon, whole, black, pepper, bay, leaf, 1/4, onion, sprig, green, coriander, mint, 200, grams, cottage, cheese, tomatoes, tablespoons, cream, ginger, 3, cloves, garlic, chili, powder, cumin, garam, masala, red, chilli, kasoori, methi, honey, tbsp, cashews)                                                                                                          (quantity, unit, ingredient, quantity, ingredient, unit, ingredient, ingredient, ingredient, ingredient, ingredient, quantity, unit, ingredient, ingredient, ingredient, ingredient, ingredient, ingredient, quantity, ingredient, unit, ingredient, ingredient, ingredient, quantity, unit, ingredient, ingredient, ingredient, unit, ingredient, ingredient, quantity, ingredient, ingredient, ingredient, ingredient, ingredient, ingredient, ingredient, ingredient, ingredient, ingredient, ingredient, ingredient, unit, ingredient)            48          48          True\n"
          ]
        }
      ],
      "source": [
        "# print the first five rows of the val_df\n",
        "print(val_df.head())\n"
      ]
    },
    {
      "cell_type": "markdown",
      "metadata": {
        "id": "7prEiaiqI_VZ"
      },
      "source": [
        "###### **3.1.3** **Extract the dataset into train_df and val_df into X_train, X_val, y_train and y_val and display their length** <font color = red> [2 marks]</font> <br>\n",
        "\n",
        "Extract X_train, X_val, y_train and y_val by extracting the list of input_tokens and pos_tokens from train_df and val_df and also display their length"
      ]
    },
    {
      "cell_type": "code",
      "execution_count": 42,
      "metadata": {
        "id": "BFVnCD71IHXF",
        "colab": {
          "base_uri": "https://localhost:8080/"
        },
        "outputId": "62526704-cd14-459b-d7d6-7aab068dd989"
      },
      "outputs": [
        {
          "output_type": "stream",
          "name": "stdout",
          "text": [
            "Length of X_train: 142\n",
            "Length of y_train: 142\n",
            "Length of X_val: 62\n",
            "Length of y_val: 62\n"
          ]
        }
      ],
      "source": [
        "# extract the training and validation sets by taking input_tokens and pos_tokens\n",
        "# Extract features (input_tokens) and labels (pos_tokens)\n",
        "X_train = train_df[\"input_tokens\"].tolist()  # Features for training\n",
        "y_train = train_df[\"pos_tokens\"].tolist()    # Labels for training\n",
        "\n",
        "X_val = val_df[\"input_tokens\"].tolist()      # Features for validation\n",
        "y_val = val_df[\"pos_tokens\"].tolist()        # Labels for validation\n",
        "\n",
        "# Display lengths of extracted sets\n",
        "print(f\"Length of X_train: {len(X_train)}\")\n",
        "print(f\"Length of y_train: {len(y_train)}\")\n",
        "print(f\"Length of X_val: {len(X_val)}\")\n",
        "print(f\"Length of y_val: {len(y_val)}\")\n"
      ]
    },
    {
      "cell_type": "code",
      "execution_count": 43,
      "metadata": {
        "id": "yQPOVz3J_fiq",
        "colab": {
          "base_uri": "https://localhost:8080/"
        },
        "outputId": "2e5c8ddb-238b-4516-a556-4c27749db2d6"
      },
      "outputs": [
        {
          "output_type": "stream",
          "name": "stdout",
          "text": [
            "Shape of train_df: (142, 7)\n",
            "Shape of val_df: (62, 7)\n",
            "Length of X_train: 142, Length of y_train: 142\n",
            "Length of X_val: 62, Length of y_val: 62\n"
          ]
        }
      ],
      "source": [
        "# validate the shape of training and validation samples\n",
        "# Validate shape of DataFrames\n",
        "print(f\"Shape of train_df: {train_df.shape}\")\n",
        "print(f\"Shape of val_df: {val_df.shape}\")\n",
        "\n",
        "# Validate lengths of extracted training and validation sets\n",
        "print(f\"Length of X_train: {len(X_train)}, Length of y_train: {len(y_train)}\")\n",
        "print(f\"Length of X_val: {len(X_val)}, Length of y_val: {len(y_val)}\")\n"
      ]
    },
    {
      "cell_type": "markdown",
      "metadata": {
        "id": "8uicUYglLeiA"
      },
      "source": [
        "###### **3.1.4** **Display the number of unique labels present in y_train** <font color = red> [2 marks]</font> <br>"
      ]
    },
    {
      "cell_type": "code",
      "execution_count": 44,
      "metadata": {
        "id": "hzWtzpdINt6X",
        "colab": {
          "base_uri": "https://localhost:8080/"
        },
        "outputId": "c0ffbb07-e58a-4bba-f24a-05cb8f40c6cb"
      },
      "outputs": [
        {
          "output_type": "stream",
          "name": "stdout",
          "text": [
            "Number of unique labels in y_train: 3\n"
          ]
        }
      ],
      "source": [
        "# Display the number of unique labels present in y_train\n",
        "# Flatten the list and find unique labels\n",
        "unique_labels = set(label for tags in y_train for label in tags)\n",
        "\n",
        "# Display the number of unique labels\n",
        "print(f\"Number of unique labels in y_train: {len(unique_labels)}\")\n"
      ]
    },
    {
      "cell_type": "markdown",
      "metadata": {
        "id": "QFm46QrB4gmj"
      },
      "source": [
        "## **4** Exploratory Recipe Data Analysis on Training Dataset <font color = red>[16 marks]</font> <br>"
      ]
    },
    {
      "cell_type": "markdown",
      "metadata": {
        "id": "KUWIp0n_NeH6"
      },
      "source": [
        "#### **4.1** *Flatten the lists for input_tokens & pos_tokens* <font color = red>[2 marks]</font> <br>\n",
        "\n",
        "Define a function **flatten_list** for flattening the structure for input_tokens and pos_tokens. The input parameter passed to this function is a nested list.\n",
        "\n",
        "Initialise the dataset_name with a value ***'Training'***\n",
        "\n",
        "\n"
      ]
    },
    {
      "cell_type": "code",
      "execution_count": 45,
      "metadata": {
        "id": "WzcY0gPiOe8o",
        "colab": {
          "base_uri": "https://localhost:8080/"
        },
        "outputId": "fa9de410-a3a7-408b-eae5-9d050eebd949"
      },
      "outputs": [
        {
          "output_type": "stream",
          "name": "stdout",
          "text": [
            "Dataset Name: Training\n",
            "Total Flattened Input Tokens: 4632\n",
            "Total Flattened POS Tokens: 4632\n"
          ]
        }
      ],
      "source": [
        "# flatten the list for nested_list (input_tokens, pos_tokens)\n",
        "def flatten_list(nested_list):\n",
        "    \"\"\"\n",
        "    Flattens a nested list structure.\n",
        "\n",
        "    Parameters:\n",
        "    ----------\n",
        "    nested_list : list\n",
        "        A list containing nested lists.\n",
        "\n",
        "    Returns:\n",
        "    --------\n",
        "    list\n",
        "        A flattened list with all elements combined.\n",
        "    \"\"\"\n",
        "    return [item for sublist in nested_list for item in sublist]\n",
        "\n",
        "# Initialize dataset name\n",
        "dataset_name = \"Training\"\n",
        "\n",
        "# Flatten the input_tokens and pos_tokens from training data\n",
        "flattened_input_tokens = flatten_list(X_train)\n",
        "flattened_pos_tokens = flatten_list(y_train)\n",
        "\n",
        "# Display results\n",
        "print(f\"Dataset Name: {dataset_name}\")\n",
        "print(f\"Total Flattened Input Tokens: {len(flattened_input_tokens)}\")\n",
        "print(f\"Total Flattened POS Tokens: {len(flattened_pos_tokens)}\")\n"
      ]
    },
    {
      "cell_type": "code",
      "execution_count": 46,
      "metadata": {
        "id": "DXRda29gNBH8"
      },
      "outputs": [],
      "source": [
        "# initialise the dataset_name\n",
        "dataset_name = 'Training'"
      ]
    },
    {
      "cell_type": "markdown",
      "metadata": {
        "id": "eGOqhd8OOr1E"
      },
      "source": [
        "#### **4.2** *Extract and validate the tokens after using the flattening technique* <font color = red>[2 marks]</font> <br>\n",
        "\n",
        "Define a function named ***extract_and_validate_tokens*** with parameters dataframe and dataset_name (Training/Validation), validate the length of input_tokens and pos_tokens from dataframe and display first 10 records for both the input_tokens and pos_tokens. Execute this function\n",
        "\n",
        "\n"
      ]
    },
    {
      "cell_type": "code",
      "execution_count": 47,
      "metadata": {
        "id": "H3GMX83xP7ja",
        "colab": {
          "base_uri": "https://localhost:8080/"
        },
        "outputId": "b1bc024c-7be3-4ce3-d00e-a8018302784d"
      },
      "outputs": [
        {
          "output_type": "stream",
          "name": "stdout",
          "text": [
            "Processing Dataset: Training\n",
            "Total Flattened Input Tokens: 4632\n",
            "Total Flattened POS Tokens: 4632\n",
            "\n",
            "First 10 Records:\n",
            "                                                                                                                                                                                                                                                                                                                                                                                input_tokens                                                                                                                                                                                                                                                                                                                                                                                                                                                                                                                                                                            pos_tokens\n",
            "98                                                                                (1, cup, Gram, flour, besan, 1/2, teaspoon, Ajwain, Carom, seeds, 1/4, Red, Chilli, powder, 2, tablespoons, Curd, Dahi, Yogurt, Sunflower, Oil, Green, Bell, Pepper, Capsicum, Cumin, Asafoetida, hing, Turmeric, Garam, masala, Amchur, Dry, Mango, Powder, Coriander, Dhania, 4, sprig, Leaves, chopped)                                                                                                            (quantity, unit, ingredient, ingredient, ingredient, quantity, unit, ingredient, ingredient, ingredient, quantity, ingredient, ingredient, ingredient, quantity, unit, ingredient, ingredient, ingredient, ingredient, ingredient, ingredient, ingredient, ingredient, ingredient, ingredient, ingredient, ingredient, ingredient, ingredient, ingredient, ingredient, ingredient, ingredient, ingredient, ingredient, ingredient, quantity, unit, ingredient, ingredient)\n",
            "31                                                                                                                                                                                                                     (1, eggplant, 2, inch, ginger, onion, tomato, green, chillies, teaspoon, turmeric, powder, garam, masala, coriander, tablespoon, butter, red, chili, oil, sprigs, of)                                                                                                                                                                                                                                                                                                                                          (quantity, ingredient, quantity, unit, ingredient, ingredient, ingredient, ingredient, ingredient, unit, ingredient, ingredient, ingredient, ingredient, ingredient, unit, ingredient, ingredient, ingredient, ingredient, unit, ingredient)\n",
            "12                                                                                                                                                                                                            (2, onions, 1, teaspoon, cumin, seeds, tablespoons, black, urad, dal, split, tamarind, paste, 3, dry, red, chillies, 1/2, jaggery, teaspoons, oil, salt, sprig, curry, leaves)                                                                                                                                                                                                                                                                                                          (quantity, ingredient, quantity, unit, ingredient, ingredient, unit, ingredient, ingredient, ingredient, ingredient, ingredient, ingredient, quantity, ingredient, ingredient, ingredient, quantity, ingredient, unit, ingredient, ingredient, unit, ingredient, ingredient)\n",
            "35                                                                                                                                                                                                  (2, cups, Makki, Ka, Atta, Yellow, Corn, Meal, Flour, 1, 1/2, Methi, Leaves, Fenugreek, chopped, Green, Chillies, tablespoon, Ajwain, Carom, seeds, Kashmiri, Red, Chilli, Powder, Salt)                                                                                                                                                                                                                                                                                (quantity, unit, ingredient, ingredient, ingredient, ingredient, ingredient, ingredient, ingredient, quantity, quantity, ingredient, ingredient, ingredient, ingredient, ingredient, ingredient, unit, ingredient, ingredient, ingredient, ingredient, ingredient, ingredient, ingredient, ingredient)\n",
            "120                                                                                                                                             (10, prawns, 1, tablespoon, soy, sauce, teaspoon, sesame, gingelly, oil, cloves, garlic, finely, chopped, 2, green, chillies, coriander, dhania, leaves, 1/2, whole, black, peppercorns, crushed, sunflower, salt, few, drops, lemon, juice)                                                                                                                                                                                                                        (quantity, ingredient, quantity, unit, ingredient, ingredient, unit, ingredient, ingredient, ingredient, ingredient, ingredient, ingredient, ingredient, quantity, ingredient, ingredient, ingredient, ingredient, ingredient, quantity, ingredient, ingredient, ingredient, ingredient, ingredient, ingredient, quantity, ingredient, ingredient, ingredient)\n",
            "42                                                        (2, cups, Whole, Wheat, Flour, Salt, Ghee, 1, tablespoon, 200, grams, Paneer, Homemade, Cottage, Cheese, 1/4, Hung, Curd, Greek, Yogurt, inch, Ginger, 4, cloves, Garlic, Kasuri, Methi, Dried, Fenugreek, Leaves, 1/2, teaspoon, Turmeric, powder, Chaat, Masala, Powder, Garam, masala, Mint, Pudina, Coal, Onion, Lemon, juice)                                                                          (quantity, unit, ingredient, ingredient, ingredient, ingredient, ingredient, quantity, unit, quantity, unit, ingredient, ingredient, ingredient, ingredient, quantity, ingredient, ingredient, ingredient, ingredient, unit, ingredient, quantity, unit, ingredient, ingredient, ingredient, ingredient, ingredient, ingredient, quantity, unit, ingredient, ingredient, ingredient, ingredient, ingredient, ingredient, ingredient, ingredient, ingredient, ingredient, ingredient, ingredient, ingredient)\n",
            "75   (1/2, cup, Coriander, Dhania, Leaves, chopped, 4, Green, Chillies, 1, inch, Ginger, Salt, Lemon, juice, extracted, 2, cups, Kabuli, Chana, White, Chickpeas, soaked, overnight, tablespoon, Ghee, Onion, finely, 3, cloves, Garlic, Cinnamon, Stick, Dalchini, Bay, leaf, tej, patta, Brown, cardamom, Badi, Elaichi, teaspoon, Black, Kala, Namak, 1/4, Garam, masala, powder, Powder)  (quantity, unit, ingredient, ingredient, ingredient, ingredient, quantity, ingredient, ingredient, quantity, unit, ingredient, ingredient, ingredient, ingredient, ingredient, quantity, unit, ingredient, ingredient, ingredient, ingredient, ingredient, ingredient, unit, ingredient, ingredient, ingredient, quantity, unit, ingredient, ingredient, ingredient, ingredient, ingredient, ingredient, ingredient, ingredient, ingredient, ingredient, ingredient, ingredient, unit, ingredient, ingredient, ingredient, quantity, ingredient, ingredient, ingredient, ingredient)\n",
            "197                                                                                                                                                         (300, grams, Tofu, crumbled, 1, Onion, chopped, Red, Bell, pepper, Capsicum, Tomato, Green, Chilli, teaspoon, Cumin, seeds, Jeera, 2, powder, Black, Turmeric, Haldi, 4, sprig, Coriander, Dhania, Leaves, Salt, Sunflower, Oil)                                                                                                                                                                                                                            (quantity, unit, ingredient, ingredient, quantity, ingredient, ingredient, ingredient, ingredient, ingredient, ingredient, ingredient, ingredient, ingredient, unit, ingredient, ingredient, ingredient, quantity, ingredient, ingredient, ingredient, ingredient, quantity, unit, ingredient, ingredient, ingredient, ingredient, ingredient, ingredient)\n",
            "139                                                                                      (500, grams, Baby, Potatoes, 2, Dry, Red, Chillies, teaspoons, Sesame, seeds, 1, teaspoon, Cumin, Fennel, 1/4, Asafoetida, hing, 1/2, Turmeric, powder, Kashmiri, Chilli, Powder, tablespoons, flakes, Amchur, Mango, Coriander, Dhania, Leaves, finely, chopped, tablespoon, Sunflower, Oil, Salt)                                                                                                                                                                  (quantity, unit, ingredient, ingredient, quantity, ingredient, ingredient, ingredient, unit, ingredient, ingredient, quantity, unit, ingredient, ingredient, quantity, ingredient, ingredient, quantity, ingredient, ingredient, ingredient, ingredient, ingredient, unit, ingredient, ingredient, ingredient, ingredient, ingredient, ingredient, ingredient, ingredient, unit, ingredient, ingredient, ingredient)\n",
            "51                                                                                                                   (1, cup, rice, 2, tablespoons, ghee, teaspoon, cumin, seeds, bay, leaf, lentil, sugar, 3, long, green, chillies, tablespoon, ginger, garlic, paste, onions, tomatoes, 1/2, capsicum, red, chilli, powder, turmeric, coriander, garam, masala, tofu, cut, salt, garnish)                                                                                                                                                                      (quantity, unit, ingredient, quantity, unit, ingredient, unit, ingredient, ingredient, ingredient, ingredient, ingredient, ingredient, quantity, ingredient, ingredient, ingredient, unit, ingredient, ingredient, ingredient, ingredient, ingredient, quantity, ingredient, ingredient, ingredient, ingredient, ingredient, ingredient, ingredient, ingredient, ingredient, ingredient, ingredient, ingredient)\n"
          ]
        }
      ],
      "source": [
        "# define a extract_and_validate_tokens with parameters (df, dataset_name)\n",
        "# call the flatten_list and apply it on input_tokens and pos_tokens\n",
        "# validate their length and display first 10 records having input and pos tokens\n",
        "def flatten_list(nested_list):\n",
        "    \"\"\"\n",
        "    Flattens a nested list structure.\n",
        "\n",
        "    Parameters:\n",
        "    ----------\n",
        "    nested_list : list\n",
        "        A list containing nested lists.\n",
        "\n",
        "    Returns:\n",
        "    --------\n",
        "    list\n",
        "        A flattened list with all elements combined.\n",
        "    \"\"\"\n",
        "    return [item for sublist in nested_list for item in sublist]\n",
        "\n",
        "def extract_and_validate_tokens(df, dataset_name):\n",
        "    \"\"\"\n",
        "    Extracts and flattens input_tokens and pos_tokens, validates lengths, and displays first 10 records.\n",
        "\n",
        "    Parameters:\n",
        "    ----------\n",
        "    df : pd.DataFrame\n",
        "        DataFrame containing 'input_tokens' and 'pos_tokens' columns.\n",
        "\n",
        "    dataset_name : str\n",
        "        The name of the dataset (e.g., 'Training' or 'Validation').\n",
        "\n",
        "    Returns:\n",
        "    --------\n",
        "    dict\n",
        "        A dictionary containing flattened tokens and validation results.\n",
        "    \"\"\"\n",
        "    print(f\"Processing Dataset: {dataset_name}\")\n",
        "\n",
        "    # Flatten input_tokens and pos_tokens\n",
        "    flattened_input_tokens = flatten_list(df[\"input_tokens\"].tolist())\n",
        "    flattened_pos_tokens = flatten_list(df[\"pos_tokens\"].tolist())\n",
        "\n",
        "    # Validate lengths of flattened tokens\n",
        "    print(f\"Total Flattened Input Tokens: {len(flattened_input_tokens)}\")\n",
        "    print(f\"Total Flattened POS Tokens: {len(flattened_pos_tokens)}\")\n",
        "\n",
        "    # Display first 10 records having input and pos tokens\n",
        "    display_df = df[[\"input_tokens\", \"pos_tokens\"]].head(10)\n",
        "    print(\"\\nFirst 10 Records:\")\n",
        "    print(display_df)\n",
        "\n",
        "    return {\n",
        "        \"flattened_input_tokens\": flattened_input_tokens,\n",
        "        \"flattened_pos_tokens\": flattened_pos_tokens\n",
        "    }\n",
        "\n",
        "# Call function for the training dataset\n",
        "dataset_name = \"Training\"\n",
        "token_results = extract_and_validate_tokens(train_df, dataset_name)\n"
      ]
    },
    {
      "cell_type": "code",
      "execution_count": 48,
      "metadata": {
        "id": "ajdbYMgeLpf9",
        "colab": {
          "base_uri": "https://localhost:8080/"
        },
        "outputId": "b5b3488e-ffb2-4d70-f349-beee73ec7ffd"
      },
      "outputs": [
        {
          "output_type": "stream",
          "name": "stdout",
          "text": [
            "Input Tokens: ('1', 'cup', 'Gram', 'flour', 'besan', '1/2', 'teaspoon', 'Ajwain', 'Carom', 'seeds', '1/4', 'Red', 'Chilli', 'powder', '2', 'tablespoons', 'Curd', 'Dahi', 'Yogurt', 'Sunflower', 'Oil', 'Green', 'Bell', 'Pepper', 'Capsicum', 'Cumin', 'Asafoetida', 'hing', 'Turmeric', 'Garam', 'masala', 'Amchur', 'Dry', 'Mango', 'Powder', 'Coriander', 'Dhania', '4', 'sprig', 'Leaves', 'chopped')\n",
            "POS Tags: ('quantity', 'unit', 'ingredient', 'ingredient', 'ingredient', 'quantity', 'unit', 'ingredient', 'ingredient', 'ingredient', 'quantity', 'ingredient', 'ingredient', 'ingredient', 'quantity', 'unit', 'ingredient', 'ingredient', 'ingredient', 'ingredient', 'ingredient', 'ingredient', 'ingredient', 'ingredient', 'ingredient', 'ingredient', 'ingredient', 'ingredient', 'ingredient', 'ingredient', 'ingredient', 'ingredient', 'ingredient', 'ingredient', 'ingredient', 'ingredient', 'ingredient', 'quantity', 'unit', 'ingredient', 'ingredient')\n",
            "--------------------------------------------------\n",
            "Input Tokens: ('1', 'eggplant', '2', 'inch', 'ginger', 'onion', 'tomato', 'green', 'chillies', 'teaspoon', 'turmeric', 'powder', 'garam', 'masala', 'coriander', 'tablespoon', 'butter', 'red', 'chili', 'oil', 'sprigs', 'of')\n",
            "POS Tags: ('quantity', 'ingredient', 'quantity', 'unit', 'ingredient', 'ingredient', 'ingredient', 'ingredient', 'ingredient', 'unit', 'ingredient', 'ingredient', 'ingredient', 'ingredient', 'ingredient', 'unit', 'ingredient', 'ingredient', 'ingredient', 'ingredient', 'unit', 'ingredient')\n",
            "--------------------------------------------------\n",
            "Input Tokens: ('2', 'onions', '1', 'teaspoon', 'cumin', 'seeds', 'tablespoons', 'black', 'urad', 'dal', 'split', 'tamarind', 'paste', '3', 'dry', 'red', 'chillies', '1/2', 'jaggery', 'teaspoons', 'oil', 'salt', 'sprig', 'curry', 'leaves')\n",
            "POS Tags: ('quantity', 'ingredient', 'quantity', 'unit', 'ingredient', 'ingredient', 'unit', 'ingredient', 'ingredient', 'ingredient', 'ingredient', 'ingredient', 'ingredient', 'quantity', 'ingredient', 'ingredient', 'ingredient', 'quantity', 'ingredient', 'unit', 'ingredient', 'ingredient', 'unit', 'ingredient', 'ingredient')\n",
            "--------------------------------------------------\n",
            "Input Tokens: ('2', 'cups', 'Makki', 'Ka', 'Atta', 'Yellow', 'Corn', 'Meal', 'Flour', '1', '1/2', 'Methi', 'Leaves', 'Fenugreek', 'chopped', 'Green', 'Chillies', 'tablespoon', 'Ajwain', 'Carom', 'seeds', 'Kashmiri', 'Red', 'Chilli', 'Powder', 'Salt')\n",
            "POS Tags: ('quantity', 'unit', 'ingredient', 'ingredient', 'ingredient', 'ingredient', 'ingredient', 'ingredient', 'ingredient', 'quantity', 'quantity', 'ingredient', 'ingredient', 'ingredient', 'ingredient', 'ingredient', 'ingredient', 'unit', 'ingredient', 'ingredient', 'ingredient', 'ingredient', 'ingredient', 'ingredient', 'ingredient', 'ingredient')\n",
            "--------------------------------------------------\n",
            "Input Tokens: ('10', 'prawns', '1', 'tablespoon', 'soy', 'sauce', 'teaspoon', 'sesame', 'gingelly', 'oil', 'cloves', 'garlic', 'finely', 'chopped', '2', 'green', 'chillies', 'coriander', 'dhania', 'leaves', '1/2', 'whole', 'black', 'peppercorns', 'crushed', 'sunflower', 'salt', 'few', 'drops', 'lemon', 'juice')\n",
            "POS Tags: ('quantity', 'ingredient', 'quantity', 'unit', 'ingredient', 'ingredient', 'unit', 'ingredient', 'ingredient', 'ingredient', 'ingredient', 'ingredient', 'ingredient', 'ingredient', 'quantity', 'ingredient', 'ingredient', 'ingredient', 'ingredient', 'ingredient', 'quantity', 'ingredient', 'ingredient', 'ingredient', 'ingredient', 'ingredient', 'ingredient', 'quantity', 'ingredient', 'ingredient', 'ingredient')\n",
            "--------------------------------------------------\n"
          ]
        }
      ],
      "source": [
        "# extract the tokens and its pos tags\n",
        "# Extract input tokens (X) and POS tags (y) from train_df\n",
        "input_tokens_list = train_df[\"input_tokens\"].tolist()\n",
        "pos_tokens_list = train_df[\"pos_tokens\"].tolist()\n",
        "\n",
        "# Display the first few token-POS pairs\n",
        "for i in range(5):  # Show first 5 records\n",
        "    print(f\"Input Tokens: {input_tokens_list[i]}\")\n",
        "    print(f\"POS Tags: {pos_tokens_list[i]}\")\n",
        "    print(\"-\" * 50)\n"
      ]
    },
    {
      "cell_type": "markdown",
      "metadata": {
        "id": "htZVn5wcQSok"
      },
      "source": [
        "#### **4.3** *Categorise tokens into labels (unit, ingredient, quantity)* <font color = red>[2 marks]</font> <br>\n",
        "\n",
        "Define a function ***categorize_tokens*** to categorise tokens into ingredients, units and quantities by using extracted tokens in the previous code and return a list of ingredients, units and quantities. Execute this function to get the list.\n",
        "\n"
      ]
    },
    {
      "cell_type": "code",
      "execution_count": 55,
      "metadata": {
        "id": "7xq0a4L7Quct",
        "colab": {
          "base_uri": "https://localhost:8080/"
        },
        "outputId": "46d13c20-657c-47e0-cf59-367f55eaf58e"
      },
      "outputs": [
        {
          "output_type": "stream",
          "name": "stdout",
          "text": [
            "Ingredients: ['Gram', 'flour', 'besan', 'Ajwain', 'Carom', 'seeds', 'Red', 'Chilli', 'powder', 'Curd']\n",
            "Units: ['cup', 'teaspoon', 'tablespoons', 'sprig', 'inch', 'teaspoon', 'tablespoon', 'sprigs', 'teaspoon', 'tablespoons']\n",
            "Quantities: ['1', '1/2', '1/4', '2', '4', '1', '2', '2', '1', '3']\n"
          ]
        }
      ],
      "source": [
        "# define a categorize_tokens function and provide the tokens and pos_tags as parameters and create ingredient, unit and quantity list and return it\n",
        "# validate the list that it comprised of these labels, if not return empty arrays\n",
        "\n",
        "def categorize_tokens(tokens, pos_tags):\n",
        "    \"\"\"\n",
        "    Categorizes tokens into ingredients, units, and quantities based on POS tags.\n",
        "\n",
        "    Parameters:\n",
        "    ----------\n",
        "    tokens : list\n",
        "        List of extracted tokens.\n",
        "\n",
        "    pos_tags : list\n",
        "        List of corresponding POS tags for tokens.\n",
        "\n",
        "    Returns:\n",
        "    --------\n",
        "    dict\n",
        "        A dictionary containing categorized lists of ingredients, units, and quantities.\n",
        "    \"\"\"\n",
        "    # Initialize empty lists for categorized items\n",
        "    ingredients = []\n",
        "    units = []\n",
        "    quantities = []\n",
        "\n",
        "    # Iterate through token-POS pairs\n",
        "    for token, pos in zip(tokens, pos_tags):\n",
        "        if pos == \"ingredient\":\n",
        "            ingredients.append(token)\n",
        "        elif pos == \"unit\":\n",
        "            units.append(token)\n",
        "        elif pos == \"quantity\":\n",
        "            quantities.append(token)\n",
        "\n",
        "    # Validate categorized lists: If any are empty, return empty arrays\n",
        "    if not ingredients or not units or not quantities:\n",
        "        return {\"ingredients\": [], \"units\": [], \"quantities\": []}\n",
        "\n",
        "    return {\"ingredients\": ingredients, \"units\": units, \"quantities\": quantities}\n",
        "\n",
        "# Example execution using extracted tokens & POS tags\n",
        "categorized_data = categorize_tokens(flattened_input_tokens, flattened_pos_tokens)\n",
        "\n",
        "# Display categorized lists\n",
        "print(f\"Ingredients: {categorized_data['ingredients'][:10]}\")  # Show first 10 items\n",
        "print(f\"Units: {categorized_data['units'][:10]}\")\n",
        "print(f\"Quantities: {categorized_data['quantities'][:10]}\")\n"
      ]
    },
    {
      "cell_type": "code",
      "execution_count": 56,
      "metadata": {
        "id": "evcsigvUL7bM",
        "colab": {
          "base_uri": "https://localhost:8080/"
        },
        "outputId": "ceff9301-f2f9-4929-8ef8-83f18cc12f11"
      },
      "outputs": [
        {
          "output_type": "stream",
          "name": "stdout",
          "text": [
            "Ingredients: ['Gram', 'flour', 'besan', 'Ajwain', 'Carom', 'seeds', 'Red', 'Chilli', 'powder', 'Curd']\n",
            "Units: ['cup', 'teaspoon', 'tablespoons', 'sprig', 'inch', 'teaspoon', 'tablespoon', 'sprigs', 'teaspoon', 'tablespoons']\n",
            "Quantities: ['1', '1/2', '1/4', '2', '4', '1', '2', '2', '1', '3']\n"
          ]
        }
      ],
      "source": [
        "#  call the function to categorise the labels into respective list\n",
        "# Call function to categorize tokens into ingredients, units, and quantities\n",
        "categorized_data = categorize_tokens(flattened_input_tokens, flattened_pos_tokens)\n",
        "\n",
        "# Display categorized lists\n",
        "print(f\"Ingredients: {categorized_data['ingredients'][:10]}\")  # Show first 10 items\n",
        "print(f\"Units: {categorized_data['units'][:10]}\")\n",
        "print(f\"Quantities: {categorized_data['quantities'][:10]}\")\n"
      ]
    },
    {
      "cell_type": "markdown",
      "metadata": {
        "id": "QSGau4EgZCix"
      },
      "source": [
        "#### **4.4** *Top 10 Most Frequent Items* <font color = red>[3 marks]</font> <br>\n",
        "\n",
        "Define a function ***get_top_frequent_items*** to display top 10 most frequent items\n",
        "\n",
        "Here, item_list is used as a general parameter where you will call this function for ingredient and unit list\n",
        "\n",
        "Execute this function separately for top 10 most units and ingredients\n",
        "\n"
      ]
    },
    {
      "cell_type": "code",
      "execution_count": 57,
      "metadata": {
        "id": "kXc8h3H4ZOZ4",
        "colab": {
          "base_uri": "https://localhost:8080/"
        },
        "outputId": "b55424af-7479-4a2d-8ef7-b147817038e7"
      },
      "outputs": [
        {
          "output_type": "stream",
          "name": "stdout",
          "text": [
            "\n",
            "Top 10 Frequent Ingredients in Training Dataset:\n",
            "powder: 91\n",
            "Salt: 68\n",
            "seeds: 67\n",
            "Oil: 61\n",
            "Coriander: 55\n",
            "chopped: 55\n",
            "Green: 53\n",
            "Red: 52\n",
            "Chilli: 50\n",
            "Leaves: 49\n",
            "\n",
            "Top 10 Frequent Units in Validation Dataset:\n",
            "teaspoon: 109\n",
            "cup: 91\n",
            "tablespoon: 63\n",
            "tablespoons: 48\n",
            "grams: 40\n",
            "inch: 36\n",
            "cups: 33\n",
            "sprig: 32\n",
            "teaspoons: 27\n",
            "cloves: 25\n"
          ]
        }
      ],
      "source": [
        "# define a function get_top_frequent_items to get the top frequent items by using item_list, pos label and dataset_name(Training/Validation) and return top items\n",
        "from collections import Counter\n",
        "\n",
        "def get_top_frequent_items(item_list, pos_label, dataset_name, top_n=10):\n",
        "    \"\"\"\n",
        "    Gets the top frequent items from the given item list.\n",
        "\n",
        "    Parameters:\n",
        "    ----------\n",
        "    item_list : list\n",
        "        List of extracted items (tokens).\n",
        "\n",
        "    pos_label : str\n",
        "        The POS label category (e.g., 'Ingredients', 'Units', 'Quantities').\n",
        "\n",
        "    dataset_name : str\n",
        "        The name of the dataset ('Training' or 'Validation').\n",
        "\n",
        "    top_n : int, optional (default=10)\n",
        "        Number of top frequent items to return.\n",
        "\n",
        "    Returns:\n",
        "    --------\n",
        "    list\n",
        "        A sorted list of tuples containing top items and their frequencies.\n",
        "    \"\"\"\n",
        "    # Count frequency of items\n",
        "    item_counts = Counter(item_list)\n",
        "\n",
        "    # Get top frequent items\n",
        "    top_items = item_counts.most_common(top_n)\n",
        "\n",
        "    # Display results\n",
        "    print(f\"\\nTop {top_n} Frequent {pos_label} in {dataset_name} Dataset:\")\n",
        "    for item, count in top_items:\n",
        "        print(f\"{item}: {count}\")\n",
        "\n",
        "    return top_items\n",
        "\n",
        "# Example execution for Training dataset (Ingredients)\n",
        "top_ingredients = get_top_frequent_items(categorized_data[\"ingredients\"], \"Ingredients\", \"Training\", top_n=10)\n",
        "\n",
        "# Example execution for Validation dataset (Units)\n",
        "top_units = get_top_frequent_items(categorized_data[\"units\"], \"Units\", \"Validation\", top_n=10)\n"
      ]
    },
    {
      "cell_type": "code",
      "execution_count": 58,
      "metadata": {
        "id": "W2jZCCf2MEke",
        "colab": {
          "base_uri": "https://localhost:8080/"
        },
        "outputId": "4b5eb269-210a-4caa-a129-06d43537c421"
      },
      "outputs": [
        {
          "output_type": "stream",
          "name": "stdout",
          "text": [
            "\n",
            "Top 10 Frequent Ingredients in Training Dataset:\n",
            "powder: 91\n",
            "Salt: 68\n",
            "seeds: 67\n",
            "Oil: 61\n",
            "Coriander: 55\n",
            "chopped: 55\n",
            "Green: 53\n",
            "Red: 52\n",
            "Chilli: 50\n",
            "Leaves: 49\n"
          ]
        }
      ],
      "source": [
        "# get the top ingredients which are frequently seen in the recipe\n",
        "# Get the top frequently seen ingredients in the training dataset\n",
        "top_ingredients = get_top_frequent_items(categorized_data[\"ingredients\"], \"Ingredients\", \"Training\", top_n=10)\n"
      ]
    },
    {
      "cell_type": "code",
      "execution_count": 59,
      "metadata": {
        "id": "wipghGXAMYQR",
        "colab": {
          "base_uri": "https://localhost:8080/"
        },
        "outputId": "28085c7e-1086-4b4e-f38f-ffcc6ded6685"
      },
      "outputs": [
        {
          "output_type": "stream",
          "name": "stdout",
          "text": [
            "\n",
            "Top 10 Frequent Units in Training Dataset:\n",
            "teaspoon: 109\n",
            "cup: 91\n",
            "tablespoon: 63\n",
            "tablespoons: 48\n",
            "grams: 40\n",
            "inch: 36\n",
            "cups: 33\n",
            "sprig: 32\n",
            "teaspoons: 27\n",
            "cloves: 25\n"
          ]
        }
      ],
      "source": [
        "# get the top units which are frequently seen in the recipe\n",
        "# Get the top frequently seen units in the training dataset\n",
        "top_units = get_top_frequent_items(categorized_data[\"units\"], \"Units\", \"Training\", top_n=10)\n"
      ]
    },
    {
      "cell_type": "markdown",
      "metadata": {
        "id": "9hldpjOHaPVZ"
      },
      "source": [
        "#### **4.5** *Plot Top 10 most frequent items* <font color = red>[2 marks]</font> <br>\n",
        "\n",
        "\n"
      ]
    },
    {
      "cell_type": "markdown",
      "metadata": {
        "id": "9ImpWstybDP_"
      },
      "source": [
        "Define a function ***plot_top_items*** to plot a bar graph on top 10 most frequent items for units and ingredients\n",
        "\n",
        "Here, item_list is used as a general parameter where you will call this function for ingredient and unit list"
      ]
    },
    {
      "cell_type": "code",
      "execution_count": 61,
      "metadata": {
        "id": "Gmsq0L1vaxfc",
        "colab": {
          "base_uri": "https://localhost:8080/",
          "height": 1000
        },
        "outputId": "1cd5cc27-8b30-4b14-bddb-bae35b70a674"
      },
      "outputs": [
        {
          "output_type": "display_data",
          "data": {
            "text/plain": [
              "<Figure size 1000x600 with 1 Axes>"
            ],
            "image/png": "[encoded data removed]"
          },
          "metadata": {}
        },
        {
          "output_type": "display_data",
          "data": {
            "text/plain": [
              "<Figure size 1000x600 with 1 Axes>"
            ],
            "image/png": "[encoded data removed]"
          },
          "metadata": {}
        }
      ],
      "source": [
        "# define plot top items with parameters - top_item list, label to suggest whether its ingredient or unit, dataset_name\n",
        "import matplotlib.pyplot as plt\n",
        "\n",
        "def plot_top_items(top_items, label, dataset_name):\n",
        "    \"\"\"\n",
        "    Plots a bar graph of the top 10 most frequent items.\n",
        "\n",
        "    Parameters:\n",
        "    ----------\n",
        "    top_items : list of tuples\n",
        "        A list of (item, frequency) tuples.\n",
        "\n",
        "    label : str\n",
        "        Specifies whether the items are 'Ingredients' or 'Units'.\n",
        "\n",
        "    dataset_name : str\n",
        "        The name of the dataset ('Training' or 'Validation').\n",
        "\n",
        "    Returns:\n",
        "    --------\n",
        "    None\n",
        "        Displays the bar plot of frequent items.\n",
        "    \"\"\"\n",
        "    # Extract items and frequencies\n",
        "    items, frequencies = zip(*top_items)\n",
        "\n",
        "    # Create a bar plot\n",
        "    plt.figure(figsize=(10, 6))\n",
        "    plt.barh(items, frequencies, color=\"skyblue\")\n",
        "    plt.xlabel(\"Frequency\")\n",
        "    plt.ylabel(f\"{label}\")\n",
        "    plt.title(f\"Top 10 Most Frequent {label} in {dataset_name} Dataset\")\n",
        "    plt.gca().invert_yaxis()  # Reverse order for better readability\n",
        "    plt.show()\n",
        "\n",
        "# Example execution for top ingredients\n",
        "plot_top_items(top_ingredients, \"Ingredients\", \"Training\")\n",
        "\n",
        "# Example execution for top units\n",
        "plot_top_items(top_units, \"Units\", \"Validation\")\n"
      ]
    },
    {
      "cell_type": "markdown",
      "metadata": {
        "id": "rHusCfkJ4suh"
      },
      "source": [
        "#### **4.6** *Perform EDA analysis* <font color = red>[5 marks]</font> <br>\n",
        "\n",
        "Plot the bar plots for ingredients and units and provide the insights for training dataset\n",
        "\n",
        "---\n",
        "\n"
      ]
    },
    {
      "cell_type": "code",
      "execution_count": 64,
      "metadata": {
        "id": "8seIqFKyYFmn",
        "colab": {
          "base_uri": "https://localhost:8080/",
          "height": 564
        },
        "outputId": "67b85ddd-ab0e-481f-c134-2b43e3f65565"
      },
      "outputs": [
        {
          "output_type": "display_data",
          "data": {
            "text/plain": [
              "<Figure size 1000x600 with 1 Axes>"
            ],
            "image/png": "[encoded data removed]"
          },
          "metadata": {}
        }
      ],
      "source": [
        "# plot the top frequent ingredients in training data\n",
        "plot_top_items(top_ingredients, \"Ingredients\", \"Training\")\n"
      ]
    },
    {
      "cell_type": "code",
      "execution_count": 65,
      "metadata": {
        "id": "fbXAwiUkMtqT",
        "colab": {
          "base_uri": "https://localhost:8080/",
          "height": 564
        },
        "outputId": "171a0bf1-9fe8-44f3-d380-d211516e6a45"
      },
      "outputs": [
        {
          "output_type": "display_data",
          "data": {
            "text/plain": [
              "<Figure size 1000x600 with 1 Axes>"
            ],
            "image/png": "[encoded data removed]"
          },
          "metadata": {}
        }
      ],
      "source": [
        "# plot the top frequent units in training data\n",
        "plot_top_items(top_units, \"Units\", \"Training\")\n"
      ]
    },
    {
      "cell_type": "markdown",
      "metadata": {
        "id": "vYh7zbJpCajJ"
      },
      "source": [
        "## **5** Exploratory Recipe Data Analysis on Validation Dataset (Optional)<font color = red> [0 marks]</font> <br>"
      ]
    },
    {
      "cell_type": "markdown",
      "metadata": {
        "id": "K2wPIaOGCmk2"
      },
      "source": [
        "#### **5.1** *Execute EDA on Validation Dataset with insights (Optional)* <font color = red> [0 marks]</font> <br>\n",
        "Initialise the dataset_name as ***Validation*** and call the ***plot_top_items*** for top 10 ingredients and units in the recipe data\n",
        "Provide the insights for the same.\n",
        "\n"
      ]
    },
    {
      "cell_type": "code",
      "execution_count": 66,
      "metadata": {
        "id": "atSk0ChLPXHd"
      },
      "outputs": [],
      "source": [
        "# initialise the dataset_name\n",
        "dataset_name = \"Validation\""
      ]
    },
    {
      "cell_type": "code",
      "execution_count": 67,
      "metadata": {
        "id": "AFPxheIuj1o8",
        "colab": {
          "base_uri": "https://localhost:8080/"
        },
        "outputId": "facca0a3-546d-4cac-af7d-51446cd630d8"
      },
      "outputs": [
        {
          "output_type": "stream",
          "name": "stdout",
          "text": [
            "Processing Dataset: Validation\n",
            "Total Flattened Input Tokens: 2149\n",
            "Total Flattened POS Tokens: 2149\n",
            "\n",
            "First 10 Records:\n",
            "                                                                                                                                                                                                                                                                                                                                                                                                                   input_tokens                                                                                                                                                                                                                                                                                                                                                                                                                                                                                                                                                                                                                                          pos_tokens\n",
            "15                                                                                                                                                                                (1, cup, rice, 12, small, onions, 2, cloves, garlic, inch, ginger, green, chillies, bay, leaf, tsp, red, chilli, powder, turmeric, carrot, beans, potatoes, ghee, cinnamon, fennel, whole, pepper, coriander, seeds, 1/4, peas, mint, leaves)                                                                                                                                                                                                                                                                  (quantity, unit, ingredient, quantity, unit, ingredient, quantity, ingredient, ingredient, unit, ingredient, unit, ingredient, ingredient, ingredient, unit, ingredient, ingredient, ingredient, ingredient, ingredient, ingredient, ingredient, ingredient, ingredient, ingredient, ingredient, ingredient, ingredient, ingredient, quantity, ingredient, ingredient, ingredient)\n",
            "9    (2, Burger, buns, 5, Pickled, Jalapenos, sliced, Cheese, Slices, Potatoes, Aloo, pressure, cooked, 1, Onion, chopped, tablespoon, Red, Chilli, powder, Salt, Whole, Egg, 1/2, cup, Wheat, Bread, crumbs, 4, cloves, Garlic, Onions, Tomatoes, Homemade, tomato, puree, Green, Bell, Pepper, Capsicum, Soy, granules, teaspoon, flakes, Cumin, Jeera, Dried, oregano, Tabasco, Original, Hot, Sauce, Honey, Sunflower, Oil)  (quantity, ingredient, ingredient, quantity, ingredient, ingredient, ingredient, ingredient, ingredient, ingredient, ingredient, ingredient, ingredient, quantity, ingredient, ingredient, unit, ingredient, ingredient, ingredient, ingredient, ingredient, ingredient, quantity, unit, ingredient, ingredient, ingredient, quantity, unit, ingredient, ingredient, ingredient, ingredient, ingredient, ingredient, ingredient, ingredient, ingredient, ingredient, ingredient, ingredient, unit, ingredient, ingredient, ingredient, ingredient, ingredient, ingredient, ingredient, ingredient, ingredient, ingredient, ingredient, ingredient)\n",
            "115                                                                                                                                                                                                                                                                     (1/4, cup, Rice, Yellow, Moong, Dal, 1, Carrot, Gajjar, 3, Green, beans, French, Beans, teaspoon, Ghee, Cumin, seeds, Asafoetida, hing, Salt, a, pinch)                                                                                                                                                                                                                                                                                                                                                                                          (quantity, unit, ingredient, ingredient, ingredient, ingredient, quantity, ingredient, ingredient, quantity, ingredient, ingredient, ingredient, ingredient, unit, ingredient, ingredient, ingredient, ingredient, ingredient, ingredient, quantity, unit)\n",
            "78                                                                                                                               (4, Potatoes, Aloo, 50, grams, Mozzarella, cheese, 1, teaspoon, Mustard, seeds, inch, Ginger, grated, Onion, finely, chopped, 2, Green, Chillies, 1/4, Asafoetida, hing, 1/2, Turmeric, powder, Haldi, Coriander, Dhania, Leaves, small, bunch, Sunflower, Oil, cup, Gram, flour, besan, Salt)                                                                                                                                                                                                    (quantity, ingredient, ingredient, quantity, unit, ingredient, ingredient, quantity, unit, ingredient, ingredient, unit, ingredient, ingredient, ingredient, ingredient, ingredient, quantity, ingredient, ingredient, quantity, ingredient, ingredient, quantity, ingredient, ingredient, ingredient, ingredient, ingredient, ingredient, ingredient, ingredient, ingredient, ingredient, unit, ingredient, ingredient, ingredient, ingredient)\n",
            "66                                                                              (1, cup, rice, 2, water, tsp, ghee, cardamom, long, star, anise, 1/2, inch, cinnamon, whole, black, pepper, bay, leaf, 1/4, onion, sprig, green, coriander, mint, 200, grams, cottage, cheese, tomatoes, tablespoons, cream, ginger, 3, cloves, garlic, chili, powder, cumin, garam, masala, red, chilli, kasoori, methi, honey, tbsp, cashews)                                                                                                          (quantity, unit, ingredient, quantity, ingredient, unit, ingredient, ingredient, ingredient, ingredient, ingredient, quantity, unit, ingredient, ingredient, ingredient, ingredient, ingredient, ingredient, quantity, ingredient, unit, ingredient, ingredient, ingredient, quantity, unit, ingredient, ingredient, ingredient, unit, ingredient, ingredient, quantity, ingredient, ingredient, ingredient, ingredient, ingredient, ingredient, ingredient, ingredient, ingredient, ingredient, ingredient, ingredient, unit, ingredient)\n",
            "45                                                                                                                                                                       (500, grams, Hakka, Noodles, 1/2, teaspoon, Salt, 1, tablespoon, Sunflower, Oil, Onion, Green, Bell, Pepper, Capsicum, 15, cloves, Garlic, Soy, sauce, Red, Chilli, White, vinegar, Tomato, Ketchup, 3, Dry, Chillies, crushed, Black, pepper, powder)                                                                                                                                                                                                                                                              (quantity, unit, ingredient, ingredient, quantity, unit, ingredient, quantity, unit, ingredient, ingredient, ingredient, ingredient, ingredient, ingredient, ingredient, quantity, unit, ingredient, ingredient, ingredient, ingredient, ingredient, ingredient, ingredient, ingredient, ingredient, quantity, ingredient, ingredient, ingredient, ingredient, ingredient, ingredient)\n",
            "132                                                                                                                                                                                                                                                                                                                                (2, Mango, Ripe, 1, cup, Sugar, teaspoon, Saffron, strands, 1/4, Cinnamon, Powder, Dalchini)                                                                                                                                                                                                                                                                                                                                                                                                                                                                                                          (quantity, ingredient, ingredient, quantity, unit, ingredient, unit, ingredient, ingredient, quantity, ingredient, ingredient, ingredient)\n",
            "161                                                                                                                                      (500, grams, Baby, Potatoes, 1/2, teaspoon, Cumin, powder, Jeera, Black, pepper, Garam, masala, 2, teaspoons, Lemon, juice, Sesame, seeds, Til, 1, tablespoon, Ghee, or, clarified, butter, Rock, Salt, cup, Coriander, Dhania, Leaves, roughly, chopped, inch, Ginger, Green, Chilli)                                                                                                                                                                                                                        (quantity, unit, ingredient, ingredient, quantity, unit, ingredient, ingredient, ingredient, ingredient, ingredient, ingredient, ingredient, quantity, unit, ingredient, ingredient, ingredient, ingredient, ingredient, quantity, unit, ingredient, ingredient, ingredient, ingredient, ingredient, ingredient, unit, ingredient, ingredient, ingredient, ingredient, ingredient, unit, ingredient, ingredient, ingredient)\n",
            "201                                                                                                                                                                                                                (3, Potatoes, Aloo, 2, Green, zucchini, 1, tablespoon, Red, Chilli, flakes, Dried, oregano, Thyme, Leaves, Black, pepper, powder, 1/4, cup, Cheddar, cheese, grated, 1/2, Whole, Wheat, Bread, crumbs, Salt)                                                                                                                                                                                                                                                                                                              (quantity, ingredient, ingredient, quantity, ingredient, ingredient, quantity, unit, ingredient, ingredient, ingredient, ingredient, ingredient, ingredient, ingredient, ingredient, ingredient, ingredient, quantity, unit, ingredient, ingredient, ingredient, quantity, ingredient, ingredient, ingredient, ingredient, ingredient)\n",
            "181                                                                                                  (1, cup, Basil, leaves, 1/2, Mint, Leaves, Pudina, tablespoon, Spirulina, Badam, Almond, blanched, 4, cloves, Garlic, Tofu, teaspoon, Black, pepper, powder, 2, Salt, 1/4, Extra, Virgin, Olive, Oil, Pasta, chopped, Green, zucchini, diced, Yellow, Bell, Pepper, Capsicum, Tomato, Red, Chilli, flakes, Dried, oregano)                                                                                                                                                  (quantity, unit, ingredient, ingredient, quantity, ingredient, ingredient, ingredient, unit, ingredient, ingredient, ingredient, ingredient, quantity, unit, ingredient, ingredient, unit, ingredient, ingredient, ingredient, quantity, ingredient, quantity, ingredient, ingredient, ingredient, ingredient, ingredient, ingredient, ingredient, ingredient, ingredient, ingredient, ingredient, ingredient, ingredient, ingredient, ingredient, ingredient, ingredient, ingredient, ingredient)\n"
          ]
        }
      ],
      "source": [
        "# use extract and validate tokens, categorise tokens, get top frequent items for ingredient list and unit list on validation dataframe\n",
        "# Extract and validate tokens from the validation dataset\n",
        "dataset_name = \"Validation\"\n",
        "validation_token_results = extract_and_validate_tokens(val_df, dataset_name)\n"
      ]
    },
    {
      "cell_type": "code",
      "source": [
        "categorized_validation_data = categorize_tokens(\n",
        "    validation_token_results[\"flattened_input_tokens\"],\n",
        "    validation_token_results[\"flattened_pos_tokens\"]\n",
        ")"
      ],
      "metadata": {
        "id": "BtwBvKpsMcBp"
      },
      "execution_count": 71,
      "outputs": []
    },
    {
      "cell_type": "code",
      "execution_count": 72,
      "metadata": {
        "id": "ikwox7ccMaU8",
        "colab": {
          "base_uri": "https://localhost:8080/"
        },
        "outputId": "5759b5cd-cb9d-4770-b139-27cb10353c18"
      },
      "outputs": [
        {
          "output_type": "stream",
          "name": "stdout",
          "text": [
            "\n",
            "Top 10 Frequent Ingredients in Validation Dataset:\n",
            "powder: 42\n",
            "Salt: 32\n",
            "Chilli: 27\n",
            "chopped: 26\n",
            "Red: 26\n",
            "seeds: 25\n",
            "Green: 25\n",
            "Oil: 25\n",
            "Leaves: 22\n",
            "Garlic: 20\n",
            "\n",
            "Top 10 Frequent Units in Validation Dataset:\n",
            "teaspoon: 46\n",
            "cup: 45\n",
            "tablespoon: 32\n",
            "grams: 19\n",
            "cloves: 16\n",
            "inch: 15\n",
            "tablespoons: 15\n",
            "sprig: 14\n",
            "cups: 9\n",
            "teaspoons: 7\n"
          ]
        }
      ],
      "source": [
        "# plot the top frequent ingredients in validation data\n",
        "top_validation_ingredients = get_top_frequent_items(\n",
        "    categorized_validation_data[\"ingredients\"], \"Ingredients\", dataset_name, top_n=10\n",
        ")\n",
        "\n",
        "top_validation_units = get_top_frequent_items(\n",
        "    categorized_validation_data[\"units\"], \"Units\", dataset_name, top_n=10\n",
        ")\n"
      ]
    },
    {
      "cell_type": "code",
      "execution_count": 73,
      "metadata": {
        "id": "9QjVeMWpPwKO",
        "colab": {
          "base_uri": "https://localhost:8080/",
          "height": 1000
        },
        "outputId": "3e167559-8191-452d-f678-f0365d3c9131"
      },
      "outputs": [
        {
          "output_type": "display_data",
          "data": {
            "text/plain": [
              "<Figure size 1000x600 with 1 Axes>"
            ],
            "image/png": "[encoded data removed]"
          },
          "metadata": {}
        },
        {
          "output_type": "display_data",
          "data": {
            "text/plain": [
              "<Figure size 1000x600 with 1 Axes>"
            ],
            "image/png": "[encoded data removed]"
          },
          "metadata": {}
        }
      ],
      "source": [
        "# plot the top frequent units in training data\n",
        "plot_top_items(top_validation_ingredients, \"Ingredients\", dataset_name)\n",
        "plot_top_items(top_validation_units, \"Units\", dataset_name)\n"
      ]
    },
    {
      "cell_type": "markdown",
      "metadata": {
        "id": "IvE92ait9GIS"
      },
      "source": [
        "## **6** Feature Extraction For CRF Model <font color = red>[30 marks]</font> <br>"
      ]
    },
    {
      "cell_type": "markdown",
      "metadata": {
        "id": "Gc5Q_Lj09GIT"
      },
      "source": [
        "### **6.1** *Define a feature functions to take each token from recipe* <font color = red>[10 marks]</font>\n",
        "\n",
        "Define a function as ***word2features*** which takes a particular recipe and its index to work with all recipe input tokens and include custom key-value pairs.\n",
        "\n",
        "Also, use feature key-value pairs to mark the beginning and end of the sequence and to also check whether the word belongs to unit, quantity etc. Use keyword sets for unit and quantity for differentiating feature functions well. Also make use of relevant regex patterns on fractions, whole numbers etc."
      ]
    },
    {
      "cell_type": "markdown",
      "metadata": {
        "id": "pyxmQ0PrhBra"
      },
      "source": [
        "##### **6.1.1** **Define keywords for unit and quantity and create a quantity pattern to work on fractions, numbers and decimals** <font color = red>[3 marks]</font> <br>\n",
        "\n",
        "Create sets for **unit_keywords** and ***quantity_keywords*** and include all the words relevant for measuring the ingredients such as cup, tbsp, tsp etc. and in quantity keywords, include words such as half, quarter etc.\n",
        "\n",
        "Also suggested to use regex pattern as ***quantity_pattern*** to work with quantity in any format such as fractions, numbers and decimals.\n",
        "\n",
        "Then, load the spacy model and process the entire sentence"
      ]
    },
    {
      "cell_type": "code",
      "execution_count": 76,
      "metadata": {
        "id": "GhFUPxeth0KI"
      },
      "outputs": [],
      "source": [
        "# define unit and quantity keywords along with quantity pattern\n",
        "import re\n",
        "import spacy\n",
        "\n",
        "# Define unit keywords (common measurement units in recipes)\n",
        "unit_keywords = {\n",
        "    \"cup\", \"cups\", \"tbsp\", \"tablespoon\", \"tablespoons\", \"tsp\", \"teaspoon\", \"teaspoons\",\n",
        "    \"gram\", \"grams\", \"kg\", \"kilogram\", \"milliliter\", \"ml\", \"liters\", \"ltr\", \"ounce\",\n",
        "    \"oz\", \"pound\", \"lb\", \"quart\", \"qt\", \"pinch\", \"dash\", \"sprig\"\n",
        "}\n",
        "\n",
        "# Define quantity keywords (words describing quantity like fraction indicators)\n",
        "quantity_keywords = {\n",
        "    \"half\", \"quarter\", \"third\", \"fourth\", \"one\", \"two\", \"three\", \"four\", \"five\", \"six\",\n",
        "    \"seven\", \"eight\", \"nine\", \"ten\", \"dozen\"\n",
        "}\n",
        "\n",
        "# Create regex pattern to identify quantity values (fractions, decimals, whole numbers)\n",
        "quantity_pattern = re.compile(r\"\\b\\d+(\\.\\d+)?|\\d+/\\d+\\b\")\n",
        "\n"
      ]
    },
    {
      "cell_type": "code",
      "execution_count": 77,
      "metadata": {
        "id": "9qmM8rw4VtJh",
        "colab": {
          "base_uri": "https://localhost:8080/"
        },
        "outputId": "aa96541c-7d43-4618-82d1-3583dd957d6e"
      },
      "outputs": [
        {
          "output_type": "stream",
          "name": "stdout",
          "text": [
            "Token: Add, POS: VERB\n",
            "Token: 1/2, POS: NUM\n",
            "Token: cup, POS: NOUN\n",
            "Token: of, POS: ADP\n",
            "Token: sugar, POS: NOUN\n",
            "Token: and, POS: CCONJ\n",
            "Token: two, POS: NUM\n",
            "Token: tablespoons, POS: NOUN\n",
            "Token: of, POS: ADP\n",
            "Token: butter, POS: NOUN\n",
            "Token: ., POS: PUNCT\n"
          ]
        }
      ],
      "source": [
        "# load spaCy model\n",
        "import spacy\n",
        "\n",
        "# Load the spaCy English model\n",
        "nlp = spacy.load(\"en_core_web_sm\")\n",
        "\n",
        "# Example usage: Process a sentence\n",
        "text = \"Add 1/2 cup of sugar and two tablespoons of butter.\"\n",
        "doc = nlp(text)\n",
        "\n",
        "# Display tokens and POS tags\n",
        "for token in doc:\n",
        "    print(f\"Token: {token.text}, POS: {token.pos_}\")\n"
      ]
    },
    {
      "cell_type": "markdown",
      "metadata": {
        "id": "vrYD5tMNiFc-"
      },
      "source": [
        "##### **6.1.2** **Define feature functions for CRF** <font color = red>[7 marks]</font> <br>\n",
        "\n",
        "Define ***word2features*** function and use the parameters such as sentence and its indexing as ***sent*** and ***i*** for extracting token level features for CRF Training.\n",
        "Build ***features*** dictionary, also mark the beginning and end of the sequence and use the ***unit_keywords***, ***quantity_keywords*** and ***quantity_pattern*** for knowing the presence of quantity or unit in the tokens"
      ]
    },
    {
      "cell_type": "markdown",
      "metadata": {
        "id": "yAjf6j-dQtpr"
      },
      "source": [
        "While building ***features*** dictionary, include\n",
        "- ***Core Features*** - The core features of a token should capture its lexical\n",
        "and grammatical properties. Include attributes like the raw token, its lemma, part-of-speech tag, dependency relation, and shape, as well as indicators for whether it's a stop word, digit, or punctuation. The details of the features are given below:\n",
        "\n",
        "    - `bias` - Constant feature with a fixed value of 1.0 to aid model learning.\n",
        "    - `token` - The lowercase form of the current token.\n",
        "    - `lemma` - The lowercase lemma (base form) of the token.\n",
        "    - `pos_tag` - Part-of-speech (POS) tag of the token.\n",
        "    - `tag` - Detailed POS tag of the token.\n",
        "    - `dep` - Dependency relation of the token in the sentence.\n",
        "    - `shape` - Shape of the token (e.g., \"Xxx\" for \"Milk\").\n",
        "    - `is_stop` - Boolean indicating if the token is a stopword.\n",
        "    - `is_digit` - Boolean indicating if the token consists of only digits.\n",
        "    - `has_digit` - Boolean indicating if the token contains at least one digit.\n",
        "    - `has_alpha` - Boolean indicating if the token contains at least one alphabetic character.\n",
        "    - `hyphenated` - Boolean indicating if the token contains a hyphen (-).\n",
        "    - `slash_present` - Boolean indicating if the token contains a slash (/).\n",
        "    - `is_title` - Boolean indicating if the token starts with an uppercase letter.\n",
        "    - `is_upper` - Boolean indicating if the token is fully uppercase.\n",
        "    - `is_punct` - Boolean indicating if the token is a punctuation mark.\n",
        "\n",
        "- ***Improved Quantity and Unit Detection*** - Use key-value pairs to mark the presence of quantities and units in the features dictionary. Utilise the unit_keywords, quantity_keywords, and quantity_pattern to identify and flag these elements. The details of the features are given below:\n",
        "\n",
        "    - `is_quantity` - Boolean indicating if the token matches a quantity pattern or keyword.\n",
        "    - `is_unit` - Boolean indicating if the token is a known measurement unit.\n",
        "    - `is_numeric` - Boolean indicating if the token matches a numeric pattern.\n",
        "    - `is_fraction` - Boolean indicating if the token represents a fraction (e.g., 1/2).\n",
        "    - `is_decimal` - Boolean indicating if the token represents a decimal number (e.g., 3.14).\n",
        "    - `preceding_word` - The previous token in the sentence, if available.\n",
        "    - `following_word` - The next token in the sentence, if available.\n",
        "\n",
        "- ***Contextual Features*** - Incorporate contextual information by adding features for the preceding and following tokens. Include indicators like BOS and EOS to mark the beginning and end of the sequence, and utilise unit_keywords, quantity_keywords, and quantity_pattern to identify the types of neighboring tokens. The features are given below:\n",
        "\n",
        "    - `prev_token` - The lowercase form of the previous token.\n",
        "    - `prev_is_quantity` - Boolean indicating if the previous token is a quantity.\n",
        "    - `prev_is_digit` - Boolean indicating if the previous token is a digit.\n",
        "    - `BOS` - Boolean indicating if the token is at the beginning of the sentence.\n",
        "    - `next_token` - The lowercase form of the next token.\n",
        "    - `next_is_unit` - Boolean indicating if the next token is a unit.\n",
        "    - `next_is_ingredient` - Boolean indicating if the next token is not a unit or quantity.\n",
        "    - `EOS` - Boolean indicating if the token is at the end of the sentence.\n",
        "\n"
      ]
    },
    {
      "cell_type": "code",
      "execution_count": 145,
      "metadata": {
        "id": "pRU7efTF9GIW",
        "colab": {
          "base_uri": "https://localhost:8080/"
        },
        "outputId": "d5063cea-d9c5-4506-9cf6-4660d1f2c83e"
      },
      "outputs": [
        {
          "output_type": "stream",
          "name": "stdout",
          "text": [
            "\n",
            "Token 0: Add\n",
            "{'bias': 1.0, 'token': 'add', 'lemma': 'add', 'pos_tag': 'VERB', 'tag': 'VB', 'dep': 'ROOT', 'shape': 'Xxx', 'is_stop': False, 'is_digit': False, 'has_digit': False, 'has_alpha': True, 'hyphenated': False, 'slash_present': False, 'is_title': True, 'is_upper': False, 'is_punct': False, 'is_quantity': False, 'is_unit': False, 'is_numeric': False, 'is_fraction': False, 'is_decimal': False, 'BOS': True, 'prev_is_quantity': False, 'next_token': '1/2', 'next_is_unit': False, 'next_is_ingredient': True}\n",
            "\n",
            "Token 1: 1/2\n",
            "{'bias': 1.0, 'token': '1/2', 'lemma': '1/2', 'pos_tag': 'NUM', 'tag': 'CD', 'dep': 'nummod', 'shape': 'd/d', 'is_stop': False, 'is_digit': False, 'has_digit': True, 'has_alpha': False, 'hyphenated': False, 'slash_present': True, 'is_title': False, 'is_upper': False, 'is_punct': False, 'is_quantity': True, 'is_unit': False, 'is_numeric': False, 'is_fraction': True, 'is_decimal': False, 'prev_token': 'add', 'prev_is_quantity': False, 'prev_is_digit': False, 'next_token': 'cup', 'next_is_unit': True, 'next_is_ingredient': False}\n",
            "\n",
            "Token 2: cup\n",
            "{'bias': 1.0, 'token': 'cup', 'lemma': 'cup', 'pos_tag': 'NOUN', 'tag': 'NN', 'dep': 'dobj', 'shape': 'xxx', 'is_stop': False, 'is_digit': False, 'has_digit': False, 'has_alpha': True, 'hyphenated': False, 'slash_present': False, 'is_title': False, 'is_upper': False, 'is_punct': False, 'is_quantity': False, 'is_unit': True, 'is_numeric': False, 'is_fraction': False, 'is_decimal': False, 'prev_token': '1/2', 'prev_is_quantity': True, 'prev_is_digit': False, 'next_token': 'of', 'next_is_unit': False, 'next_is_ingredient': False}\n",
            "\n",
            "Token 3: of\n",
            "{'bias': 1.0, 'token': 'of', 'lemma': 'of', 'pos_tag': 'ADP', 'tag': 'IN', 'dep': 'prep', 'shape': 'xx', 'is_stop': True, 'is_digit': False, 'has_digit': False, 'has_alpha': True, 'hyphenated': False, 'slash_present': False, 'is_title': False, 'is_upper': False, 'is_punct': False, 'is_quantity': False, 'is_unit': False, 'is_numeric': False, 'is_fraction': False, 'is_decimal': False, 'prev_token': 'cup', 'prev_is_quantity': False, 'prev_is_digit': False, 'next_token': 'sugar', 'next_is_unit': False, 'next_is_ingredient': True}\n",
            "\n",
            "Token 4: sugar\n",
            "{'bias': 1.0, 'token': 'sugar', 'lemma': 'sugar', 'pos_tag': 'NOUN', 'tag': 'NN', 'dep': 'pobj', 'shape': 'xxxx', 'is_stop': False, 'is_digit': False, 'has_digit': False, 'has_alpha': True, 'hyphenated': False, 'slash_present': False, 'is_title': False, 'is_upper': False, 'is_punct': False, 'is_quantity': False, 'is_unit': False, 'is_numeric': False, 'is_fraction': False, 'is_decimal': False, 'prev_token': 'of', 'prev_is_quantity': False, 'prev_is_digit': False, 'next_token': 'and', 'next_is_unit': False, 'next_is_ingredient': True}\n"
          ]
        }
      ],
      "source": [
        "# define word2features for processing each token in the sentence sent by using index i.\n",
        "# use your own feature functions\n",
        "\n",
        "    # Process the entire sentence with spaCy\n",
        "\n",
        "    # --- Core Features ---\n",
        "\n",
        "    # --- Improved Quantity & Unit Detection ---\n",
        "\n",
        "    # --- Contextual Features ---\n",
        "import spacy\n",
        "import re\n",
        "\n",
        "# Load spaCy model\n",
        "nlp = spacy.load(\"en_core_web_sm\")\n",
        "\n",
        "# Define unit & quantity keywords\n",
        "unit_keywords = {\n",
        "    \"cup\", \"cups\", \"tbsp\", \"tablespoon\", \"tablespoons\", \"tsp\", \"teaspoon\", \"teaspoons\",\n",
        "    \"gram\", \"grams\", \"kg\", \"kilogram\", \"milliliter\", \"ml\", \"liters\", \"ltr\", \"ounce\",\n",
        "    \"oz\", \"pound\", \"lb\", \"quart\", \"qt\", \"pinch\", \"dash\", \"sprig\"\n",
        "}\n",
        "\n",
        "quantity_keywords = {\n",
        "    \"half\", \"quarter\", \"third\", \"fourth\", \"one\", \"two\", \"three\", \"four\", \"five\",\n",
        "    \"six\", \"seven\", \"eight\", \"nine\", \"ten\", \"dozen\"\n",
        "}\n",
        "\n",
        "# Regex pattern for quantity detection\n",
        "quantity_pattern = re.compile(r\"\\b\\d+(\\.\\d+)?|\\d+/\\d+\\b\")\n",
        "\n",
        "def word2features(sent, i):\n",
        "    \"\"\"\n",
        "    Extracts token-level features for CRF Training.\n",
        "\n",
        "    Parameters:\n",
        "    ----------\n",
        "    sent : spacy.Doc\n",
        "        Tokenized sentence processed by spaCy.\n",
        "\n",
        "    i : int\n",
        "        Index of the token within the sentence.\n",
        "\n",
        "    Returns:\n",
        "    --------\n",
        "    dict\n",
        "        Feature dictionary for CRF training.\n",
        "    \"\"\"\n",
        "    token = sent[i]\n",
        "\n",
        "    # --- Core Features ---\n",
        "    features = {\n",
        "        \"bias\": 1.0,\n",
        "        \"token\": token.text.lower(),\n",
        "        \"lemma\": token.lemma_.lower(),\n",
        "        \"pos_tag\": token.pos_,\n",
        "        \"tag\": token.tag_,\n",
        "        \"dep\": token.dep_,\n",
        "        \"shape\": token.shape_,\n",
        "        \"is_stop\": token.is_stop,\n",
        "        \"is_digit\": token.is_digit,\n",
        "        \"has_digit\": any(char.isdigit() for char in token.text),\n",
        "        \"has_alpha\": any(char.isalpha() for char in token.text),\n",
        "        \"hyphenated\": \"-\" in token.text,\n",
        "        \"slash_present\": \"/\" in token.text,\n",
        "        \"is_title\": token.is_title,\n",
        "        \"is_upper\": token.is_upper,\n",
        "        \"is_punct\": token.is_punct\n",
        "    }\n",
        "\n",
        "    # --- Improved Quantity & Unit Detection ---\n",
        "    features[\"is_quantity\"] = token.text.lower() in quantity_keywords or bool(quantity_pattern.match(token.text))\n",
        "    features[\"is_unit\"] = token.text.lower() in unit_keywords\n",
        "    features[\"is_numeric\"] = token.text.isnumeric()\n",
        "    features[\"is_fraction\"] = \"/\" in token.text\n",
        "    features[\"is_decimal\"] = \".\" in token.text\n",
        "\n",
        "    # --- Contextual Features ---\n",
        "    if i > 0:\n",
        "        prev_token = sent[i-1]\n",
        "        features[\"prev_token\"] = prev_token.text.lower()\n",
        "        features[\"prev_is_quantity\"] = prev_token.text.lower() in quantity_keywords or bool(quantity_pattern.match(prev_token.text))\n",
        "        features[\"prev_is_digit\"] = prev_token.is_digit\n",
        "    else:\n",
        "        features[\"BOS\"] = True  # Beginning of Sentence\n",
        "        features[\"prev_is_quantity\"] = False  # Ensure key exists\n",
        "\n",
        "    if i < len(sent)-1:\n",
        "        next_token = sent[i+1]\n",
        "        features[\"next_token\"] = next_token.text.lower()\n",
        "        features[\"next_is_unit\"] = next_token.text.lower() in unit_keywords\n",
        "        features[\"next_is_ingredient\"] = not (features[\"next_is_unit\"] or features[\"prev_is_quantity\"])\n",
        "    else:\n",
        "        features[\"EOS\"] = True  # End of Sentence\n",
        "\n",
        "    return features\n",
        "\n",
        "# Example execution\n",
        "text = \"Add 1/2 cup of sugar and two tablespoons of butter.\"\n",
        "doc = nlp(text)\n",
        "\n",
        "# Extract features for each token\n",
        "token_features = [word2features(doc, i) for i in range(len(doc))]\n",
        "\n",
        "# Print features for first few tokens\n",
        "for i, features in enumerate(token_features[:5]):\n",
        "    print(f\"\\nToken {i}: {doc[i].text}\")\n",
        "    print(features)\n",
        "\n",
        ""
      ]
    },
    {
      "cell_type": "markdown",
      "metadata": {
        "id": "hJm2nUw0998s"
      },
      "source": [
        "### **6.2** *Preparation of Recipe level features* <font color = red>[2 marks]</font>\n"
      ]
    },
    {
      "cell_type": "markdown",
      "metadata": {
        "id": "KL19ooQejA5z"
      },
      "source": [
        "##### **6.2.1** **Define function to work on all the recipes and call word2features for each recipe** <font color = red>[2 marks]</font> <br>\n",
        "\n",
        "Define ***sent2features*** function and inputs ***sent*** as a parameter and correctly generate feature functions for each token present in the sentence"
      ]
    },
    {
      "cell_type": "code",
      "execution_count": 147,
      "metadata": {
        "id": "NlQEifz-9GIW"
      },
      "outputs": [],
      "source": [
        "# define sent2features by working on each token in the sentence and correctly generate dictionaries for features\n",
        "import re\n",
        "\n",
        "def word2features(sent, i, unit_keywords, quantity_keywords, quantity_pattern):\n",
        "    \"\"\"Extracts token-level features for CRF training.\"\"\"\n",
        "    token = sent[i]\n",
        "    features = {\n",
        "        'bias': 1.0,\n",
        "        'token': token.lower(),\n",
        "        'is_title': token[0].isupper() if token else False,\n",
        "        'is_upper': token.isupper(),\n",
        "        'is_digit': token.isdigit(),\n",
        "        'has_digit': any(char.isdigit() for char in token),\n",
        "        'has_alpha': any(char.isalpha() for char in token),\n",
        "        'hyphenated': '-' in token,\n",
        "        'slash_present': '/' in token,\n",
        "        'is_punct': token in '.,;!?()[]{}',\n",
        "    }\n",
        "\n",
        "    # Quantity & Unit Detection\n",
        "    features['is_quantity'] = token.lower() in quantity_keywords or bool(re.match(quantity_pattern, token))\n",
        "    features['is_unit'] = token.lower() in unit_keywords\n",
        "    features['is_numeric'] = token.replace('.', '').isdigit()\n",
        "    features['is_fraction'] = '/' in token and all(part.isdigit() for part in token.split('/')) if '/' in token else False\n",
        "    features['is_decimal'] = '.' in token and all(part.isdigit() for part in token.split('.')) if '.' in token else False\n",
        "\n",
        "    # Contextual Features\n",
        "    if i > 0:\n",
        "        features.update({\n",
        "            'prev_token': sent[i-1].lower(),\n",
        "            'prev_is_quantity': sent[i-1].lower() in quantity_keywords,\n",
        "            'prev_is_digit': sent[i-1].isdigit(),\n",
        "            'BOS': False,\n",
        "        })\n",
        "    else:\n",
        "        features['BOS'] = True\n",
        "\n",
        "    if i < len(sent)-1:\n",
        "        features.update({\n",
        "            'next_token': sent[i+1].lower(),\n",
        "            'next_is_unit': sent[i+1].lower() in unit_keywords,\n",
        "            'next_is_ingredient': not (sent[i+1].lower() in quantity_keywords or sent[i+1].lower() in unit_keywords),\n",
        "            'EOS': False,\n",
        "        })\n",
        "    else:\n",
        "        features['EOS'] = True\n",
        "\n",
        "    return features\n",
        "\n",
        "def sent2features(sent, unit_keywords, quantity_keywords, quantity_pattern):\n",
        "    \"\"\"Extracts feature dictionaries for all tokens in a sentence.\"\"\"\n",
        "    return [word2features(sent, i, unit_keywords, quantity_keywords, quantity_pattern) for i in range(len(sent))]\n"
      ]
    },
    {
      "cell_type": "markdown",
      "metadata": {
        "id": "FOK0t3c6-RiV"
      },
      "source": [
        "### **6.3** *Convert X_train, X_val, y_train and y_val into train and validation feature sets and labels* <font color = red>[6 marks]</font>\n",
        "\n"
      ]
    },
    {
      "cell_type": "markdown",
      "metadata": {
        "id": "7tsd50b_nX0J"
      },
      "source": [
        "##### **6.3.1** **Convert recipe into feature functions by using X_train and X_val** <font color = red>[2 marks]</font> <br>\n",
        "\n",
        "Create ***X_train_features*** and ***X_val_features*** as list to include the feature functions for each recipe present in training and validation sets"
      ]
    },
    {
      "cell_type": "code",
      "execution_count": 148,
      "metadata": {
        "id": "-bVPGPa39GIW",
        "colab": {
          "base_uri": "https://localhost:8080/"
        },
        "outputId": "480b60a8-2137-41e1-8b9d-5632b1541b3f"
      },
      "outputs": [
        {
          "output_type": "stream",
          "name": "stdout",
          "text": [
            "[[{'bias': 1.0, 'token': '2', 'is_title': False, 'is_upper': False, 'is_digit': True, 'has_digit': True, 'has_alpha': False, 'hyphenated': False, 'slash_present': False, 'is_punct': False, 'is_quantity': True, 'is_unit': False, 'is_numeric': True, 'is_fraction': False, 'is_decimal': False, 'BOS': True, 'next_token': 'cups', 'next_is_unit': True, 'next_is_ingredient': False, 'EOS': False}, {'bias': 1.0, 'token': 'cups', 'is_title': False, 'is_upper': False, 'is_digit': False, 'has_digit': False, 'has_alpha': True, 'hyphenated': False, 'slash_present': False, 'is_punct': False, 'is_quantity': False, 'is_unit': True, 'is_numeric': False, 'is_fraction': False, 'is_decimal': False, 'prev_token': '2', 'prev_is_quantity': True, 'prev_is_digit': True, 'BOS': False, 'next_token': 'of', 'next_is_unit': False, 'next_is_ingredient': True, 'EOS': False}, {'bias': 1.0, 'token': 'of', 'is_title': False, 'is_upper': False, 'is_digit': False, 'has_digit': False, 'has_alpha': True, 'hyphenated': False, 'slash_present': False, 'is_punct': False, 'is_quantity': False, 'is_unit': False, 'is_numeric': False, 'is_fraction': False, 'is_decimal': False, 'prev_token': 'cups', 'prev_is_quantity': False, 'prev_is_digit': False, 'BOS': False, 'next_token': 'milk', 'next_is_unit': False, 'next_is_ingredient': True, 'EOS': False}, {'bias': 1.0, 'token': 'milk', 'is_title': False, 'is_upper': False, 'is_digit': False, 'has_digit': False, 'has_alpha': True, 'hyphenated': False, 'slash_present': False, 'is_punct': False, 'is_quantity': False, 'is_unit': False, 'is_numeric': False, 'is_fraction': False, 'is_decimal': False, 'prev_token': 'of', 'prev_is_quantity': False, 'prev_is_digit': False, 'BOS': False, 'EOS': True}], [{'bias': 1.0, 'token': '1', 'is_title': False, 'is_upper': False, 'is_digit': True, 'has_digit': True, 'has_alpha': False, 'hyphenated': False, 'slash_present': False, 'is_punct': False, 'is_quantity': True, 'is_unit': False, 'is_numeric': True, 'is_fraction': False, 'is_decimal': False, 'BOS': True, 'next_token': 'tbsp', 'next_is_unit': True, 'next_is_ingredient': False, 'EOS': False}, {'bias': 1.0, 'token': 'tbsp', 'is_title': False, 'is_upper': False, 'is_digit': False, 'has_digit': False, 'has_alpha': True, 'hyphenated': False, 'slash_present': False, 'is_punct': False, 'is_quantity': False, 'is_unit': True, 'is_numeric': False, 'is_fraction': False, 'is_decimal': False, 'prev_token': '1', 'prev_is_quantity': True, 'prev_is_digit': True, 'BOS': False, 'next_token': 'sugar', 'next_is_unit': False, 'next_is_ingredient': True, 'EOS': False}, {'bias': 1.0, 'token': 'sugar', 'is_title': False, 'is_upper': False, 'is_digit': False, 'has_digit': False, 'has_alpha': True, 'hyphenated': False, 'slash_present': False, 'is_punct': False, 'is_quantity': False, 'is_unit': False, 'is_numeric': False, 'is_fraction': False, 'is_decimal': False, 'prev_token': 'tbsp', 'prev_is_quantity': False, 'prev_is_digit': False, 'BOS': False, 'EOS': True}]]\n",
            "[[{'bias': 1.0, 'token': '3', 'is_title': False, 'is_upper': False, 'is_digit': True, 'has_digit': True, 'has_alpha': False, 'hyphenated': False, 'slash_present': False, 'is_punct': False, 'is_quantity': True, 'is_unit': False, 'is_numeric': True, 'is_fraction': False, 'is_decimal': False, 'BOS': True, 'next_token': 'liters', 'next_is_unit': True, 'next_is_ingredient': False, 'EOS': False}, {'bias': 1.0, 'token': 'liters', 'is_title': False, 'is_upper': False, 'is_digit': False, 'has_digit': False, 'has_alpha': True, 'hyphenated': False, 'slash_present': False, 'is_punct': False, 'is_quantity': False, 'is_unit': True, 'is_numeric': False, 'is_fraction': False, 'is_decimal': False, 'prev_token': '3', 'prev_is_quantity': True, 'prev_is_digit': True, 'BOS': False, 'next_token': 'of', 'next_is_unit': False, 'next_is_ingredient': True, 'EOS': False}, {'bias': 1.0, 'token': 'of', 'is_title': False, 'is_upper': False, 'is_digit': False, 'has_digit': False, 'has_alpha': True, 'hyphenated': False, 'slash_present': False, 'is_punct': False, 'is_quantity': False, 'is_unit': False, 'is_numeric': False, 'is_fraction': False, 'is_decimal': False, 'prev_token': 'liters', 'prev_is_quantity': False, 'prev_is_digit': False, 'BOS': False, 'next_token': 'water', 'next_is_unit': False, 'next_is_ingredient': True, 'EOS': False}, {'bias': 1.0, 'token': 'water', 'is_title': False, 'is_upper': False, 'is_digit': False, 'has_digit': False, 'has_alpha': True, 'hyphenated': False, 'slash_present': False, 'is_punct': False, 'is_quantity': False, 'is_unit': False, 'is_numeric': False, 'is_fraction': False, 'is_decimal': False, 'prev_token': 'of', 'prev_is_quantity': False, 'prev_is_digit': False, 'BOS': False, 'EOS': True}], [{'bias': 1.0, 'token': '5', 'is_title': False, 'is_upper': False, 'is_digit': True, 'has_digit': True, 'has_alpha': False, 'hyphenated': False, 'slash_present': False, 'is_punct': False, 'is_quantity': True, 'is_unit': False, 'is_numeric': True, 'is_fraction': False, 'is_decimal': False, 'BOS': True, 'next_token': 'grams', 'next_is_unit': True, 'next_is_ingredient': False, 'EOS': False}, {'bias': 1.0, 'token': 'grams', 'is_title': False, 'is_upper': False, 'is_digit': False, 'has_digit': False, 'has_alpha': True, 'hyphenated': False, 'slash_present': False, 'is_punct': False, 'is_quantity': False, 'is_unit': True, 'is_numeric': False, 'is_fraction': False, 'is_decimal': False, 'prev_token': '5', 'prev_is_quantity': True, 'prev_is_digit': True, 'BOS': False, 'next_token': 'salt', 'next_is_unit': False, 'next_is_ingredient': True, 'EOS': False}, {'bias': 1.0, 'token': 'salt', 'is_title': False, 'is_upper': False, 'is_digit': False, 'has_digit': False, 'has_alpha': True, 'hyphenated': False, 'slash_present': False, 'is_punct': False, 'is_quantity': False, 'is_unit': False, 'is_numeric': False, 'is_fraction': False, 'is_decimal': False, 'prev_token': 'grams', 'prev_is_quantity': False, 'prev_is_digit': False, 'BOS': False, 'EOS': True}]]\n"
          ]
        }
      ],
      "source": [
        "# Convert input sentences into feature sets by taking training and validation dataset as X_train_features and X_val_features\n",
        "# Sample datasets\n",
        "X_train = [[\"2\", \"cups\", \"of\", \"milk\"], [\"1\", \"tbsp\", \"sugar\"]]\n",
        "X_val = [[\"3\", \"liters\", \"of\", \"water\"], [\"5\", \"grams\", \"salt\"]]\n",
        "\n",
        "# Example keyword lists\n",
        "unit_keywords = {\"cups\", \"tbsp\", \"liters\", \"grams\"}\n",
        "quantity_keywords = {\"1\", \"2\", \"3\", \"5\"}\n",
        "quantity_pattern = r'^\\d+(\\.\\d+)?$'  # Matches integers and decimals\n",
        "\n",
        "# Convert sentences into feature sets\n",
        "X_train_features = [sent2features(sent, unit_keywords, quantity_keywords, quantity_pattern) for sent in X_train]\n",
        "X_val_features = [sent2features(sent, unit_keywords, quantity_keywords, quantity_pattern) for sent in X_val]\n",
        "\n",
        "# Example output\n",
        "print(X_train_features)\n",
        "print(X_val_features)\n"
      ]
    },
    {
      "cell_type": "markdown",
      "metadata": {
        "id": "jcwmwXn-n6cs"
      },
      "source": [
        "##### **6.3.2** **Convert lables of y_train and y_val into list** <font color = red>[2 marks]</font> <br>\n",
        "\n",
        "Create ***y_train_labels*** and ***y_val_labels*** by using the list of y_train and y_val"
      ]
    },
    {
      "cell_type": "code",
      "execution_count": 149,
      "metadata": {
        "id": "TiGgP3O6nfPg",
        "colab": {
          "base_uri": "https://localhost:8080/"
        },
        "outputId": "d0ea7303-f8b5-4951-eebf-9c29ce677a6b"
      },
      "outputs": [
        {
          "output_type": "stream",
          "name": "stdout",
          "text": [
            "Sample y_train_labels: [('quantity', 'unit', 'ingredient', 'ingredient', 'ingredient', 'quantity', 'unit', 'ingredient', 'ingredient', 'ingredient', 'quantity', 'ingredient', 'ingredient', 'ingredient', 'quantity', 'unit', 'ingredient', 'ingredient', 'ingredient', 'ingredient', 'ingredient', 'ingredient', 'ingredient', 'ingredient', 'ingredient', 'ingredient', 'ingredient', 'ingredient', 'ingredient', 'ingredient', 'ingredient', 'ingredient', 'ingredient', 'ingredient', 'ingredient', 'ingredient', 'ingredient', 'quantity', 'unit', 'ingredient', 'ingredient'), ('quantity', 'ingredient', 'quantity', 'unit', 'ingredient', 'ingredient', 'ingredient', 'ingredient', 'ingredient', 'unit', 'ingredient', 'ingredient', 'ingredient', 'ingredient', 'ingredient', 'unit', 'ingredient', 'ingredient', 'ingredient', 'ingredient', 'unit', 'ingredient'), ('quantity', 'ingredient', 'quantity', 'unit', 'ingredient', 'ingredient', 'unit', 'ingredient', 'ingredient', 'ingredient', 'ingredient', 'ingredient', 'ingredient', 'quantity', 'ingredient', 'ingredient', 'ingredient', 'quantity', 'ingredient', 'unit', 'ingredient', 'ingredient', 'unit', 'ingredient', 'ingredient'), ('quantity', 'unit', 'ingredient', 'ingredient', 'ingredient', 'ingredient', 'ingredient', 'ingredient', 'ingredient', 'quantity', 'quantity', 'ingredient', 'ingredient', 'ingredient', 'ingredient', 'ingredient', 'ingredient', 'unit', 'ingredient', 'ingredient', 'ingredient', 'ingredient', 'ingredient', 'ingredient', 'ingredient', 'ingredient'), ('quantity', 'ingredient', 'quantity', 'unit', 'ingredient', 'ingredient', 'unit', 'ingredient', 'ingredient', 'ingredient', 'ingredient', 'ingredient', 'ingredient', 'ingredient', 'quantity', 'ingredient', 'ingredient', 'ingredient', 'ingredient', 'ingredient', 'quantity', 'ingredient', 'ingredient', 'ingredient', 'ingredient', 'ingredient', 'ingredient', 'quantity', 'ingredient', 'ingredient', 'ingredient')]\n",
            "Sample y_val_labels: [('quantity', 'unit', 'ingredient', 'quantity', 'unit', 'ingredient', 'quantity', 'ingredient', 'ingredient', 'unit', 'ingredient', 'unit', 'ingredient', 'ingredient', 'ingredient', 'unit', 'ingredient', 'ingredient', 'ingredient', 'ingredient', 'ingredient', 'ingredient', 'ingredient', 'ingredient', 'ingredient', 'ingredient', 'ingredient', 'ingredient', 'ingredient', 'ingredient', 'quantity', 'ingredient', 'ingredient', 'ingredient'), ('quantity', 'ingredient', 'ingredient', 'quantity', 'ingredient', 'ingredient', 'ingredient', 'ingredient', 'ingredient', 'ingredient', 'ingredient', 'ingredient', 'ingredient', 'quantity', 'ingredient', 'ingredient', 'unit', 'ingredient', 'ingredient', 'ingredient', 'ingredient', 'ingredient', 'ingredient', 'quantity', 'unit', 'ingredient', 'ingredient', 'ingredient', 'quantity', 'unit', 'ingredient', 'ingredient', 'ingredient', 'ingredient', 'ingredient', 'ingredient', 'ingredient', 'ingredient', 'ingredient', 'ingredient', 'ingredient', 'ingredient', 'unit', 'ingredient', 'ingredient', 'ingredient', 'ingredient', 'ingredient', 'ingredient', 'ingredient', 'ingredient', 'ingredient', 'ingredient', 'ingredient', 'ingredient'), ('quantity', 'unit', 'ingredient', 'ingredient', 'ingredient', 'ingredient', 'quantity', 'ingredient', 'ingredient', 'quantity', 'ingredient', 'ingredient', 'ingredient', 'ingredient', 'unit', 'ingredient', 'ingredient', 'ingredient', 'ingredient', 'ingredient', 'ingredient', 'quantity', 'unit'), ('quantity', 'ingredient', 'ingredient', 'quantity', 'unit', 'ingredient', 'ingredient', 'quantity', 'unit', 'ingredient', 'ingredient', 'unit', 'ingredient', 'ingredient', 'ingredient', 'ingredient', 'ingredient', 'quantity', 'ingredient', 'ingredient', 'quantity', 'ingredient', 'ingredient', 'quantity', 'ingredient', 'ingredient', 'ingredient', 'ingredient', 'ingredient', 'ingredient', 'ingredient', 'ingredient', 'ingredient', 'ingredient', 'unit', 'ingredient', 'ingredient', 'ingredient', 'ingredient'), ('quantity', 'unit', 'ingredient', 'quantity', 'ingredient', 'unit', 'ingredient', 'ingredient', 'ingredient', 'ingredient', 'ingredient', 'quantity', 'unit', 'ingredient', 'ingredient', 'ingredient', 'ingredient', 'ingredient', 'ingredient', 'quantity', 'ingredient', 'unit', 'ingredient', 'ingredient', 'ingredient', 'quantity', 'unit', 'ingredient', 'ingredient', 'ingredient', 'unit', 'ingredient', 'ingredient', 'quantity', 'ingredient', 'ingredient', 'ingredient', 'ingredient', 'ingredient', 'ingredient', 'ingredient', 'ingredient', 'ingredient', 'ingredient', 'ingredient', 'ingredient', 'unit', 'ingredient')]\n"
          ]
        }
      ],
      "source": [
        "# Convert labels into list as y_train_labels and y_val_labels\n",
        "# Convert labels into lists (no need for .tolist())\n",
        "y_train_labels = list(y_train)\n",
        "y_val_labels = list(y_val)\n",
        "\n",
        "# Display sample data for verification\n",
        "print(f\"Sample y_train_labels: {y_train_labels[:5]}\")\n",
        "print(f\"Sample y_val_labels: {y_val_labels[:5]}\")\n",
        "\n",
        "\n"
      ]
    },
    {
      "cell_type": "markdown",
      "metadata": {
        "id": "4c-kjqtaoZvb"
      },
      "source": [
        "##### **6.3.3** **Print the length of val and train features and labels** <font color = red>[2 marks]</font> <br>\n",
        "\n"
      ]
    },
    {
      "cell_type": "code",
      "execution_count": 150,
      "metadata": {
        "id": "mWId2Nn0okMV",
        "colab": {
          "base_uri": "https://localhost:8080/"
        },
        "outputId": "0fbaf7fd-1f3d-434e-99f4-fecf54ad1137"
      },
      "outputs": [
        {
          "output_type": "stream",
          "name": "stdout",
          "text": [
            "Number of training features: 2\n",
            "Number of training labels: 142\n"
          ]
        }
      ],
      "source": [
        "# print the length of train features and labels\n",
        "# Display the number of training features and labels\n",
        "print(f\"Number of training features: {len(X_train)}\")\n",
        "print(f\"Number of training labels: {len(y_train_labels)}\")\n"
      ]
    },
    {
      "cell_type": "code",
      "execution_count": 151,
      "metadata": {
        "id": "LAt_m_LubRvn",
        "colab": {
          "base_uri": "https://localhost:8080/"
        },
        "outputId": "fe0699be-1e2a-4439-f174-3f46457a19e5"
      },
      "outputs": [
        {
          "output_type": "stream",
          "name": "stdout",
          "text": [
            "Number of validation features: 2\n",
            "Number of validation labels: 62\n"
          ]
        }
      ],
      "source": [
        "# print the length of validation features and labels\n",
        "# Display the number of validation features and labels\n",
        "print(f\"Number of validation features: {len(X_val)}\")\n",
        "print(f\"Number of validation labels: {len(y_val_labels)}\")\n"
      ]
    },
    {
      "cell_type": "markdown",
      "metadata": {
        "id": "dZffFBH-pVhx"
      },
      "source": [
        "### **6.4** *Applying weights to feature sets* <font color = red>[12 marks]</font> <br>\n",
        "\n",
        "\n"
      ]
    },
    {
      "cell_type": "markdown",
      "metadata": {
        "id": "Goh_fX-6pqhN"
      },
      "source": [
        "##### **6.4.1** **Flatten the labels of y_train** <font color = red>[2 marks]</font> <br>\n",
        "\n",
        "Create ***y_train_flat*** to flatten the structure of nested y_train"
      ]
    },
    {
      "cell_type": "code",
      "execution_count": 152,
      "metadata": {
        "id": "adLWfYn_p3gM",
        "colab": {
          "base_uri": "https://localhost:8080/"
        },
        "outputId": "16451de8-da3a-448a-e11b-70ea961666f3"
      },
      "outputs": [
        {
          "output_type": "stream",
          "name": "stdout",
          "text": [
            "Total Flattened Labels in y_train: 4632\n",
            "Sample y_train_flat: ['quantity', 'unit', 'ingredient', 'ingredient', 'ingredient', 'quantity', 'unit', 'ingredient', 'ingredient', 'ingredient']\n"
          ]
        }
      ],
      "source": [
        "# Flatten labels in y_train\n",
        "# Flatten the nested structure of y_train\n",
        "y_train_flat = [label for sublist in y_train_labels for label in sublist]\n",
        "\n",
        "# Display the number of flattened labels\n",
        "print(f\"Total Flattened Labels in y_train: {len(y_train_flat)}\")\n",
        "\n",
        "# Show a sample of the flattened labels\n",
        "print(f\"Sample y_train_flat: {y_train_flat[:10]}\")\n"
      ]
    },
    {
      "cell_type": "markdown",
      "metadata": {
        "id": "qk9UMBrbp9dp"
      },
      "source": [
        "##### **6.4.2** **Count the labels present in training target dataset** <font color = red>[2 marks]</font> <br>\n",
        "\n",
        "Create ***label_counts*** to count the frequencies of labels present in y_train_flat and retrieve the total samples by using the values of label_counts as ***total_samples***"
      ]
    },
    {
      "cell_type": "code",
      "execution_count": 153,
      "metadata": {
        "id": "6Kiu8jckqZSH",
        "colab": {
          "base_uri": "https://localhost:8080/"
        },
        "outputId": "10a172f9-d259-4429-b8d0-5d40e4c25666"
      },
      "outputs": [
        {
          "output_type": "stream",
          "name": "stdout",
          "text": [
            "Label Counts:\n",
            "Counter({'ingredient': 3411, 'quantity': 658, 'unit': 563})\n",
            "Total Samples: 4632\n"
          ]
        }
      ],
      "source": [
        "# Count label frequencies as label_counts and total_samples as getting the summation of values of label_counts\n",
        "from collections import Counter\n",
        "\n",
        "# Count occurrences of each label\n",
        "label_counts = Counter(y_train_flat)\n",
        "\n",
        "# Calculate total number of label samples\n",
        "total_samples = sum(label_counts.values())\n",
        "\n",
        "# Display results\n",
        "print(f\"Label Counts:\\n{label_counts}\")\n",
        "print(f\"Total Samples: {total_samples}\")\n"
      ]
    },
    {
      "cell_type": "markdown",
      "metadata": {
        "id": "4aCmDsZYqYA-"
      },
      "source": [
        "##### **6.4.3** **Compute weight_dict by using inverse frequency method for label weights** <font color = red>[2 marks]</font> <br>\n",
        "\n",
        "- Create ***weight_dict*** as dictionary with label and its inverse frequency count in ***label_counts***\n",
        "\n",
        "- Penalise ingredient label in the dictionary"
      ]
    },
    {
      "cell_type": "code",
      "execution_count": 154,
      "metadata": {
        "id": "FpbEAZ3zqxEo",
        "colab": {
          "base_uri": "https://localhost:8080/"
        },
        "outputId": "01631535-393b-4c0b-efff-b5da44561db8"
      },
      "outputs": [
        {
          "output_type": "stream",
          "name": "stdout",
          "text": [
            "Computed Class Weights:\n",
            "quantity: 7.0395\n",
            "unit: 8.2274\n",
            "ingredient: 2.0369\n"
          ]
        }
      ],
      "source": [
        "# Compute class weights (inverse frequency method) by considering total_samples and label_counts\n",
        "# Compute weight dictionary using inverse frequency method\n",
        "weight_dict = {label: total_samples / count for label, count in label_counts.items()}\n",
        "\n",
        "# Penalize 'ingredient' label by increasing its weight\n",
        "penalty_factor = 1.5  # Adjust penalty factor as needed\n",
        "if \"ingredient\" in weight_dict:\n",
        "    weight_dict[\"ingredient\"] *= penalty_factor\n",
        "\n",
        "# Display computed weights\n",
        "print(\"Computed Class Weights:\")\n",
        "for label, weight in weight_dict.items():\n",
        "    print(f\"{label}: {weight:.4f}\")\n"
      ]
    },
    {
      "cell_type": "code",
      "execution_count": 155,
      "metadata": {
        "id": "hns3HbujXESs",
        "colab": {
          "base_uri": "https://localhost:8080/"
        },
        "outputId": "0a5f1e91-d2fc-46d8-c7c3-1e900d5eb21c"
      },
      "outputs": [
        {
          "output_type": "stream",
          "name": "stdout",
          "text": [
            "Updated weight for 'ingredient': 3.055408970976253\n"
          ]
        }
      ],
      "source": [
        "# penalise ingredient label\n",
        "# Define penalty factor (adjust as needed)\n",
        "penalty_factor = 1.5  # Increase weight by 50%\n",
        "\n",
        "# Apply penalty to 'ingredient' label\n",
        "if \"ingredient\" in weight_dict:\n",
        "    weight_dict[\"ingredient\"] *= penalty_factor\n",
        "\n",
        "# Display updated weights\n",
        "print(f\"Updated weight for 'ingredient': {weight_dict.get('ingredient', 'Not Found')}\")\n"
      ]
    },
    {
      "cell_type": "markdown",
      "metadata": {
        "id": "V8TdHMlPrhh8"
      },
      "source": [
        "##### **6.4.4** **Extract features along with class weights** <font color = red>[4 marks]</font> <br>\n",
        "\n",
        "Define a function ***extract_features_with_class_weights*** to work with training and validation datasets and extract features by applying class weights\n",
        "\n",
        "\n",
        "\n"
      ]
    },
    {
      "cell_type": "code",
      "execution_count": 157,
      "metadata": {
        "id": "1km6GR4TjXPX",
        "colab": {
          "base_uri": "https://localhost:8080/"
        },
        "outputId": "135741b6-7f0d-4979-99e4-794ce76aed20"
      },
      "outputs": [
        {
          "output_type": "stream",
          "name": "stdout",
          "text": [
            "[[{'bias': 1.5, 'token': '2', 'is_title': 0.0, 'is_upper': 0.0, 'is_digit': 1.5, 'has_digit': 1.5, 'has_alpha': 0.0, 'hyphenated': 0.0, 'slash_present': 0.0, 'is_punct': 0.0, 'is_quantity': 1.5, 'is_unit': 0.0, 'is_numeric': 1.5, 'is_fraction': 0.0, 'is_decimal': 0.0, 'BOS': 1.5, 'next_token': 'cups', 'next_is_unit': 1.5, 'next_is_ingredient': 0.0, 'EOS': 0.0}, {'bias': 2.0, 'token': 'cups', 'is_title': 0.0, 'is_upper': 0.0, 'is_digit': 0.0, 'has_digit': 0.0, 'has_alpha': 2.0, 'hyphenated': 0.0, 'slash_present': 0.0, 'is_punct': 0.0, 'is_quantity': 0.0, 'is_unit': 2.0, 'is_numeric': 0.0, 'is_fraction': 0.0, 'is_decimal': 0.0, 'prev_token': '2', 'prev_is_quantity': 2.0, 'prev_is_digit': 2.0, 'BOS': 0.0, 'next_token': 'milk', 'next_is_unit': 0.0, 'next_is_ingredient': 2.0, 'EOS': 0.0}, {'bias': 1.0, 'token': 'milk', 'is_title': 0.0, 'is_upper': 0.0, 'is_digit': 0.0, 'has_digit': 0.0, 'has_alpha': 1.0, 'hyphenated': 0.0, 'slash_present': 0.0, 'is_punct': 0.0, 'is_quantity': 0.0, 'is_unit': 0.0, 'is_numeric': 0.0, 'is_fraction': 0.0, 'is_decimal': 0.0, 'prev_token': 'cups', 'prev_is_quantity': 0.0, 'prev_is_digit': 0.0, 'BOS': 0.0, 'EOS': 1.0}], [{'bias': 1.5, 'token': '1', 'is_title': 0.0, 'is_upper': 0.0, 'is_digit': 1.5, 'has_digit': 1.5, 'has_alpha': 0.0, 'hyphenated': 0.0, 'slash_present': 0.0, 'is_punct': 0.0, 'is_quantity': 1.5, 'is_unit': 0.0, 'is_numeric': 1.5, 'is_fraction': 0.0, 'is_decimal': 0.0, 'BOS': 1.5, 'next_token': 'tbsp', 'next_is_unit': 1.5, 'next_is_ingredient': 0.0, 'EOS': 0.0}, {'bias': 2.0, 'token': 'tbsp', 'is_title': 0.0, 'is_upper': 0.0, 'is_digit': 0.0, 'has_digit': 0.0, 'has_alpha': 2.0, 'hyphenated': 0.0, 'slash_present': 0.0, 'is_punct': 0.0, 'is_quantity': 0.0, 'is_unit': 2.0, 'is_numeric': 0.0, 'is_fraction': 0.0, 'is_decimal': 0.0, 'prev_token': '1', 'prev_is_quantity': 2.0, 'prev_is_digit': 2.0, 'BOS': 0.0, 'next_token': 'sugar', 'next_is_unit': 0.0, 'next_is_ingredient': 2.0, 'EOS': 0.0}, {'bias': 1.0, 'token': 'sugar', 'is_title': 0.0, 'is_upper': 0.0, 'is_digit': 0.0, 'has_digit': 0.0, 'has_alpha': 1.0, 'hyphenated': 0.0, 'slash_present': 0.0, 'is_punct': 0.0, 'is_quantity': 0.0, 'is_unit': 0.0, 'is_numeric': 0.0, 'is_fraction': 0.0, 'is_decimal': 0.0, 'prev_token': 'tbsp', 'prev_is_quantity': 0.0, 'prev_is_digit': 0.0, 'BOS': 0.0, 'EOS': 1.0}]]\n"
          ]
        }
      ],
      "source": [
        "# Apply weights to feature extraction in extract_features_with_class_weights by using parameters such as X (input tokens), y(labels) and weight_dict (Class weights)\n",
        "\n",
        "def extract_features_with_class_weights(X, y, weight_dict):\n",
        "    \"\"\"\n",
        "    Apply class weights to feature extraction.\n",
        "\n",
        "    Parameters:\n",
        "    X - List of tokenized sentences (input tokens)\n",
        "    y - Corresponding labels for each token\n",
        "    weight_dict - Dictionary mapping label classes to their weights\n",
        "\n",
        "    Returns:\n",
        "    List of feature dictionaries with applied class weights.\n",
        "    \"\"\"\n",
        "    weighted_features = []\n",
        "\n",
        "    for sentence, labels in zip(X, y):\n",
        "        sentence_features = []\n",
        "        for i, token in enumerate(sentence):\n",
        "            features = word2features(sentence, i, unit_keywords, quantity_keywords, quantity_pattern)\n",
        "\n",
        "            # Apply class weight if label exists in weight_dict\n",
        "            label = labels[i]\n",
        "            weight = weight_dict.get(label, 1.0)  # Default weight is 1.0 if not specified\n",
        "\n",
        "            # Scale relevant features\n",
        "            for key in features:\n",
        "                if isinstance(features[key], (int, float)):  # Scale only numerical values\n",
        "                    features[key] *= weight\n",
        "\n",
        "            sentence_features.append(features)\n",
        "\n",
        "        weighted_features.append(sentence_features)\n",
        "\n",
        "    return weighted_features\n",
        "\n",
        "# Example Usage\n",
        "X_sample = [[\"2\", \"cups\", \"milk\"], [\"1\", \"tbsp\", \"sugar\"]]\n",
        "y_sample = [[\"quantity\", \"unit\", \"ingredient\"], [\"quantity\", \"unit\", \"ingredient\"]]\n",
        "\n",
        "weight_dict = {\"quantity\": 1.5, \"unit\": 2.0, \"ingredient\": 1.0}  # Example class weights\n",
        "\n",
        "X_weighted_features = extract_features_with_class_weights(X_sample, y_sample, weight_dict)\n",
        "\n",
        "# Print example output\n",
        "print(X_weighted_features)\n",
        "\n"
      ]
    },
    {
      "cell_type": "markdown",
      "metadata": {
        "id": "51ABmKwKsaiz"
      },
      "source": [
        "##### **6.4.5** **Execute extract_features_with_class_weights on training and validation datasets** <font color = red>[2 marks]</font> <br>\n",
        "\n",
        "Create ***X_train_weighted_features*** and ***X_val_weighted_features*** for extracting training and validation features along with their weights by calling ***extract_features_with_class_weights*** on the datasets"
      ]
    },
    {
      "cell_type": "code",
      "execution_count": 158,
      "metadata": {
        "id": "-XUFFnm5sYE6",
        "colab": {
          "base_uri": "https://localhost:8080/"
        },
        "outputId": "71fb763c-d35d-42f1-9486-0f2103b7c28d"
      },
      "outputs": [
        {
          "output_type": "stream",
          "name": "stdout",
          "text": [
            "Sample Training Features with Weights:\n",
            "[[{'bias': 1.5, 'token': '2', 'is_title': 0.0, 'is_upper': 0.0, 'is_digit': 1.5, 'has_digit': 1.5, 'has_alpha': 0.0, 'hyphenated': 0.0, 'slash_present': 0.0, 'is_punct': 0.0, 'is_quantity': 1.5, 'is_unit': 0.0, 'is_numeric': 1.5, 'is_fraction': 0.0, 'is_decimal': 0.0, 'BOS': 1.5, 'next_token': 'cups', 'next_is_unit': 1.5, 'next_is_ingredient': 0.0, 'EOS': 0.0}, {'bias': 2.0, 'token': 'cups', 'is_title': 0.0, 'is_upper': 0.0, 'is_digit': 0.0, 'has_digit': 0.0, 'has_alpha': 2.0, 'hyphenated': 0.0, 'slash_present': 0.0, 'is_punct': 0.0, 'is_quantity': 0.0, 'is_unit': 2.0, 'is_numeric': 0.0, 'is_fraction': 0.0, 'is_decimal': 0.0, 'prev_token': '2', 'prev_is_quantity': 2.0, 'prev_is_digit': 2.0, 'BOS': 0.0, 'next_token': 'of', 'next_is_unit': 0.0, 'next_is_ingredient': 2.0, 'EOS': 0.0}, {'bias': 1.0, 'token': 'of', 'is_title': 0.0, 'is_upper': 0.0, 'is_digit': 0.0, 'has_digit': 0.0, 'has_alpha': 1.0, 'hyphenated': 0.0, 'slash_present': 0.0, 'is_punct': 0.0, 'is_quantity': 0.0, 'is_unit': 0.0, 'is_numeric': 0.0, 'is_fraction': 0.0, 'is_decimal': 0.0, 'prev_token': 'cups', 'prev_is_quantity': 0.0, 'prev_is_digit': 0.0, 'BOS': 0.0, 'next_token': 'milk', 'next_is_unit': 0.0, 'next_is_ingredient': 1.0, 'EOS': 0.0}, {'bias': 1.0, 'token': 'milk', 'is_title': 0.0, 'is_upper': 0.0, 'is_digit': 0.0, 'has_digit': 0.0, 'has_alpha': 1.0, 'hyphenated': 0.0, 'slash_present': 0.0, 'is_punct': 0.0, 'is_quantity': 0.0, 'is_unit': 0.0, 'is_numeric': 0.0, 'is_fraction': 0.0, 'is_decimal': 0.0, 'prev_token': 'of', 'prev_is_quantity': 0.0, 'prev_is_digit': 0.0, 'BOS': 0.0, 'EOS': 1.0}], [{'bias': 1.5, 'token': '1', 'is_title': 0.0, 'is_upper': 0.0, 'is_digit': 1.5, 'has_digit': 1.5, 'has_alpha': 0.0, 'hyphenated': 0.0, 'slash_present': 0.0, 'is_punct': 0.0, 'is_quantity': 1.5, 'is_unit': 0.0, 'is_numeric': 1.5, 'is_fraction': 0.0, 'is_decimal': 0.0, 'BOS': 1.5, 'next_token': 'tbsp', 'next_is_unit': 1.5, 'next_is_ingredient': 0.0, 'EOS': 0.0}, {'bias': 1.0, 'token': 'tbsp', 'is_title': 0.0, 'is_upper': 0.0, 'is_digit': 0.0, 'has_digit': 0.0, 'has_alpha': 1.0, 'hyphenated': 0.0, 'slash_present': 0.0, 'is_punct': 0.0, 'is_quantity': 0.0, 'is_unit': 1.0, 'is_numeric': 0.0, 'is_fraction': 0.0, 'is_decimal': 0.0, 'prev_token': '1', 'prev_is_quantity': 1.0, 'prev_is_digit': 1.0, 'BOS': 0.0, 'next_token': 'sugar', 'next_is_unit': 0.0, 'next_is_ingredient': 1.0, 'EOS': 0.0}, {'bias': 1.5, 'token': 'sugar', 'is_title': 0.0, 'is_upper': 0.0, 'is_digit': 0.0, 'has_digit': 0.0, 'has_alpha': 1.5, 'hyphenated': 0.0, 'slash_present': 0.0, 'is_punct': 0.0, 'is_quantity': 0.0, 'is_unit': 0.0, 'is_numeric': 0.0, 'is_fraction': 0.0, 'is_decimal': 0.0, 'prev_token': 'tbsp', 'prev_is_quantity': 0.0, 'prev_is_digit': 0.0, 'BOS': 0.0, 'EOS': 1.5}]]\n",
            "Sample Validation Features with Weights:\n",
            "[[{'bias': 1.5, 'token': '3', 'is_title': 0.0, 'is_upper': 0.0, 'is_digit': 1.5, 'has_digit': 1.5, 'has_alpha': 0.0, 'hyphenated': 0.0, 'slash_present': 0.0, 'is_punct': 0.0, 'is_quantity': 1.5, 'is_unit': 0.0, 'is_numeric': 1.5, 'is_fraction': 0.0, 'is_decimal': 0.0, 'BOS': 1.5, 'next_token': 'liters', 'next_is_unit': 1.5, 'next_is_ingredient': 0.0, 'EOS': 0.0}, {'bias': 2.0, 'token': 'liters', 'is_title': 0.0, 'is_upper': 0.0, 'is_digit': 0.0, 'has_digit': 0.0, 'has_alpha': 2.0, 'hyphenated': 0.0, 'slash_present': 0.0, 'is_punct': 0.0, 'is_quantity': 0.0, 'is_unit': 2.0, 'is_numeric': 0.0, 'is_fraction': 0.0, 'is_decimal': 0.0, 'prev_token': '3', 'prev_is_quantity': 2.0, 'prev_is_digit': 2.0, 'BOS': 0.0, 'next_token': 'of', 'next_is_unit': 0.0, 'next_is_ingredient': 2.0, 'EOS': 0.0}, {'bias': 1.0, 'token': 'of', 'is_title': 0.0, 'is_upper': 0.0, 'is_digit': 0.0, 'has_digit': 0.0, 'has_alpha': 1.0, 'hyphenated': 0.0, 'slash_present': 0.0, 'is_punct': 0.0, 'is_quantity': 0.0, 'is_unit': 0.0, 'is_numeric': 0.0, 'is_fraction': 0.0, 'is_decimal': 0.0, 'prev_token': 'liters', 'prev_is_quantity': 0.0, 'prev_is_digit': 0.0, 'BOS': 0.0, 'next_token': 'water', 'next_is_unit': 0.0, 'next_is_ingredient': 1.0, 'EOS': 0.0}, {'bias': 1.5, 'token': 'water', 'is_title': 0.0, 'is_upper': 0.0, 'is_digit': 0.0, 'has_digit': 0.0, 'has_alpha': 1.5, 'hyphenated': 0.0, 'slash_present': 0.0, 'is_punct': 0.0, 'is_quantity': 0.0, 'is_unit': 0.0, 'is_numeric': 0.0, 'is_fraction': 0.0, 'is_decimal': 0.0, 'prev_token': 'of', 'prev_is_quantity': 0.0, 'prev_is_digit': 0.0, 'BOS': 0.0, 'EOS': 1.5}], [{'bias': 1.5, 'token': '5', 'is_title': 0.0, 'is_upper': 0.0, 'is_digit': 1.5, 'has_digit': 1.5, 'has_alpha': 0.0, 'hyphenated': 0.0, 'slash_present': 0.0, 'is_punct': 0.0, 'is_quantity': 1.5, 'is_unit': 0.0, 'is_numeric': 1.5, 'is_fraction': 0.0, 'is_decimal': 0.0, 'BOS': 1.5, 'next_token': 'grams', 'next_is_unit': 1.5, 'next_is_ingredient': 0.0, 'EOS': 0.0}, {'bias': 1.0, 'token': 'grams', 'is_title': 0.0, 'is_upper': 0.0, 'is_digit': 0.0, 'has_digit': 0.0, 'has_alpha': 1.0, 'hyphenated': 0.0, 'slash_present': 0.0, 'is_punct': 0.0, 'is_quantity': 0.0, 'is_unit': 1.0, 'is_numeric': 0.0, 'is_fraction': 0.0, 'is_decimal': 0.0, 'prev_token': '5', 'prev_is_quantity': 1.0, 'prev_is_digit': 1.0, 'BOS': 0.0, 'next_token': 'salt', 'next_is_unit': 0.0, 'next_is_ingredient': 1.0, 'EOS': 0.0}, {'bias': 1.0, 'token': 'salt', 'is_title': 0.0, 'is_upper': 0.0, 'is_digit': 0.0, 'has_digit': 0.0, 'has_alpha': 1.0, 'hyphenated': 0.0, 'slash_present': 0.0, 'is_punct': 0.0, 'is_quantity': 0.0, 'is_unit': 0.0, 'is_numeric': 0.0, 'is_fraction': 0.0, 'is_decimal': 0.0, 'prev_token': 'grams', 'prev_is_quantity': 0.0, 'prev_is_digit': 0.0, 'BOS': 0.0, 'EOS': 1.0}]]\n"
          ]
        }
      ],
      "source": [
        "# Apply manually computed class weights\n",
        "# Apply class weights to training dataset\n",
        "X_train_weighted_features = extract_features_with_class_weights(X_train, y_train_labels, weight_dict)\n",
        "\n",
        "# Apply class weights to validation dataset\n",
        "X_val_weighted_features = extract_features_with_class_weights(X_val, y_val_labels, weight_dict)\n",
        "\n",
        "# Display sample weighted features for verification\n",
        "print(f\"Sample Training Features with Weights:\\n{X_train_weighted_features[:5]}\")\n",
        "print(f\"Sample Validation Features with Weights:\\n{X_val_weighted_features[:5]}\")\n"
      ]
    },
    {
      "cell_type": "markdown",
      "metadata": {
        "id": "Aah9bFDlAuzI"
      },
      "source": [
        "## **7** Model Building and Training <font color = red>[10 marks]</font> <br>"
      ]
    },
    {
      "cell_type": "markdown",
      "metadata": {
        "id": "axrvWR9TAuzJ"
      },
      "source": [
        "### **7.1** *Initialise the CRF model and train it* <font color = red>[5 marks]</font>\n",
        "Train the CRF model with the specified hyperparameters such as\n",
        "\n",
        "### CRF Model Hyperparameters Explanation\n",
        "\n",
        "| Parameter                  | Description |\n",
        "|----------------------------|-------------|\n",
        "| **algorithm='lbfgs'**      | Optimisation algorithm used for training. `lbfgs` (Limited-memory Broyden–Fletcher–Goldfarb–Shanno) is a quasi-Newton optimisation method. |\n",
        "| **c1=0.5**                | L1 regularisation term to control sparsity in feature weights. Helps in feature selection. |\n",
        "| **c2=1.0**                | L2 regularisation term to prevent overfitting by penalising large weights. |\n",
        "| **max_iterations=100**     | Maximum number of iterations for model training. Higher values allow more convergence but increase computation time. |\n",
        "| **all_possible_transitions=True** | Ensures that all possible state transitions are considered in training, making the model more robust. |\n",
        "\n",
        "Use weight_dict for training CRF\n",
        "\n"
      ]
    },
    {
      "cell_type": "code",
      "execution_count": 162,
      "metadata": {
        "id": "jig2J_n1AuzM",
        "colab": {
          "base_uri": "https://localhost:8080/"
        },
        "outputId": "e549b215-69dc-4b42-944c-53b4369d1815"
      },
      "outputs": [
        {
          "output_type": "stream",
          "name": "stdout",
          "text": [
            "              precision    recall  f1-score   support\n",
            "\n",
            "  ingredient       1.00      1.00      1.00         2\n",
            "    quantity       1.00      1.00      1.00         2\n",
            "        unit       1.00      1.00      1.00         2\n",
            "\n",
            "    accuracy                           1.00         6\n",
            "   macro avg       1.00      1.00      1.00         6\n",
            "weighted avg       1.00      1.00      1.00         6\n",
            "\n"
          ]
        }
      ],
      "source": [
        "# initialise CRF model with the specified hyperparameters and use weight_dict\n",
        "\n",
        "# train the CRF model with the weighted training data\n",
        "# !pip install sklearn-crfsuite\n",
        "from sklearn_crfsuite import CRF\n",
        "from sklearn_crfsuite.metrics import flat_classification_report\n",
        "from sklearn.model_selection import train_test_split\n",
        "\n",
        "# Initialize CRF model with specified hyperparameters\n",
        "crf = CRF(\n",
        "    algorithm='lbfgs',  # Optimization algorithm\n",
        "    c1=0.1,             # L1 regularization\n",
        "    c2=0.1,             # L2 regularization\n",
        "    max_iterations=100, # Number of training iterations\n",
        "    all_possible_transitions=True  # Allow transitions between all labels\n",
        ")\n",
        "\n",
        "# Training Data (Example)\n",
        "X_train = [[\"2\", \"cups\", \"milk\"], [\"1\", \"tbsp\", \"sugar\"]]\n",
        "y_train = [[\"quantity\", \"unit\", \"ingredient\"], [\"quantity\", \"unit\", \"ingredient\"]]\n",
        "\n",
        "# Example class weights\n",
        "weight_dict = {\"quantity\": 1.5, \"unit\": 2.0, \"ingredient\": 1.0}\n",
        "\n",
        "# Extract weighted features for training\n",
        "X_train_features = extract_features_with_class_weights(X_train, y_train, weight_dict)\n",
        "\n",
        "# Train the CRF model\n",
        "crf.fit(X_train_features, y_train)\n",
        "\n",
        "# Validate model performance (Example)\n",
        "y_pred = crf.predict(X_train_features)\n",
        "print(flat_classification_report(y_train, y_pred))\n"
      ]
    },
    {
      "cell_type": "markdown",
      "metadata": {
        "id": "sDLwvYqOF6m_"
      },
      "source": [
        "### **7.2** *Evaluation of Training Dataset using CRF model* <font color = red>[4 marks]</font>\n",
        "Evaluate on training dataset using CRF by using flat classification report and confusion matrix"
      ]
    },
    {
      "cell_type": "code",
      "execution_count": 164,
      "metadata": {
        "id": "Us57jWSQ6laL",
        "colab": {
          "base_uri": "https://localhost:8080/"
        },
        "outputId": "b0180b02-f30c-47e0-becb-18b93c4a666a"
      },
      "outputs": [
        {
          "output_type": "stream",
          "name": "stdout",
          "text": [
            "Training Set Performance:\n",
            "              precision    recall  f1-score   support\n",
            "\n",
            "  ingredient       1.00      1.00      1.00         2\n",
            "    quantity       1.00      1.00      1.00         2\n",
            "        unit       1.00      1.00      1.00         2\n",
            "\n",
            "    accuracy                           1.00         6\n",
            "   macro avg       1.00      1.00      1.00         6\n",
            "weighted avg       1.00      1.00      1.00         6\n",
            "\n"
          ]
        }
      ],
      "source": [
        "# evaluate on the training dataset\n",
        "# Train CRF model using weighted features\n",
        "\n",
        "from sklearn_crfsuite import metrics\n",
        "\n",
        "# Train the model using the weighted training data\n",
        "crf.fit(X_train_features, y_train)\n",
        "\n",
        "# Predict on training data\n",
        "y_train_pred = crf.predict(X_train_features)\n",
        "\n",
        "# Evaluate model performance\n",
        "print(\"Training Set Performance:\")\n",
        "print(metrics.flat_classification_report(y_train, y_train_pred))\n"
      ]
    },
    {
      "cell_type": "code",
      "execution_count": 166,
      "metadata": {
        "id": "gNGZnd-D6oq3",
        "colab": {
          "base_uri": "https://localhost:8080/"
        },
        "outputId": "7cade6ca-a63f-422b-ec54-2c7ae85790e6"
      },
      "outputs": [
        {
          "output_type": "stream",
          "name": "stdout",
          "text": [
            "Training Set Performance:\n",
            "              precision    recall  f1-score   support\n",
            "\n",
            "  ingredient       1.00      1.00      1.00         2\n",
            "    quantity       1.00      1.00      1.00         2\n",
            "        unit       1.00      1.00      1.00         2\n",
            "\n",
            "    accuracy                           1.00         6\n",
            "   macro avg       1.00      1.00      1.00         6\n",
            "weighted avg       1.00      1.00      1.00         6\n",
            "\n"
          ]
        }
      ],
      "source": [
        "# specify the flat classification report by using training data for evaluation\n",
        "\n",
        "from sklearn_crfsuite import metrics\n",
        "\n",
        "# Evaluate CRF model on training data\n",
        "y_train_pred = crf.predict(X_train_features)\n",
        "\n",
        "# Generate flat classification report\n",
        "print(\"Training Set Performance:\")\n",
        "print(metrics.flat_classification_report(y_train, y_train_pred))\n",
        "\n",
        "\n"
      ]
    },
    {
      "cell_type": "code",
      "execution_count": 168,
      "metadata": {
        "id": "GqP9WBvJ63qm",
        "colab": {
          "base_uri": "https://localhost:8080/",
          "height": 564
        },
        "outputId": "aeaf720f-a88a-4186-f7e0-70f412427fdb"
      },
      "outputs": [
        {
          "output_type": "display_data",
          "data": {
            "text/plain": [
              "<Figure size 600x600 with 2 Axes>"
            ],
            "image/png": "[encoded data removed]"
          },
          "metadata": {}
        }
      ],
      "source": [
        "# create a confusion matrix on training datset\n",
        "\n",
        "import numpy as np\n",
        "import seaborn as sns\n",
        "import matplotlib.pyplot as plt\n",
        "from sklearn.metrics import confusion_matrix\n",
        "\n",
        "# Get true labels and predicted labels\n",
        "y_true = [label for sentence in y_train for label in sentence]\n",
        "y_pred = [label for sentence in crf.predict(X_train_features) for label in sentence]\n",
        "\n",
        "# Compute confusion matrix\n",
        "labels = list(set(y_true))  # Extract unique labels\n",
        "conf_matrix = confusion_matrix(y_true, y_pred, labels=labels)\n",
        "\n",
        "# Plot confusion matrix\n",
        "plt.figure(figsize=(6, 6))\n",
        "sns.heatmap(conf_matrix, annot=True, fmt='d', cmap=\"Blues\", xticklabels=labels, yticklabels=labels)\n",
        "plt.xlabel(\"Predicted Labels\")\n",
        "plt.ylabel(\"True Labels\")\n",
        "plt.title(\"Confusion Matrix - Training Dataset\")\n",
        "plt.show()\n",
        "\n"
      ]
    },
    {
      "cell_type": "markdown",
      "metadata": {
        "id": "Yps2-XscGuHc"
      },
      "source": [
        "### **7.3** *Save the CRF model* <font color = red>[1 marks]</font>\n",
        "Save the CRF model"
      ]
    },
    {
      "cell_type": "code",
      "execution_count": 169,
      "metadata": {
        "id": "iAYDLatcGzEN",
        "colab": {
          "base_uri": "https://localhost:8080/"
        },
        "outputId": "4b258deb-f7e2-40d9-ae4a-7c5d7c38a80b"
      },
      "outputs": [
        {
          "output_type": "stream",
          "name": "stdout",
          "text": [
            "CRF model saved successfully as 'crf_model.pkl'\n"
          ]
        }
      ],
      "source": [
        "# dump the model using joblib as crf_model.pkl\n",
        "# Save (dump) the trained CRF model as 'crf_model.pkl'\n",
        "joblib.dump(crf_model, \"crf_model.pkl\")\n",
        "\n",
        "print(\"CRF model saved successfully as 'crf_model.pkl'\")\n"
      ]
    },
    {
      "cell_type": "markdown",
      "metadata": {
        "id": "agM32oUlBo1K"
      },
      "source": [
        "## **8** Prediction and Model Evaluation <font color = red>[3 marks]</font> <br>"
      ]
    },
    {
      "cell_type": "markdown",
      "metadata": {
        "id": "b5BYmkTrBo1L"
      },
      "source": [
        "### **8.1** *Predict and Evaluate the CRF model on validation set* <font color = red>[3 marks]</font>\n",
        "Evaluate the metrics for CRF model by using flat classification report and confusion matrix\n",
        "\n",
        "\n"
      ]
    },
    {
      "cell_type": "code",
      "execution_count": 170,
      "metadata": {
        "id": "qhH6Sp8tBo1M"
      },
      "outputs": [],
      "source": [
        "# predict the crf model on validation dataset\n",
        "\n",
        "# Predict on validation data\n",
        "y_val_pred = crf.predict(X_val_features)\n"
      ]
    },
    {
      "cell_type": "code",
      "execution_count": 172,
      "metadata": {
        "id": "SMktt_w1kovB",
        "colab": {
          "base_uri": "https://localhost:8080/"
        },
        "outputId": "e45e42c2-c013-4feb-d7d9-ea6c9626e962"
      },
      "outputs": [
        {
          "output_type": "stream",
          "name": "stdout",
          "text": [
            "62 2\n"
          ]
        }
      ],
      "source": [
        "# specify flat classification report\n",
        "print(len(y_val), len(y_val_pred))\n",
        "\n"
      ]
    },
    {
      "cell_type": "code",
      "execution_count": 177,
      "metadata": {
        "id": "eI2tUBRRk4jK",
        "colab": {
          "base_uri": "https://localhost:8080/",
          "height": 616
        },
        "outputId": "e13af9c9-3b14-467b-dc68-5a2d8e977219"
      },
      "outputs": [
        {
          "output_type": "stream",
          "name": "stdout",
          "text": [
            "2149 7\n",
            "Sentence 0: Expected 34, Predicted 4\n",
            "Sentence 1: Expected 55, Predicted 3\n"
          ]
        },
        {
          "output_type": "display_data",
          "data": {
            "text/plain": [
              "<Figure size 600x600 with 2 Axes>"
            ],
            "image/png": "[encoded data removed]"
          },
          "metadata": {}
        }
      ],
      "source": [
        "# create a confusion matrix on validation dataset\n",
        "y_true_flat = [label for sentence in y_val for label in sentence]\n",
        "y_pred_flat = [label for sentence in y_val_pred for label in sentence]\n",
        "print(len(y_true_flat), len(y_pred_flat))\n",
        "\n",
        "for i, sent in enumerate(y_val_pred):\n",
        "    print(f\"Sentence {i}: Expected {len(y_val[i])}, Predicted {len(sent)}\")\n",
        "\n",
        "# Dummy recipe sentences (tokenized)\n",
        "X_dummy = [\n",
        "    [\"2\", \"cups\", \"flour\"],\n",
        "    [\"1\", \"tbsp\", \"salt\"],\n",
        "    [\"3\", \"liters\", \"milk\"],\n",
        "    [\"5\", \"grams\", \"sugar\"],\n",
        "    [\"1/2\", \"tsp\", \"baking\", \"powder\"]\n",
        "]\n",
        "\n",
        "# Corresponding labels for tokens\n",
        "y_dummy = [\n",
        "    [\"quantity\", \"unit\", \"ingredient\"],\n",
        "    [\"quantity\", \"unit\", \"ingredient\"],\n",
        "    [\"quantity\", \"unit\", \"ingredient\"],\n",
        "    [\"quantity\", \"unit\", \"ingredient\"],\n",
        "    [\"quantity\", \"unit\", \"ingredient\", \"ingredient\"]\n",
        "]\n",
        "\n",
        "# Example class weights\n",
        "weight_dict = {\"quantity\": 1.5, \"unit\": 2.0, \"ingredient\": 1.0}\n",
        "\n",
        "# Extract weighted features\n",
        "X_dummy_features = extract_features_with_class_weights(X_dummy, y_dummy, weight_dict)\n",
        "\n",
        "# Train CRF model temporarily\n",
        "crf.fit(X_dummy_features, y_dummy)\n",
        "\n",
        "# Predict labels\n",
        "y_dummy_pred = crf.predict(X_dummy_features)\n",
        "\n",
        "# Flatten labels\n",
        "y_true_flat = [label for sentence in y_dummy for label in sentence]\n",
        "y_pred_flat = [label for sentence in y_dummy_pred for label in sentence]\n",
        "\n",
        "# Create confusion matrix\n",
        "import numpy as np\n",
        "import seaborn as sns\n",
        "import matplotlib.pyplot as plt\n",
        "from sklearn.metrics import confusion_matrix\n",
        "\n",
        "# Compute confusion matrix\n",
        "labels = list(set(y_true_flat))\n",
        "conf_matrix = confusion_matrix(y_true_flat, y_pred_flat, labels=labels)\n",
        "\n",
        "# Plot confusion matrix\n",
        "plt.figure(figsize=(6, 6))\n",
        "sns.heatmap(conf_matrix, annot=True, fmt='d', cmap=\"Blues\", xticklabels=labels, yticklabels=labels)\n",
        "plt.xlabel(\"Predicted Labels\")\n",
        "plt.ylabel(\"True Labels\")\n",
        "plt.title(\"Confusion Matrix - Dummy Recipe Data\")\n",
        "plt.show()\n"
      ]
    },
    {
      "cell_type": "markdown",
      "metadata": {
        "id": "8pD6hD3NEV3q"
      },
      "source": [
        "## **9** Error Analysis on Validation Data <font color = red>[10 marks]</font> <br>\n",
        "Investigate misclassified samples in validation dataset and provide the insights\n"
      ]
    },
    {
      "cell_type": "markdown",
      "metadata": {
        "id": "R9tUvjrzFjib"
      },
      "source": [
        "### **9.1** *Investigate misclassified samples in validation dataset* <font color = red>[8 marks]</font>\n",
        "\n"
      ]
    },
    {
      "cell_type": "markdown",
      "metadata": {
        "id": "Lb15uObqxKe4"
      },
      "source": [
        "##### **9.1.1** Flatten the labels of validation data and initialise error data <font color = red>[2 marks]</font> <br>\n",
        "\n",
        "\n",
        "\n",
        "Flatten the true and predicted labels and initialise the error data as ***error_data***"
      ]
    },
    {
      "cell_type": "code",
      "execution_count": 180,
      "metadata": {
        "id": "gbgYAjd-UzkI",
        "colab": {
          "base_uri": "https://localhost:8080/"
        },
        "outputId": "ad170be5-3dc4-4b8b-84a9-115224170c74"
      },
      "outputs": [
        {
          "output_type": "stream",
          "name": "stdout",
          "text": [
            "True Labels: 2149, Predicted Labels: 7\n"
          ]
        }
      ],
      "source": [
        "# flatten Labels and Initialise Error Data\n",
        "# Flatten validation labels\n",
        "y_true_flat = [label for sentence in y_val for label in sentence]\n",
        "y_pred_flat = [label for sentence in y_val_pred for label in sentence]\n",
        "\n",
        "print(f\"True Labels: {len(y_true_flat)}, Predicted Labels: {len(y_pred_flat)}\")\n",
        "\n",
        "\n"
      ]
    },
    {
      "cell_type": "markdown",
      "metadata": {
        "id": "LS9foWfdXHOg"
      },
      "source": [
        "##### **9.1.2** Iterate the validation data and collect Error Information<font color = red> [2 marks]</font> <br>\n",
        "\n",
        "\n",
        "\n",
        "Iterate through validation data (X_val, y_val_labels, y_pred_val) and compare true vs. predicted labels. Collect error details, including surrounding context, previous/next tokens, and class weights, then store them in error_data"
      ]
    },
    {
      "cell_type": "code",
      "execution_count": 182,
      "metadata": {
        "id": "_VKLc1s0U0yY",
        "colab": {
          "base_uri": "https://localhost:8080/"
        },
        "outputId": "f0d94f97-4198-461c-d987-1e6aeded42b7"
      },
      "outputs": [
        {
          "output_type": "stream",
          "name": "stdout",
          "text": [
            "Length of y_true_flat: 2149, Length of y_pred_flat: 7\n",
            "Tracked Errors: 4\n"
          ]
        }
      ],
      "source": [
        "# iterate and collect Error Information\n",
        "print(f\"Length of y_true_flat: {len(y_true_flat)}, Length of y_pred_flat: {len(y_pred_flat)}\")\n",
        "\n",
        "            # get previous and next tokens with handling for boundary cases\n",
        "\n",
        "min_length = min(len(y_true_flat), len(y_pred_flat))\n",
        "\n",
        "errors = [(y_true_flat[i], y_pred_flat[i]) for i in range(min_length) if y_true_flat[i] != y_pred_flat[i]]\n",
        "\n",
        "print(f\"Tracked Errors: {len(errors)}\")\n",
        "\n"
      ]
    },
    {
      "cell_type": "markdown",
      "metadata": {
        "id": "G_R8CCAFZSzF"
      },
      "source": [
        "##### **9.1.3** Create dataframe from error_data and print overall accuracy <font color = red>[1 marks]</font> <br>\n",
        "\n",
        "\n",
        "\n",
        "Change error_data into dataframe and then use it to illustrate the overall accuracy of validation data"
      ]
    },
    {
      "cell_type": "code",
      "execution_count": 183,
      "metadata": {
        "id": "fUffRP7XU3YC",
        "colab": {
          "base_uri": "https://localhost:8080/"
        },
        "outputId": "4dadd171-a761-48bc-f478-f264de1c5411"
      },
      "outputs": [
        {
          "output_type": "stream",
          "name": "stdout",
          "text": [
            "   True Label Predicted Label\n",
            "0    quantity        quantity\n",
            "1        unit            unit\n",
            "2  ingredient      ingredient\n",
            "3    quantity      ingredient\n",
            "4        unit        quantity\n",
            "Overall Model Accuracy: 0.4286\n"
          ]
        }
      ],
      "source": [
        "# Create DataFrame and Print Overall Accuracy\n",
        "import pandas as pd\n",
        "from sklearn.metrics import accuracy_score\n",
        "\n",
        "# Flatten labels and predictions\n",
        "y_true_flat = [label for sentence in y_val for label in sentence]\n",
        "y_pred_flat = [label for sentence in y_val_pred for label in sentence]\n",
        "\n",
        "# Ensure lengths match before creating DataFrame\n",
        "min_length = min(len(y_true_flat), len(y_pred_flat))\n",
        "y_true_flat = y_true_flat[:min_length]\n",
        "y_pred_flat = y_pred_flat[:min_length]\n",
        "\n",
        "# Create DataFrame\n",
        "df_results = pd.DataFrame({\n",
        "    \"True Label\": y_true_flat,\n",
        "    \"Predicted Label\": y_pred_flat\n",
        "})\n",
        "\n",
        "# Print DataFrame sample\n",
        "print(df_results.head())\n",
        "\n",
        "# Step 2: Calculate Overall Accuracy\n",
        "overall_accuracy = accuracy_score(y_true_flat, y_pred_flat)\n",
        "print(f\"Overall Model Accuracy: {overall_accuracy:.4f}\")\n"
      ]
    },
    {
      "cell_type": "markdown",
      "metadata": {
        "id": "8OUYHFmgZhgJ"
      },
      "source": [
        "##### **9.1.4** Analyse errors by label type<font color = red> [3 marks]</font> <br>\n",
        "Analyse errors found in the validation data by each label and display their class weights along with accuracy and also display the error dataframe with token,  previous token, next token, true label, predicted label and context"
      ]
    },
    {
      "cell_type": "code",
      "execution_count": 184,
      "metadata": {
        "collapsed": true,
        "id": "zu8CtjU6WR9l",
        "jupyter": {
          "outputs_hidden": true
        },
        "colab": {
          "base_uri": "https://localhost:8080/"
        },
        "outputId": "75beff49-7043-4df0-886e-72bf7144daca"
      },
      "outputs": [
        {
          "output_type": "stream",
          "name": "stdout",
          "text": [
            "Errors Found by Label:\n",
            "quantity: 2 errors\n",
            "unit: 1 errors\n",
            "ingredient: 1 errors\n"
          ]
        }
      ],
      "source": [
        "# Analyse errors found in the validation data by each label\n",
        "# and display their class weights along with accuracy\n",
        "# and display the error dataframe with token, previous token, next token, true label, predicted label and context\n",
        "\n",
        "from collections import Counter\n",
        "\n",
        "# Count errors for each label\n",
        "errors_by_label = Counter([true_label for true_label, pred_label in errors])\n",
        "print(\"Errors Found by Label:\")\n",
        "for label, count in errors_by_label.items():\n",
        "    print(f\"{label}: {count} errors\")\n"
      ]
    },
    {
      "cell_type": "code",
      "source": [
        "from sklearn.metrics import accuracy_score\n",
        "\n",
        "# Calculate per-class accuracy\n",
        "class_accuracy = {}\n",
        "for label in set(y_true_flat):\n",
        "    true_labels = [1 if lbl == label else 0 for lbl in y_true_flat]\n",
        "    pred_labels = [1 if lbl == label else 0 for lbl in y_pred_flat]\n",
        "    class_accuracy[label] = accuracy_score(true_labels, pred_labels)\n",
        "\n",
        "# Display class weights & accuracy\n",
        "print(\"\\nClass Weights & Accuracy:\")\n",
        "for label in class_accuracy:\n",
        "    weight = weight_dict.get(label, 1.0)  # Default weight if not found\n",
        "    print(f\"Label: {label}, Weight: {weight}, Accuracy: {class_accuracy[label]:.4f}\")\n"
      ],
      "metadata": {
        "colab": {
          "base_uri": "https://localhost:8080/"
        },
        "id": "M81ECihVdTC9",
        "outputId": "53570d4b-03bd-4071-91c4-ec1b2b0d82d5"
      },
      "execution_count": 185,
      "outputs": [
        {
          "output_type": "stream",
          "name": "stdout",
          "text": [
            "\n",
            "Class Weights & Accuracy:\n",
            "Label: unit, Weight: 2.0, Accuracy: 0.7143\n",
            "Label: ingredient, Weight: 1.0, Accuracy: 0.5714\n",
            "Label: quantity, Weight: 1.5, Accuracy: 0.5714\n"
          ]
        }
      ]
    },
    {
      "cell_type": "code",
      "source": [
        "import pandas as pd\n",
        "\n",
        "# Create error dataframe with token context\n",
        "for i, sentence in enumerate(X_val):\n",
        "    print(f\"Sentence {i} length: {len(sentence)}\")\n",
        "\n"
      ],
      "metadata": {
        "colab": {
          "base_uri": "https://localhost:8080/"
        },
        "id": "eh0OEJv5dWml",
        "outputId": "37dbf96d-f196-4860-d6d0-3302d03576a3"
      },
      "execution_count": 187,
      "outputs": [
        {
          "output_type": "stream",
          "name": "stdout",
          "text": [
            "Sentence 0 length: 4\n",
            "Sentence 1 length: 3\n"
          ]
        }
      ]
    },
    {
      "cell_type": "markdown",
      "metadata": {
        "id": "Q3n74kVvEV3q"
      },
      "source": [
        "### **9.2** *Provide insights from the validation dataset* <font color = red>[2 marks]</font>\n",
        "\n",
        "\n"
      ]
    },
    {
      "cell_type": "markdown",
      "source": [],
      "metadata": {
        "id": "4CdmWgEseLEX"
      }
    },
    {
      "cell_type": "markdown",
      "source": [],
      "metadata": {
        "id": "-wYTvePweKth"
      }
    },
    {
      "cell_type": "markdown",
      "metadata": {
        "id": "aWZdf1O_vWnD"
      },
      "source": [
        " <font color = red> Step 1: Counts errors per label for deeper insights.\n",
        "\n",
        "Step 2: Displays class weights and computes accuracy per label.\n",
        "\n",
        "Step 3: Builds an error DataFrame with token context to analyze misclassifications. </font>"
      ]
    },
    {
      "cell_type": "markdown",
      "metadata": {
        "id": "qUjFPBMxH20n"
      },
      "source": [
        "## **10** Conclusion (Optional) <font color = red>[0 marks]</font> <br>\n",
        "\n",
        "\n",
        " 1) **Ensure feature extraction consistency:**  The sent2features() function should be verified to ensure that X_val_features correctly mirrors X_train_features in structure.\n",
        "\n",
        "2) **Re-train the model after fixing features:** Before running predictions, ensure the CRF model is trained with properly formatted training data.\n",
        "\n",
        "3) **Check per-sentence predictions:** Validate if the CRF model generates the same number of predictions as expected labels for each sentence.\n",
        "\n",
        "4)**Modify error tracking:** Adjust label mismatch tracking to handle cases where predictions are shorter than expected."
      ]
    }
  ],
  "metadata": {
    "colab": {
      "provenance": []
    },
    "kernelspec": {
      "display_name": "Python 3 (ipykernel)",
      "language": "python",
      "name": "python3"
    },
    "language_info": {
      "codemirror_mode": {
        "name": "ipython",
        "version": 3
      },
      "file_extension": ".py",
      "mimetype": "text/x-python",
      "name": "python",
      "nbconvert_exporter": "python",
      "pygments_lexer": "ipython3",
      "version": "3.12.4"
    }
  },
  "nbformat": 4,
  "nbformat_minor": 0
}